{
 "cells": [
  {
   "cell_type": "code",
   "execution_count": 2,
   "id": "7008443b",
   "metadata": {},
   "outputs": [],
   "source": [
    "import torch\n",
    "import lovely_tensors as lt\n",
    "lt.monkey_patch()\n",
    "\n",
    "from datasets import load_dataset\n",
    "import warnings\n",
    "warnings.filterwarnings(\"ignore\")"
   ]
  },
  {
   "cell_type": "markdown",
   "id": "fc779db7",
   "metadata": {},
   "source": [
    "## Notebook objectives\n",
    "1. Obtain a standard text dataset from huggingface\n",
    "2. Use RNN for text classification\n",
    "3. Use LSTM for text classification\n",
    "4. Use GRU for text classification"
   ]
  },
  {
   "cell_type": "markdown",
   "id": "07befe98",
   "metadata": {},
   "source": [
    "# Download the dataset"
   ]
  },
  {
   "cell_type": "code",
   "execution_count": 3,
   "id": "55f0e74b",
   "metadata": {},
   "outputs": [
    {
     "data": {
      "text/plain": [
       "DatasetDict({\n",
       "    train: Dataset({\n",
       "        features: ['text', 'labels', 'id'],\n",
       "        num_rows: 43410\n",
       "    })\n",
       "    validation: Dataset({\n",
       "        features: ['text', 'labels', 'id'],\n",
       "        num_rows: 5426\n",
       "    })\n",
       "    test: Dataset({\n",
       "        features: ['text', 'labels', 'id'],\n",
       "        num_rows: 5427\n",
       "    })\n",
       "})"
      ]
     },
     "execution_count": 3,
     "metadata": {},
     "output_type": "execute_result"
    }
   ],
   "source": [
    "data_hf = load_dataset(\"google-research-datasets/go_emotions\")\n",
    "data_hf"
   ]
  },
  {
   "cell_type": "code",
   "execution_count": 4,
   "id": "1e02baea",
   "metadata": {},
   "outputs": [
    {
     "name": "stdout",
     "output_type": "stream",
     "text": [
      "28\n",
      "{0: 'admiration', 1: 'amusement', 2: 'anger', 3: 'annoyance', 4: 'approval', 5: 'caring', 6: 'confusion', 7: 'curiosity', 8: 'desire', 9: 'disappointment', 10: 'disapproval', 11: 'disgust', 12: 'embarrassment', 13: 'excitement', 14: 'fear', 15: 'gratitude', 16: 'grief', 17: 'joy', 18: 'love', 19: 'nervousness', 20: 'optimism', 21: 'pride', 22: 'realization', 23: 'relief', 24: 'remorse', 25: 'sadness', 26: 'surprise', 27: 'neutral'}\n"
     ]
    }
   ],
   "source": [
    "labels = data_hf['train'].features['labels'].feature.names\n",
    "print(len(labels))\n",
    "print({i:l for i, l in enumerate(labels)})"
   ]
  },
  {
   "cell_type": "markdown",
   "id": "d673918a",
   "metadata": {},
   "source": [
    "There are approx 43k rows in train set and 5k rows in each of validation set and test set. There are 28 labels in our dataset."
   ]
  },
  {
   "cell_type": "code",
   "execution_count": 5,
   "id": "b8004479",
   "metadata": {},
   "outputs": [
    {
     "data": {
      "application/vnd.microsoft.datawrangler.viewer.v0+json": {
       "columns": [
        {
         "name": "index",
         "rawType": "int64",
         "type": "integer"
        },
        {
         "name": "text",
         "rawType": "object",
         "type": "string"
        },
        {
         "name": "labels",
         "rawType": "object",
         "type": "unknown"
        },
        {
         "name": "id",
         "rawType": "object",
         "type": "string"
        }
       ],
       "ref": "f4cdee3e-f14c-4f5d-aeba-a509e58aa655",
       "rows": [
        [
         "0",
         "My favourite food is anything I didn't have to cook myself.",
         "[27]",
         "eebbqej"
        ],
        [
         "1",
         "Now if he does off himself, everyone will think hes having a laugh screwing with people instead of actually dead",
         "[27]",
         "ed00q6i"
        ],
        [
         "2",
         "WHY THE FUCK IS BAYLESS ISOING",
         "[2]",
         "eezlygj"
        ],
        [
         "3",
         "To make her feel threatened",
         "[14]",
         "ed7ypvh"
        ],
        [
         "4",
         "Dirty Southern Wankers",
         "[3]",
         "ed0bdzj"
        ],
        [
         "5",
         "OmG pEyToN iSn'T gOoD eNoUgH tO hElP uS iN tHe PlAyOfFs! Dumbass Broncos fans circa December 2015.",
         "[26]",
         "edvnz26"
        ],
        [
         "6",
         "Yes I heard abt the f bombs! That has to be why. Thanks for your reply:) until then hubby and I will anxiously wait 😝",
         "[15]",
         "ee3b6wu"
        ],
        [
         "7",
         "We need more boards and to create a bit more space for [NAME]. Then we’ll be good.",
         "[ 8 20]",
         "ef4qmod"
        ],
        [
         "8",
         "Damn youtube and outrage drama is super lucrative for reddit",
         "[0]",
         "ed8wbdn"
        ],
        [
         "9",
         "It might be linked to the trust factor of your friend.",
         "[27]",
         "eczgv1o"
        ],
        [
         "10",
         "Demographics? I don’t know anybody under 35 who has cable tv.",
         "[6]",
         "eel6g5h"
        ],
        [
         "11",
         "Aww... she'll probably come around eventually, I'm sure she was just jealous of [NAME]... I mean, what woman wouldn't be! lol ",
         "[1 4]",
         "edex4ki"
        ],
        [
         "12",
         "Hello everyone. Im from Toronto as well. Can call and visit in personal if needed.",
         "[27]",
         "ef83m1s"
        ],
        [
         "13",
         "R/sleeptrain Might be time for some sleep training. Take a look and try to feel out what's right for your family.",
         "[5]",
         "efh7xnk"
        ],
        [
         "14",
         "[NAME] - same fucking problem, slightly better command of the English language.",
         "[3]",
         "efdqav7"
        ],
        [
         "15",
         "Shit, I guess I accidentally bought a Pay-Per-View boxing match",
         "[ 3 12]",
         "edivtm3"
        ],
        [
         "16",
         "Thank you friend",
         "[15]",
         "eeqd04y"
        ],
        [
         "17",
         "Fucking coward.",
         "[2]",
         "edk0z9k"
        ],
        [
         "18",
         "that is what retardation looks like",
         "[27]",
         "eeb9aft"
        ],
        [
         "19",
         "Maybe that’s what happened to the great white at Houston zoo",
         "[ 6 22]",
         "eczq8zg"
        ],
        [
         "20",
         "I never thought it was at the same moment, but sometimes after [NAME] sacrifice... sounds logical",
         "[ 6  9 27]",
         "efdlhs1"
        ],
        [
         "21",
         "i got a bump and a bald spot. i feel dumb <3",
         "[12]",
         "ee4tgim"
        ],
        [
         "22",
         "You are going to do the dishes now",
         "[27]",
         "ee7it59"
        ],
        [
         "23",
         "Slowing things down now",
         "[27]",
         "ed4nz06"
        ],
        [
         "24",
         "His name has already been released. Just can't post it here.",
         "[27]",
         "ee18uaj"
        ],
        [
         "25",
         "Stupidly stubborn / stubbornly stupid",
         "[2]",
         "edkh6qo"
        ],
        [
         "26",
         "Mine was apparently [NAME] and the giant peach!",
         "[27]",
         "edafy84"
        ],
        [
         "27",
         "I miss them being alive",
         "[16 25]",
         "ee8mzwa"
        ],
        [
         "28",
         "Super, thanks",
         "[15]",
         "ef462jc"
        ],
        [
         "29",
         "A new study just came out from China that it's actually too late.",
         "[27]",
         "ee62fgk"
        ],
        [
         "30",
         "Troll, bro. They know they're saying stupid shit. The motherfucker does nothing but stink up libertarian subs talking shit",
         "[2]",
         "eebcbcp"
        ],
        [
         "31",
         "All sounds possible except the key, I can't see how it was missed in the first search. ",
         "[6]",
         "ed7wf2c"
        ],
        [
         "32",
         "Your aunt has some damn nerve, though!",
         "[27]",
         "edmcxu7"
        ],
        [
         "33",
         "Ok, then what the actual fuck is your plan?",
         "[2 7]",
         "ee7ujla"
        ],
        [
         "34",
         "What does FPTP have to do with the referendum?",
         "[6]",
         "edtqqyi"
        ],
        [
         "35",
         "Happy to be able to help.",
         "[17]",
         "efeu6uo"
        ],
        [
         "36",
         "18 is hot but very bland, it's just here this blonde lady who is not as hot as blonde launch.",
         "[27]",
         "ef81n89"
        ],
        [
         "37",
         "Famous for his 3-4 Defense",
         "[0]",
         "ednhqdr"
        ],
        [
         "38",
         "Pretty sure I’ve seen this. He swings away with the harness he is wearing. Still looks painful but I think he lives",
         "[25]",
         "ed0i62x"
        ],
        [
         "39",
         "When I feel down I listen to music.",
         "[27]",
         "ed6mn9k"
        ],
        [
         "40",
         "aw, thanks! I appreciate that! ",
         "[ 0 15]",
         "eecj1hh"
        ],
        [
         "41",
         "Thanks! I love watching him every week",
         "[15 18]",
         "eexgn84"
        ],
        [
         "42",
         "I read on a different post that he died shortly after of internal injuries.",
         "[16 27]",
         "ed2wzm6"
        ],
        [
         "43",
         "Honestly it sounds exhausting being married to him. Maybe it will be better for you in the long run.",
         "[27]",
         "ef7hdbf"
        ],
        [
         "44",
         "It's crazy how far Photoshop has come. Underwater bridges?!! NEVER!!!",
         "[ 7 13]",
         "efanc6t"
        ],
        [
         "45",
         "I wouldn't let a sweet potato dictate decisions, ever.",
         "[10]",
         "eddo15s"
        ],
        [
         "46",
         "It's true though. He either gets no shirt and freezes to death or wears a stupid looking butchers cape. I hope he gets something better next season",
         "[20]",
         "edrbhky"
        ],
        [
         "47",
         "It's a better option because it's my life and none of your business? Lmfao, who are you",
         "[27]",
         "ednnkuc"
        ],
        [
         "48",
         "Sack, shaft, and tip. The trifecta. ",
         "[27]",
         "edly6hm"
        ],
        [
         "49",
         "I know. My question was if they **used** to compete in T5-TTT2.",
         "[27]",
         "efdj3ai"
        ]
       ],
       "shape": {
        "columns": 3,
        "rows": 43410
       }
      },
      "text/html": [
       "<div>\n",
       "<style scoped>\n",
       "    .dataframe tbody tr th:only-of-type {\n",
       "        vertical-align: middle;\n",
       "    }\n",
       "\n",
       "    .dataframe tbody tr th {\n",
       "        vertical-align: top;\n",
       "    }\n",
       "\n",
       "    .dataframe thead th {\n",
       "        text-align: right;\n",
       "    }\n",
       "</style>\n",
       "<table border=\"1\" class=\"dataframe\">\n",
       "  <thead>\n",
       "    <tr style=\"text-align: right;\">\n",
       "      <th></th>\n",
       "      <th>text</th>\n",
       "      <th>labels</th>\n",
       "      <th>id</th>\n",
       "    </tr>\n",
       "  </thead>\n",
       "  <tbody>\n",
       "    <tr>\n",
       "      <th>0</th>\n",
       "      <td>My favourite food is anything I didn't have to...</td>\n",
       "      <td>[27]</td>\n",
       "      <td>eebbqej</td>\n",
       "    </tr>\n",
       "    <tr>\n",
       "      <th>1</th>\n",
       "      <td>Now if he does off himself, everyone will thin...</td>\n",
       "      <td>[27]</td>\n",
       "      <td>ed00q6i</td>\n",
       "    </tr>\n",
       "    <tr>\n",
       "      <th>2</th>\n",
       "      <td>WHY THE FUCK IS BAYLESS ISOING</td>\n",
       "      <td>[2]</td>\n",
       "      <td>eezlygj</td>\n",
       "    </tr>\n",
       "    <tr>\n",
       "      <th>3</th>\n",
       "      <td>To make her feel threatened</td>\n",
       "      <td>[14]</td>\n",
       "      <td>ed7ypvh</td>\n",
       "    </tr>\n",
       "    <tr>\n",
       "      <th>4</th>\n",
       "      <td>Dirty Southern Wankers</td>\n",
       "      <td>[3]</td>\n",
       "      <td>ed0bdzj</td>\n",
       "    </tr>\n",
       "    <tr>\n",
       "      <th>...</th>\n",
       "      <td>...</td>\n",
       "      <td>...</td>\n",
       "      <td>...</td>\n",
       "    </tr>\n",
       "    <tr>\n",
       "      <th>43405</th>\n",
       "      <td>Added you mate well I’ve just got the bow and ...</td>\n",
       "      <td>[18]</td>\n",
       "      <td>edsb738</td>\n",
       "    </tr>\n",
       "    <tr>\n",
       "      <th>43406</th>\n",
       "      <td>Always thought that was funny but is it a refe...</td>\n",
       "      <td>[6]</td>\n",
       "      <td>ee7fdou</td>\n",
       "    </tr>\n",
       "    <tr>\n",
       "      <th>43407</th>\n",
       "      <td>What are you talking about? Anything bad that ...</td>\n",
       "      <td>[3]</td>\n",
       "      <td>efgbhks</td>\n",
       "    </tr>\n",
       "    <tr>\n",
       "      <th>43408</th>\n",
       "      <td>More like a baptism, with sexy results!</td>\n",
       "      <td>[13]</td>\n",
       "      <td>ed1naf8</td>\n",
       "    </tr>\n",
       "    <tr>\n",
       "      <th>43409</th>\n",
       "      <td>Enjoy the ride!</td>\n",
       "      <td>[17]</td>\n",
       "      <td>eecwmbq</td>\n",
       "    </tr>\n",
       "  </tbody>\n",
       "</table>\n",
       "<p>43410 rows × 3 columns</p>\n",
       "</div>"
      ],
      "text/plain": [
       "                                                    text labels       id\n",
       "0      My favourite food is anything I didn't have to...   [27]  eebbqej\n",
       "1      Now if he does off himself, everyone will thin...   [27]  ed00q6i\n",
       "2                         WHY THE FUCK IS BAYLESS ISOING    [2]  eezlygj\n",
       "3                            To make her feel threatened   [14]  ed7ypvh\n",
       "4                                 Dirty Southern Wankers    [3]  ed0bdzj\n",
       "...                                                  ...    ...      ...\n",
       "43405  Added you mate well I’ve just got the bow and ...   [18]  edsb738\n",
       "43406  Always thought that was funny but is it a refe...    [6]  ee7fdou\n",
       "43407  What are you talking about? Anything bad that ...    [3]  efgbhks\n",
       "43408            More like a baptism, with sexy results!   [13]  ed1naf8\n",
       "43409                                    Enjoy the ride!   [17]  eecwmbq\n",
       "\n",
       "[43410 rows x 3 columns]"
      ]
     },
     "execution_count": 5,
     "metadata": {},
     "output_type": "execute_result"
    }
   ],
   "source": [
    "data_hf['train'].to_pandas()"
   ]
  },
  {
   "cell_type": "code",
   "execution_count": 6,
   "id": "2ebbf59a",
   "metadata": {},
   "outputs": [],
   "source": [
    "train_y = [x[0] for x in data_hf['train']['labels']]\n",
    "val_y = [x[0] for x in data_hf['validation']['labels']]\n",
    "test_y = [x[0] for x in data_hf['test']['labels']]"
   ]
  },
  {
   "cell_type": "code",
   "execution_count": 7,
   "id": "17c28263",
   "metadata": {},
   "outputs": [
    {
     "name": "stdout",
     "output_type": "stream",
     "text": [
      "Vocabulary size: 5000\n",
      "Sample vocab: [('<PAD>', 0), ('<UNK>', 1), ('the', 2), ('i', 3), ('to', 4), ('a', 5), ('and', 6), ('you', 7), ('is', 8), ('that', 9)]\n",
      "Train shape: torch.Size([43410, 16]), torch.Size([43410])\n",
      "Val shape: torch.Size([5426, 16]), torch.Size([5426])\n",
      "Test shape: torch.Size([5427, 16]), torch.Size([5427])\n"
     ]
    }
   ],
   "source": [
    "# Text preprocessing and tokenization\n",
    "from collections import Counter\n",
    "import numpy as np\n",
    "\n",
    "class TextDataProcessor:\n",
    "    def __init__(self, vocab_size=10000, max_length=128):\n",
    "        self.vocab_size = vocab_size\n",
    "        self.max_length = max_length\n",
    "        self.word_to_idx = {}\n",
    "        self.idx_to_word = {}\n",
    "        self.vocab_built = False\n",
    "        \n",
    "    def build_vocab(self, texts):\n",
    "        \"\"\"Build vocabulary from training texts\"\"\"\n",
    "        word_counts = Counter()\n",
    "        for text in texts:\n",
    "            words = text.lower().split()\n",
    "            word_counts.update(words)\n",
    "        \n",
    "        # Keep most frequent words\n",
    "        most_common = word_counts.most_common(self.vocab_size - 2)  # -2 for PAD and UNK\n",
    "        \n",
    "        # Build mappings\n",
    "        self.word_to_idx = {'<PAD>': 0, '<UNK>': 1}\n",
    "        self.idx_to_word = {0: '<PAD>', 1: '<UNK>'}\n",
    "        \n",
    "        for i, (word, _) in enumerate(most_common, start=2):\n",
    "            self.word_to_idx[word] = i\n",
    "            self.idx_to_word[i] = word\n",
    "            \n",
    "        self.vocab_built = True\n",
    "        \n",
    "    def text_to_indices(self, text):\n",
    "        \"\"\"Convert text to sequence of indices\"\"\"\n",
    "        words = text.lower().split()\n",
    "        indices = []\n",
    "        for word in words:\n",
    "            idx = self.word_to_idx.get(word, 1)  # 1 is UNK token\n",
    "            indices.append(idx)\n",
    "        \n",
    "        # Pad or truncate to max_length\n",
    "        if len(indices) < self.max_length:\n",
    "            indices.extend([0] * (self.max_length - len(indices)))\n",
    "        else:\n",
    "            indices = indices[:self.max_length]\n",
    "            \n",
    "        return indices\n",
    "\n",
    "# Process the go_emotions dataset\n",
    "processor = TextDataProcessor(vocab_size=5000, max_length=16)\n",
    "\n",
    "# Extract texts from training set\n",
    "train_texts = [example['text'] for example in data_hf['train']]\n",
    "processor.build_vocab(train_texts)\n",
    "\n",
    "print(f\"Vocabulary size: {len(processor.word_to_idx)}\")\n",
    "print(f\"Sample vocab: {list(processor.word_to_idx.items())[:10]}\")\n",
    "\n",
    "# Convert texts to indices\n",
    "train_sequences = [processor.text_to_indices(text) for text in train_texts]\n",
    "val_sequences = [processor.text_to_indices(text) for text in data_hf['validation']['text']]\n",
    "test_sequences = [processor.text_to_indices(text) for text in data_hf['test']['text']]\n",
    "\n",
    "# Convert to tensors\n",
    "train_X = torch.tensor(train_sequences)\n",
    "val_X = torch.tensor(val_sequences)\n",
    "test_X = torch.tensor(test_sequences)\n",
    "\n",
    "# Get labels (multi-label classification)\n",
    "train_y = torch.tensor(train_y)\n",
    "val_y = torch.tensor(val_y)\n",
    "test_y = torch.tensor(test_y)\n",
    "\n",
    "print(f\"Train shape: {train_X.shape}, {train_y.shape}\")\n",
    "print(f\"Val shape: {val_X.shape}, {val_y.shape}\")\n",
    "print(f\"Test shape: {test_X.shape}, {test_y.shape}\")"
   ]
  },
  {
   "cell_type": "markdown",
   "id": "e7cc1f12",
   "metadata": {},
   "source": [
    "The training dataset is a large matrix - 43410x16 in size. We will have to take small sets of data (batches) onto the GPU to train the model. Let's code a dataloader now."
   ]
  },
  {
   "cell_type": "code",
   "execution_count": 8,
   "id": "c892a539",
   "metadata": {},
   "outputs": [],
   "source": [
    "from torch.utils.data import DataLoader, TensorDataset\n",
    "\n",
    "batch_size = 8\n",
    "\n",
    "train_dataset = TensorDataset(train_X, train_y)\n",
    "val_dataset = TensorDataset(val_X, val_y)\n",
    "\n",
    "train_dataloader = DataLoader(train_dataset, batch_size=8, shuffle=False, num_workers=0)\n",
    "val_dataloader = DataLoader(val_dataset, batch_size=8, shuffle=False, num_workers=0)"
   ]
  },
  {
   "cell_type": "code",
   "execution_count": 9,
   "id": "4bb9e4f1",
   "metadata": {},
   "outputs": [
    {
     "name": "stdout",
     "output_type": "stream",
     "text": [
      "Batch input shape: torch.Size([8, 16])\n",
      "Batch target shape: torch.Size([8])\n",
      "Target values: tensor[8] i64 x∈[2, 27] μ=15.250 σ=10.498 [27, 27, 2, 14, 3, 26, 15, 8]\n"
     ]
    }
   ],
   "source": [
    "for batch_x, batch_y in train_dataloader:\n",
    "    print(f\"Batch input shape: {batch_x.shape}\")\n",
    "    print(f\"Batch target shape: {batch_y.shape}\")\n",
    "    print(f\"Target values:\", batch_y)\n",
    "    break"
   ]
  },
  {
   "cell_type": "code",
   "execution_count": 12,
   "id": "cadbc02f",
   "metadata": {},
   "outputs": [],
   "source": [
    "# layer = torch.nn.RNN(5000, hidden_size=5, num_layers=1, batch_first=True, dropout=0.5)\n",
    "# layer(batch_x)"
   ]
  },
  {
   "cell_type": "code",
   "execution_count": 153,
   "id": "41812e89",
   "metadata": {},
   "outputs": [
    {
     "data": {
      "text/plain": [
       "(tensor[6] x∈[1.000, 6.000] μ=3.500 σ=1.871 [1.000, 2.000, 3.000, 4.000, 5.000, 6.000]\n",
       " tensor([1., 2., 3., 4., 5., 6.]),\n",
       " tensor[6] x∈[0., 6.000] μ=1.000 σ=2.449 [0., 0., 6.000, 0., 0., 0.]\n",
       " tensor([0., 0., 6., 0., 0., 0.]))"
      ]
     },
     "execution_count": 153,
     "metadata": {},
     "output_type": "execute_result"
    }
   ],
   "source": [
    "t = torch.tensor([1,2,3,4,5,6]).float()\n",
    "drop = torch.nn.Dropout(0.5)\n",
    "t.v, drop(t).v"
   ]
  },
  {
   "cell_type": "code",
   "execution_count": 154,
   "id": "ca3efc80",
   "metadata": {},
   "outputs": [
    {
     "data": {
      "text/plain": [
       "(tensor[3, 4] n=12 x∈[-2.470, 1.131] μ=0.019 σ=1.026\n",
       " tensor([[ 0.0178,  1.0226,  0.3331,  0.5471],\n",
       "         [ 0.3703, -0.5445, -1.1776,  1.1312],\n",
       "         [ 0.0808,  0.9616, -2.4696, -0.0486]]),\n",
       " tensor[3, 4] n=12 x∈[-4.939, 2.045] μ=-0.116 σ=1.636\n",
       " tensor([[ 0.0356,  2.0453,  0.6662,  0.0000],\n",
       "         [ 0.7406, -0.0000, -0.0000,  0.0000],\n",
       "         [ 0.1616,  0.0000, -4.9393, -0.0973]]))"
      ]
     },
     "execution_count": 154,
     "metadata": {},
     "output_type": "execute_result"
    }
   ],
   "source": [
    "t = torch.randn((3,4)).float()\n",
    "drop = torch.nn.Dropout2d(0.5)\n",
    "t.v, drop(t).v"
   ]
  },
  {
   "cell_type": "markdown",
   "id": "8329d073",
   "metadata": {},
   "source": [
    "Once the embedding layer is defined, we need to reduce along the sequence axis so that we have batch_size x emb_sz number of elements left."
   ]
  },
  {
   "cell_type": "markdown",
   "id": "42f3091f",
   "metadata": {},
   "source": [
    "# Define the RNN model with a classification head"
   ]
  },
  {
   "cell_type": "code",
   "execution_count": 62,
   "id": "a473da1c",
   "metadata": {},
   "outputs": [],
   "source": [
    "class RNNTextClassifier(torch.nn.Module):\n",
    "    def __init__(self, vocab_size, emb_sz, hidden_dim, num_layers, num_classes, dropout_rate=0.5):\n",
    "        super().__init__()\n",
    "        self.embedding = torch.nn.Embedding(vocab_size, emb_sz, padding_idx=0)\n",
    "        self.dropout1  = torch.nn.Dropout(p=dropout_rate)\n",
    "        self.rnn = torch.nn.RNN(emb_sz, hidden_size=hidden_dim, num_layers=num_layers, batch_first=True, dropout=0.5)\n",
    "        self.fc       = torch.nn.Linear(hidden_dim, num_classes, bias=True)\n",
    "        self.dropout2  = torch.nn.Dropout(p=dropout_rate)\n",
    "\n",
    "    def forward(self, x):\n",
    "        # x shape: (batch_size, seq_len)\n",
    "        x = self.embedding(x)      # x shape: (batch_size, seq_len, emb_sz)\n",
    "        x = self.dropout1(x)       # x shape: (batch_size, seq_len, emb_sz)\n",
    "        \n",
    "        # RNN forward pass\n",
    "        rnn_out, hidden = self.rnn(x) # hidden shape: (batch_size, emb_sz, hidden_dim)\n",
    "\n",
    "        # Use the last hidden state for classification\n",
    "        last_hidden = hidden[0] # last_hidden shape: (batch_size, hidden_dim)\n",
    "\n",
    "        # FFNs\n",
    "        o = self.fc(last_hidden)  # last_hidden shape: (batch_size, num_classes)\n",
    "        o = self.dropout2(o)           # o shape: (batch_size, num_classes)\n",
    "        return o\n"
   ]
  },
  {
   "cell_type": "code",
   "execution_count": 63,
   "id": "59a897a7",
   "metadata": {},
   "outputs": [
    {
     "data": {
      "text/plain": [
       "[160000, 160, 25, 5, 5, 140, 28]"
      ]
     },
     "execution_count": 63,
     "metadata": {},
     "output_type": "execute_result"
    }
   ],
   "source": [
    "vocab_size=5000\n",
    "emb_sz = 32\n",
    "hidden_dim = 5\n",
    "num_layers = 1\n",
    "num_classes = 28\n",
    "\n",
    "model = RNNTextClassifier(vocab_size, emb_sz, hidden_dim, num_layers, num_classes)\n",
    "[p.numel() for p in model.parameters()]"
   ]
  },
  {
   "cell_type": "code",
   "execution_count": 64,
   "id": "e49db6d7",
   "metadata": {},
   "outputs": [
    {
     "data": {
      "text/plain": [
       "[('embedding.weight',\n",
       "  Parameter[5000, 32] n=160000 (0.6Mb) x∈[-4.403, 4.251] μ=-0.000 σ=1.001 grad),\n",
       " ('rnn.weight_ih_l0',\n",
       "  Parameter[5, 32] n=160 x∈[-0.439, 0.440] μ=-0.001 σ=0.242 grad),\n",
       " ('rnn.weight_hh_l0',\n",
       "  Parameter[5, 5] n=25 x∈[-0.447, 0.436] μ=0.011 σ=0.284 grad),\n",
       " ('rnn.bias_ih_l0',\n",
       "  Parameter[5] x∈[-0.436, 0.355] μ=0.013 σ=0.374 grad [0.352, -0.436, 0.355, 0.118, -0.324]),\n",
       " ('rnn.bias_hh_l0',\n",
       "  Parameter[5] x∈[-0.166, 0.243] μ=0.006 σ=0.152 grad [-0.166, -0.061, 0.045, 0.243, -0.031]),\n",
       " ('fc.weight', Parameter[28, 5] n=140 x∈[-0.438, 0.443] μ=0.010 σ=0.277 grad),\n",
       " ('fc.bias', Parameter[28] x∈[-0.395, 0.441] μ=0.089 σ=0.250 grad)]"
      ]
     },
     "execution_count": 64,
     "metadata": {},
     "output_type": "execute_result"
    }
   ],
   "source": [
    "[l for l in model.named_parameters()]"
   ]
  },
  {
   "cell_type": "markdown",
   "id": "29ebaca9",
   "metadata": {},
   "source": [
    "The `fc.weight` layer has a shape of 28x5. Hmm. Shouldn't this be `5x28` given the layer is initialized this way? `torch.nn.Linear(hidden_dim, num_classes, bias=True)`. Let's take a toy example to understand this!"
   ]
  },
  {
   "cell_type": "code",
   "execution_count": 65,
   "id": "42a086f7",
   "metadata": {},
   "outputs": [
    {
     "name": "stdout",
     "output_type": "stream",
     "text": [
      "tensor[10, 5] n=50 x∈[-0.445, 0.407] μ=-0.040 σ=0.264\n",
      "Parameter[10] x∈[-0.255, 0.384] μ=-0.049 σ=0.224 grad [-0.205, 0.384, 0.100, -0.247, -0.226, -0.021, 0.250, -0.114, -0.255, -0.153]\n"
     ]
    },
    {
     "data": {
      "text/plain": [
       "tensor[20, 10] n=200 x∈[-1.940, 2.421] μ=-0.065 σ=0.642 grad AddmmBackward0"
      ]
     },
     "execution_count": 65,
     "metadata": {},
     "output_type": "execute_result"
    }
   ],
   "source": [
    "torch.manual_seed(42)\n",
    "ex_tensor = torch.randn(20, 5)\n",
    "lin = torch.nn.Linear(5, 10)\n",
    "print(lin.weight.data)\n",
    "print(lin.bias)\n",
    "lin(ex_tensor)"
   ]
  },
  {
   "cell_type": "markdown",
   "id": "b1cb3989",
   "metadata": {},
   "source": [
    "Here, we took an example tensor `ex_tensor` which has a shape of `20x5` and we want to pass it to a linear layer with a shape `5x10`. The output needs to be `20x10` which it is. So, the computation is correct. However, it looks like the linear layer shape PyTorch stores is `10x5`. This is probably because the linear computation involves A * w^T + B. Hence, the weight matrix of the linear layer is stored in the `(out_features, in_features)` shape."
   ]
  },
  {
   "cell_type": "code",
   "execution_count": null,
   "id": "d9bb1092",
   "metadata": {},
   "outputs": [],
   "source": []
  },
  {
   "cell_type": "markdown",
   "id": "18ba7213",
   "metadata": {},
   "source": [
    "# Run the forward pass with the cross entropy loss function"
   ]
  },
  {
   "cell_type": "code",
   "execution_count": null,
   "id": "07030bc4",
   "metadata": {},
   "outputs": [],
   "source": [
    "# from torchinfo import summary\n",
    "\n",
    "# model = RNNTextClassifier(vocab_size, emb_sz, hidden_dim, num_layers, num_classes)\n",
    "# summary(model, input_size=(1, 8, 32))"
   ]
  },
  {
   "cell_type": "code",
   "execution_count": 89,
   "id": "165e5686",
   "metadata": {},
   "outputs": [
    {
     "name": "stdout",
     "output_type": "stream",
     "text": [
      " epoch: 000/020 | duration:  6.812s | train_loss:  3.115267 | val_loss:  3.023992\n",
      " epoch: 001/020 | duration:  6.755s | train_loss:  3.020417 | val_loss:  3.010564\n",
      " epoch: 002/020 | duration:  6.865s | train_loss:  3.015244 | val_loss:  3.023491\n",
      " epoch: 003/020 | duration:  6.775s | train_loss:  3.011485 | val_loss:  3.007040\n",
      " epoch: 004/020 | duration:  6.695s | train_loss:  3.006073 | val_loss:  3.005516\n",
      " epoch: 005/020 | duration:  6.883s | train_loss:  3.012870 | val_loss:  3.012431\n",
      " epoch: 006/020 | duration:  6.655s | train_loss:  3.007525 | val_loss:  2.998782\n",
      " epoch: 007/020 | duration:  6.592s | train_loss:  3.006050 | val_loss:  3.005557\n",
      " epoch: 008/020 | duration:  6.770s | train_loss:  3.010126 | val_loss:  3.012239\n",
      " epoch: 009/020 | duration:  6.720s | train_loss:  3.012504 | val_loss:  2.999853\n",
      " epoch: 010/020 | duration:  6.697s | train_loss:  3.009176 | val_loss:  3.010112\n",
      " epoch: 011/020 | duration:  6.592s | train_loss:  3.006465 | val_loss:  3.007846\n",
      " epoch: 012/020 | duration:  6.570s | train_loss:  3.007569 | val_loss:  2.991076\n",
      " epoch: 013/020 | duration:  6.539s | train_loss:  3.002938 | val_loss:  3.006398\n",
      " epoch: 014/020 | duration:  6.548s | train_loss:  3.005383 | val_loss:  3.009881\n",
      " epoch: 015/020 | duration:  6.554s | train_loss:  3.010176 | val_loss:  3.027409\n",
      " epoch: 016/020 | duration:  6.574s | train_loss:  3.005675 | val_loss:  3.009433\n",
      " epoch: 017/020 | duration:  6.530s | train_loss:  3.008340 | val_loss:  3.003080\n",
      " epoch: 018/020 | duration:  6.550s | train_loss:  3.009488 | val_loss:  2.998590\n",
      " epoch: 019/020 | duration:  6.565s | train_loss:  3.004834 | val_loss:  3.001514\n"
     ]
    }
   ],
   "source": [
    "from datetime import datetime\n",
    "\n",
    "w_means = []\n",
    "w_norms = []\n",
    "g_means = []\n",
    "g_norms = []\n",
    "losses  = []\n",
    "val_losses = []\n",
    "\n",
    "torch.manual_seed(42)\n",
    "model = RNNTextClassifier(vocab_size, emb_sz, hidden_dim, num_layers, num_classes)\n",
    "criterion = torch.nn.CrossEntropyLoss() # using cross-entropy loss as we're treating this as a multi-class classification problem\n",
    "# criterion = torch.nn.BCEWithLogitsLoss() # if multi-label :)\n",
    "optimizer = torch.optim.Adam(model.parameters(), lr=3e-4)\n",
    "\n",
    "n_epochs = 20\n",
    "epoch_start_time = 0.0\n",
    "\n",
    "for i in range(n_epochs):\n",
    "    \n",
    "    total_train_batches = 0\n",
    "    total_train_loss = 0\n",
    "    avg_train_loss = 0.0\n",
    "    epoch_start_time = datetime.now()\n",
    "\n",
    "    for batch_x, batch_y in train_dataloader:\n",
    "        y_pred = model(batch_x)\n",
    "\n",
    "        loss = criterion(y_pred, batch_y)\n",
    "\n",
    "        # reset the gradients\n",
    "        optimizer.zero_grad()\n",
    "        \n",
    "        # backward pass\n",
    "        loss.backward()\n",
    "\n",
    "        # update the weights by a small amount\n",
    "        optimizer.step()\n",
    "\n",
    "        # print(f\" epoch: {i:03d}/{n_epochs:03d} | batch: {b:03d}/train_loss: {loss: 3f} | val_loss: {val_loss: 3f}\")\n",
    "        \n",
    "        total_train_batches += 1\n",
    "        total_train_loss += loss.item()\n",
    "\n",
    "    avg_train_loss = total_train_loss / total_train_batches\n",
    "\n",
    "    # eval\n",
    "    total_val_batches = 0\n",
    "    total_val_loss = 0\n",
    "\n",
    "    with torch.no_grad():\n",
    "        for batch_x, batch_y in val_dataloader:\n",
    "            val_preds = model(batch_x)\n",
    "\n",
    "            val_loss = criterion(val_preds, batch_y)\n",
    "            total_val_loss += val_loss.item()\n",
    "            total_val_batches += 1\n",
    "\n",
    "    avg_val_loss = total_val_loss / total_val_batches\n",
    "\n",
    "    all_w_params = torch.cat([p.data.view(-1) for p in model.parameters()])\n",
    "    w_means.append(torch.mean(all_w_params).item())\n",
    "    w_norms.append(torch.norm(all_w_params).item())\n",
    "\n",
    "    all_grad_params = torch.cat([p.grad.data.view(-1) for p in model.parameters()])\n",
    "    g_means.append(torch.mean(all_grad_params).item())\n",
    "    g_norms.append(torch.norm(all_grad_params).item())\n",
    "\n",
    "    losses.append(loss.item())\n",
    "    val_losses.append(val_loss.item())\n",
    "\n",
    "    epoch_duration = (datetime.now() - epoch_start_time).total_seconds()\n",
    "    print(f\" epoch: {i:03d}/{n_epochs:03d} | duration: {epoch_duration: 3.3f}s | train_loss: {avg_train_loss: 3f} | val_loss: {avg_val_loss: 3f}\")\n"
   ]
  },
  {
   "cell_type": "code",
   "execution_count": 90,
   "id": "e960577c",
   "metadata": {},
   "outputs": [
    {
     "data": {
      "image/png": "[encoded data removed]",
      "text/plain": [
       "<Figure size 1200x400 with 2 Axes>"
      ]
     },
     "metadata": {},
     "output_type": "display_data"
    }
   ],
   "source": [
    "import matplotlib.pyplot as plt\n",
    "%matplotlib inline\n",
    "\n",
    "fig, axes = plt.subplots(1, 2, figsize=(12, 4))\n",
    "\n",
    "epochs = list(range(n_epochs))\n",
    "\n",
    "# Plot train and val loss on the same plot\n",
    "axes[0].plot(epochs, losses, label='Train Loss', color='blue', marker='o', linestyle='dashed', alpha=0.7)\n",
    "axes[0].plot(epochs, val_losses, label='Val Loss', color='red', marker='o', linestyle='dashed', alpha=0.7)\n",
    "axes[0].set_xlabel('Epoch')\n",
    "axes[0].set_ylabel('Loss')\n",
    "axes[0].set_title('LSTM Model - Train & Val Loss Across Epochs')\n",
    "axes[0].set_xticks(epochs)\n",
    "axes[0].set_ylim(bottom=0)  # Start y-axis from zero\n",
    "axes[0].grid(True)\n",
    "axes[0].legend()\n",
    "\n",
    "# Plot gradient norms\n",
    "axes[1].scatter(epochs, g_norms, color='green')\n",
    "axes[1].plot(epochs, g_norms, linestyle='dashed', alpha=0.5)\n",
    "axes[1].set_xlabel('Epoch')\n",
    "axes[1].set_ylabel('Norm of Grad Parameters')\n",
    "axes[1].set_title('Norm of Grad Parameters Across Epochs')\n",
    "axes[1].set_xticks(epochs)\n",
    "axes[1].set_ylim(bottom=0)  # Start y-axis from zero\n",
    "axes[1].grid(True)\n",
    "\n",
    "plt.tight_layout()\n",
    "plt.show()\n"
   ]
  },
  {
   "cell_type": "markdown",
   "id": "c1f9d374",
   "metadata": {},
   "source": [
    "# Let's change the model to a GRU!\n",
    "\n",
    "GRUs are another form of RNNs which are more effective at handling the vanishing gradient problem!\n",
    "\n",
    "They are faster to train than LSTMs and require less memory.\n",
    "\n",
    "They are also sensitive to dropout and hence dropout is recommended only if there are many hidden layers."
   ]
  },
  {
   "cell_type": "code",
   "execution_count": 91,
   "id": "44f76694",
   "metadata": {},
   "outputs": [],
   "source": [
    "class GRUTextClassifier(torch.nn.Module):\n",
    "    def __init__(self, vocab_size, emb_sz, hidden_dim, num_layers, num_classes, dropout_rate=0.5):\n",
    "        super().__init__()\n",
    "        self.embedding = torch.nn.Embedding(vocab_size, emb_sz, padding_idx=0)\n",
    "        self.dropout1  = torch.nn.Dropout(p=dropout_rate)\n",
    "        self.gru = torch.nn.GRU(input_size=emb_sz, hidden_size=hidden_dim, num_layers=1, batch_first=True, dropout=0.5 if num_layers > 1 else 0, bidirectional=True)\n",
    "        self.fc       = torch.nn.Linear(hidden_dim * 2, num_classes, bias=True) # * 2 because we are using a bidirectional GRU\n",
    "        self.dropout2  = torch.nn.Dropout(p=dropout_rate)\n",
    "\n",
    "    def forward(self, x):\n",
    "        # x shape: (batch_size, seq_len)\n",
    "        x = self.embedding(x)      # x shape: (batch_size, seq_len, emb_sz)\n",
    "        x = self.dropout1(x)       # x shape: (batch_size, seq_len, emb_sz)\n",
    "        \n",
    "        # GRU forward pass\n",
    "        gru_out, hidden = self.gru(x)\n",
    "        # gru_out shape: (batch_size, seq_len, hidden_dim * 2)\n",
    "        # hidden shape: (num_layers * 2, batch_size, hidden_dim)\n",
    "\n",
    "        # For bidirectional GRU with 1 hidden layer:\n",
    "        # Concat the two\n",
    "        last_hidden = torch.cat([hidden[0], hidden[1]], dim=1) # last_hidden shape: (batch_size, hidden_dim * 2)\n",
    "\n",
    "        # FFNs\n",
    "        o = self.fc(last_hidden)  # last_hidden shape: (batch_size, num_classes)\n",
    "        o = self.dropout2(o)           # o shape: (batch_size, num_classes)\n",
    "        return o\n"
   ]
  },
  {
   "cell_type": "code",
   "execution_count": 94,
   "id": "c2d805f7",
   "metadata": {},
   "outputs": [
    {
     "name": "stdout",
     "output_type": "stream",
     "text": [
      " epoch: 000/020 | duration:  16.737s | train_loss:  3.078196 | val_loss:  3.033758\n",
      " epoch: 001/020 | duration:  16.528s | train_loss:  2.999399 | val_loss:  3.009345\n",
      " epoch: 002/020 | duration:  16.503s | train_loss:  2.981077 | val_loss:  2.976875\n",
      " epoch: 003/020 | duration:  16.861s | train_loss:  2.959017 | val_loss:  2.960509\n",
      " epoch: 004/020 | duration:  16.450s | train_loss:  2.942327 | val_loss:  2.957381\n",
      " epoch: 005/020 | duration:  16.824s | train_loss:  2.934656 | val_loss:  2.932542\n",
      " epoch: 006/020 | duration:  16.993s | train_loss:  2.922396 | val_loss:  2.931455\n",
      " epoch: 007/020 | duration:  17.051s | train_loss:  2.903827 | val_loss:  2.903359\n",
      " epoch: 008/020 | duration:  17.270s | train_loss:  2.895669 | val_loss:  2.898189\n",
      " epoch: 009/020 | duration:  16.619s | train_loss:  2.886137 | val_loss:  2.876426\n",
      " epoch: 010/020 | duration:  16.415s | train_loss:  2.872576 | val_loss:  2.856417\n",
      " epoch: 011/020 | duration:  16.261s | train_loss:  2.860900 | val_loss:  2.835968\n",
      " epoch: 012/020 | duration:  16.270s | train_loss:  2.850063 | val_loss:  2.846075\n",
      " epoch: 013/020 | duration:  16.341s | train_loss:  2.842995 | val_loss:  2.840916\n",
      " epoch: 014/020 | duration:  16.280s | train_loss:  2.838857 | val_loss:  2.840856\n",
      " epoch: 015/020 | duration:  16.394s | train_loss:  2.829621 | val_loss:  2.806162\n",
      " epoch: 016/020 | duration:  16.291s | train_loss:  2.819204 | val_loss:  2.818399\n",
      " epoch: 017/020 | duration:  16.312s | train_loss:  2.810175 | val_loss:  2.813899\n",
      " epoch: 018/020 | duration:  16.349s | train_loss:  2.804266 | val_loss:  2.801640\n",
      " epoch: 019/020 | duration:  16.477s | train_loss:  2.798379 | val_loss:  2.787040\n"
     ]
    }
   ],
   "source": [
    "w_means = []\n",
    "w_norms = []\n",
    "g_means = []\n",
    "g_norms = []\n",
    "losses  = []\n",
    "val_losses = []\n",
    "\n",
    "torch.manual_seed(42)\n",
    "model = GRUTextClassifier(vocab_size, emb_sz, hidden_dim, num_layers, num_classes)\n",
    "criterion = torch.nn.CrossEntropyLoss() # using cross-entropy loss as we're treating this as a multi-class classification problem\n",
    "# criterion = torch.nn.BCEWithLogitsLoss() # if multi-label :)\n",
    "optimizer = torch.optim.Adam(model.parameters(), lr=3e-4)\n",
    "\n",
    "n_epochs = 20\n",
    "for i in range(n_epochs):\n",
    "    \n",
    "    total_train_batches = 0\n",
    "    total_train_loss = 0\n",
    "    avg_train_loss = 0.0\n",
    "    epoch_start_time = datetime.now()\n",
    "\n",
    "    for batch_x, batch_y in train_dataloader:\n",
    "        y_pred = model(batch_x)\n",
    "\n",
    "        loss = criterion(y_pred, batch_y)\n",
    "\n",
    "        # reset the gradients\n",
    "        optimizer.zero_grad()\n",
    "        \n",
    "        # backward pass\n",
    "        loss.backward()\n",
    "\n",
    "        # update the weights by a small amount\n",
    "        optimizer.step()\n",
    "\n",
    "        # print(f\" epoch: {i:03d}/{n_epochs:03d} | batch: {b:03d}/train_loss: {loss: 3f} | val_loss: {val_loss: 3f}\")\n",
    "        \n",
    "        total_train_batches += 1\n",
    "        total_train_loss += loss.item()\n",
    "\n",
    "    avg_train_loss = total_train_loss / total_train_batches\n",
    "    \n",
    "    # eval\n",
    "    total_val_batches = 0\n",
    "    total_val_loss = 0\n",
    "\n",
    "    with torch.no_grad():\n",
    "        for batch_x, batch_y in val_dataloader:\n",
    "            val_preds = model(batch_x)\n",
    "\n",
    "            val_loss = criterion(val_preds, batch_y)\n",
    "            total_val_loss += val_loss.item()\n",
    "            total_val_batches += 1\n",
    "\n",
    "    avg_val_loss = total_val_loss / total_val_batches\n",
    "\n",
    "    all_w_params = torch.cat([p.data.view(-1) for p in model.parameters()])\n",
    "    w_means.append(torch.mean(all_w_params).item())\n",
    "    w_norms.append(torch.norm(all_w_params).item())\n",
    "\n",
    "    all_grad_params = torch.cat([p.grad.data.view(-1) for p in model.parameters()])\n",
    "    g_means.append(torch.mean(all_grad_params).item())\n",
    "    g_norms.append(torch.norm(all_grad_params).item())\n",
    "\n",
    "    losses.append(loss.item())\n",
    "    val_losses.append(val_loss.item())\n",
    "\n",
    "    epoch_duration = (datetime.now() - epoch_start_time).total_seconds()\n",
    "    print(f\" epoch: {i:03d}/{n_epochs:03d} | duration: {epoch_duration: 3.3f}s | train_loss: {avg_train_loss: 3f} | val_loss: {avg_val_loss: 3f}\")\n"
   ]
  },
  {
   "cell_type": "code",
   "execution_count": 95,
   "id": "9b52730f",
   "metadata": {},
   "outputs": [
    {
     "data": {
      "image/png": "[encoded data removed]",
      "text/plain": [
       "<Figure size 1200x400 with 2 Axes>"
      ]
     },
     "metadata": {},
     "output_type": "display_data"
    }
   ],
   "source": [
    "import matplotlib.pyplot as plt\n",
    "%matplotlib inline\n",
    "\n",
    "fig, axes = plt.subplots(1, 2, figsize=(12, 4))\n",
    "\n",
    "epochs = list(range(n_epochs))\n",
    "\n",
    "# Plot train and val loss on the same plot\n",
    "axes[0].plot(epochs, losses, label='Train Loss', color='blue', marker='o', linestyle='dashed', alpha=0.7)\n",
    "axes[0].plot(epochs, val_losses, label='Val Loss', color='red', marker='o', linestyle='dashed', alpha=0.7)\n",
    "axes[0].set_xlabel('Epoch')\n",
    "axes[0].set_ylabel('Loss')\n",
    "axes[0].set_title('GRU Model - Train & Val Loss Across Epochs')\n",
    "axes[0].set_xticks(epochs)\n",
    "axes[0].set_ylim(bottom=0)  # Start y-axis from zero\n",
    "axes[0].grid(True)\n",
    "axes[0].legend()\n",
    "\n",
    "# Plot gradient norms\n",
    "axes[1].scatter(epochs, g_norms, color='green')\n",
    "axes[1].plot(epochs, g_norms, linestyle='dashed', alpha=0.5)\n",
    "axes[1].set_xlabel('Epoch')\n",
    "axes[1].set_ylabel('Norm of Grad Parameters')\n",
    "axes[1].set_title('Norm of Grad Parameters Across Epochs')\n",
    "axes[1].set_xticks(epochs)\n",
    "axes[1].set_ylim(bottom=0)  # Start y-axis from zero\n",
    "axes[1].grid(True)\n",
    "\n",
    "plt.tight_layout()\n",
    "plt.show()\n"
   ]
  },
  {
   "cell_type": "markdown",
   "id": "46c0cca5",
   "metadata": {},
   "source": [
    "2 changes.\n",
    "1. We must reduce the learning rate to avoid overfitting.\n",
    "2. Gradient norms are plotted for the last gradient of the batch. However, this is giving us an incomplete picture. We must plot the grad norms for each optimizer step.\n",
    "\n",
    "Let's make those changes."
   ]
  },
  {
   "cell_type": "code",
   "execution_count": null,
   "id": "31849b6a",
   "metadata": {},
   "outputs": [],
   "source": []
  },
  {
   "cell_type": "code",
   "execution_count": null,
   "id": "fec06bc6",
   "metadata": {},
   "outputs": [],
   "source": []
  }
 ],
 "metadata": {
  "kernelspec": {
   "display_name": "learn-env",
   "language": "python",
   "name": "python3"
  },
  "language_info": {
   "codemirror_mode": {
    "name": "ipython",
    "version": 3
   },
   "file_extension": ".py",
   "mimetype": "text/x-python",
   "name": "python",
   "nbconvert_exporter": "python",
   "pygments_lexer": "ipython3",
   "version": "3.12.5"
  }
 },
 "nbformat": 4,
 "nbformat_minor": 5
}
