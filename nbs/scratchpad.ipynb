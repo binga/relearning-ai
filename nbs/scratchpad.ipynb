{
 "cells": [
  {
   "cell_type": "code",
   "execution_count": 1,
   "id": "20c84db7",
   "metadata": {},
   "outputs": [],
   "source": [
    "import torch\n",
    "import lovely_tensors as lt\n",
    "lt.monkey_patch()"
   ]
  },
  {
   "cell_type": "code",
   "execution_count": 2,
   "id": "2a9e5344",
   "metadata": {},
   "outputs": [
    {
     "data": {
      "text/plain": [
       "tensor[1, 4, 4] n=16 x∈[6.512, 24.810] μ=16.858 σ=6.952\n",
       "tensor([[[18.7646, 19.7834, 12.1047, 24.2450],\n",
       "         [ 9.7129,  7.9264, 23.0016, 24.2038],\n",
       "         [20.1399, 24.4633, 24.8097, 22.9992],\n",
       "         [ 8.5876, 12.7907,  6.5124,  9.6799]]])"
      ]
     },
     "execution_count": 2,
     "metadata": {},
     "output_type": "execute_result"
    }
   ],
   "source": [
    "t = torch.rand((1, 4, 4)) * 20 + 5\n",
    "t.v"
   ]
  },
  {
   "cell_type": "code",
   "execution_count": 3,
   "id": "a65f3fcc",
   "metadata": {},
   "outputs": [
    {
     "data": {
      "text/plain": [
       "(torch.Size([1, 4, 4]),\n",
       " 16,\n",
       " tensor 6.512,\n",
       " tensor 24.810,\n",
       " tensor 16.858,\n",
       " tensor 6.952)"
      ]
     },
     "execution_count": 3,
     "metadata": {},
     "output_type": "execute_result"
    }
   ],
   "source": [
    "t.size(), t.numel(), t.min(), t.max(), t.mean(), t.std()"
   ]
  },
  {
   "cell_type": "code",
   "execution_count": 4,
   "id": "47efa233",
   "metadata": {},
   "outputs": [
    {
     "data": {
      "text/plain": [
       "tensor[1, 2, 2] n=4 x∈[14.047, 20.889] μ=16.858 σ=2.888 [[[14.047, 20.889], [16.495, 16.000]]]\n",
       "tensor([[[14.0468, 20.8888],\n",
       "         [16.4954, 16.0003]]])"
      ]
     },
     "execution_count": 4,
     "metadata": {},
     "output_type": "execute_result"
    }
   ],
   "source": [
    "layer = torch.nn.AvgPool2d((2,2))\n",
    "\n",
    "t2 = layer(t)\n",
    "t2.v"
   ]
  },
  {
   "cell_type": "code",
   "execution_count": 5,
   "id": "ec0c691d",
   "metadata": {},
   "outputs": [
    {
     "data": {
      "text/plain": [
       "tensor[1, 2, 2] n=4 x∈[19.783, 24.810] μ=23.325 σ=2.373 [[[19.783, 24.245], [24.463, 24.810]]]\n",
       "tensor([[[19.7834, 24.2450],\n",
       "         [24.4633, 24.8097]]])"
      ]
     },
     "execution_count": 5,
     "metadata": {},
     "output_type": "execute_result"
    }
   ],
   "source": [
    "layer = torch.nn.MaxPool2d((2,2))\n",
    "\n",
    "t2 = layer(t)\n",
    "t2.v"
   ]
  },
  {
   "cell_type": "markdown",
   "id": "7fa86539",
   "metadata": {},
   "source": [
    "# torch.einsum"
   ]
  },
  {
   "cell_type": "code",
   "execution_count": 6,
   "id": "62dcb849",
   "metadata": {},
   "outputs": [
    {
     "data": {
      "text/plain": [
       "tensor[2, 3] i64 n=6 x∈[0, 5] μ=2.500 σ=1.871 [[0, 1, 2], [3, 4, 5]]\n",
       "tensor([[0, 1, 2],\n",
       "        [3, 4, 5]])"
      ]
     },
     "execution_count": 6,
     "metadata": {},
     "output_type": "execute_result"
    }
   ],
   "source": [
    "a = torch.arange(6).reshape(2, 3)\n",
    "a.v"
   ]
  },
  {
   "cell_type": "code",
   "execution_count": 7,
   "id": "cd2ee215",
   "metadata": {},
   "outputs": [
    {
     "data": {
      "text/plain": [
       "tensor[3, 2] i64 n=6 x∈[0, 5] μ=2.500 σ=1.871 [[0, 3], [1, 4], [2, 5]]\n",
       "tensor([[0, 3],\n",
       "        [1, 4],\n",
       "        [2, 5]])"
      ]
     },
     "execution_count": 7,
     "metadata": {},
     "output_type": "execute_result"
    }
   ],
   "source": [
    "torch.einsum(\"ik -> ki\", a).v"
   ]
  },
  {
   "cell_type": "code",
   "execution_count": 8,
   "id": "2f3b952a",
   "metadata": {},
   "outputs": [
    {
     "data": {
      "text/plain": [
       "tensor i64 15\n",
       "tensor(15)"
      ]
     },
     "execution_count": 8,
     "metadata": {},
     "output_type": "execute_result"
    }
   ],
   "source": [
    "torch.einsum(\"ij ->\", a).v"
   ]
  },
  {
   "cell_type": "code",
   "execution_count": 9,
   "id": "81b02654",
   "metadata": {},
   "outputs": [
    {
     "data": {
      "text/plain": [
       "tensor[3] i64 x∈[3, 7] μ=5.000 σ=2.000 [3, 5, 7]\n",
       "tensor([3, 5, 7])"
      ]
     },
     "execution_count": 9,
     "metadata": {},
     "output_type": "execute_result"
    }
   ],
   "source": [
    "torch.einsum(\"ij->j\", a).v"
   ]
  },
  {
   "cell_type": "code",
   "execution_count": 10,
   "id": "fe2c1e63",
   "metadata": {},
   "outputs": [
    {
     "data": {
      "text/plain": [
       "tensor[2] i64 μ=7.500 σ=6.364 [3, 12]\n",
       "tensor([ 3, 12])"
      ]
     },
     "execution_count": 10,
     "metadata": {},
     "output_type": "execute_result"
    }
   ],
   "source": [
    "torch.einsum(\"ij->i\", a).v"
   ]
  },
  {
   "cell_type": "code",
   "execution_count": 11,
   "id": "86e42ce4",
   "metadata": {},
   "outputs": [
    {
     "data": {
      "text/plain": [
       "(tensor[2, 3] i64 n=6 x∈[0, 5] μ=2.500 σ=1.871 [[0, 1, 2], [3, 4, 5]],\n",
       " tensor[3] i64 x∈[0, 2] μ=1.000 σ=1.000 [0, 1, 2])"
      ]
     },
     "execution_count": 11,
     "metadata": {},
     "output_type": "execute_result"
    }
   ],
   "source": [
    "a = torch.arange(6).reshape(2, 3)\n",
    "b = torch.arange(3)\n",
    "a, b"
   ]
  },
  {
   "cell_type": "code",
   "execution_count": 12,
   "id": "ce1f5f70",
   "metadata": {},
   "outputs": [
    {
     "data": {
      "text/plain": [
       "tensor[2] i64 μ=9.500 σ=6.364 [5, 14]"
      ]
     },
     "execution_count": 12,
     "metadata": {},
     "output_type": "execute_result"
    }
   ],
   "source": [
    "torch.einsum(\"ij,j->i\",[a, b])"
   ]
  },
  {
   "cell_type": "code",
   "execution_count": 13,
   "id": "aed7c736",
   "metadata": {},
   "outputs": [
    {
     "data": {
      "text/plain": [
       "tensor[2] i64 μ=9.500 σ=6.364 [5, 14]"
      ]
     },
     "execution_count": 13,
     "metadata": {},
     "output_type": "execute_result"
    }
   ],
   "source": [
    "a @ b"
   ]
  },
  {
   "cell_type": "markdown",
   "id": "a4484da8",
   "metadata": {},
   "source": [
    "`torch.einsum(\"ij,j->i\",[a, b])` is technically equivalent to `a @ b`. The former is just more readable."
   ]
  },
  {
   "cell_type": "code",
   "execution_count": 14,
   "id": "d1553bae",
   "metadata": {},
   "outputs": [
    {
     "data": {
      "text/plain": [
       "tensor[2, 5] i64 n=10 x∈[25, 118] μ=62.500 σ=35.672 [[25, 28, 31, 34, 37], [70, 82, 94, 106, 118]]"
      ]
     },
     "execution_count": 14,
     "metadata": {},
     "output_type": "execute_result"
    }
   ],
   "source": [
    "a = torch.arange(6).reshape(2, 3)\n",
    "b = torch.arange(15).reshape(3, 5)\n",
    "\n",
    "torch.einsum(\"ij,jk->ik\", [a, b])"
   ]
  },
  {
   "cell_type": "code",
   "execution_count": 15,
   "id": "2483eecb",
   "metadata": {},
   "outputs": [
    {
     "data": {
      "text/plain": [
       "tensor[2, 5] i64 n=10 x∈[25, 118] μ=62.500 σ=35.672 [[25, 28, 31, 34, 37], [70, 82, 94, 106, 118]]"
      ]
     },
     "execution_count": 15,
     "metadata": {},
     "output_type": "execute_result"
    }
   ],
   "source": [
    "a @ b"
   ]
  },
  {
   "cell_type": "markdown",
   "id": "c6e5d246",
   "metadata": {},
   "source": [
    "`torch.einsum(\"ij,jk->ik\", [a, b])` == `a @ b`"
   ]
  },
  {
   "cell_type": "code",
   "execution_count": 16,
   "id": "7e8006db",
   "metadata": {},
   "outputs": [
    {
     "data": {
      "text/plain": [
       "tensor i64 14"
      ]
     },
     "execution_count": 16,
     "metadata": {},
     "output_type": "execute_result"
    }
   ],
   "source": [
    "a = torch.arange(3)\n",
    "b = torch.arange(3, 6)\n",
    "a, b\n",
    "\n",
    "a @ b"
   ]
  },
  {
   "cell_type": "code",
   "execution_count": 17,
   "id": "db6a7270",
   "metadata": {},
   "outputs": [
    {
     "data": {
      "text/plain": [
       "(tensor[3] i64 x∈[0, 2] μ=1.000 σ=1.000 [0, 1, 2]\n",
       " tensor([0, 1, 2]),\n",
       " tensor[3] i64 x∈[3, 5] μ=4.000 σ=1.000 [3, 4, 5]\n",
       " tensor([3, 4, 5]))"
      ]
     },
     "execution_count": 17,
     "metadata": {},
     "output_type": "execute_result"
    }
   ],
   "source": [
    "a.v, b.v"
   ]
  },
  {
   "cell_type": "code",
   "execution_count": 18,
   "id": "6dca762a",
   "metadata": {},
   "outputs": [
    {
     "data": {
      "text/plain": [
       "tensor i64 14"
      ]
     },
     "execution_count": 18,
     "metadata": {},
     "output_type": "execute_result"
    }
   ],
   "source": [
    "torch.einsum(\"i,i->\", [a, b])"
   ]
  },
  {
   "cell_type": "markdown",
   "id": "ec50c8f4",
   "metadata": {},
   "source": [
    "More here: https://rockt.ai/2018/04/30/einsum"
   ]
  },
  {
   "cell_type": "markdown",
   "id": "72ed0337",
   "metadata": {},
   "source": [
    "## einops"
   ]
  },
  {
   "cell_type": "code",
   "execution_count": 19,
   "id": "54dc27d0",
   "metadata": {},
   "outputs": [],
   "source": [
    "from einops import rearrange, einsum"
   ]
  },
  {
   "cell_type": "code",
   "execution_count": 20,
   "id": "2f5481ee",
   "metadata": {},
   "outputs": [
    {
     "data": {
      "text/plain": [
       "(tensor[2, 3] i64 n=6 x∈[0, 5] μ=2.500 σ=1.871 [[0, 1, 2], [3, 4, 5]]\n",
       " tensor([[0, 1, 2],\n",
       "         [3, 4, 5]]),\n",
       " tensor[3, 5] i64 n=15 x∈[0, 14] μ=7.000 σ=4.472\n",
       " tensor([[ 0,  1,  2,  3,  4],\n",
       "         [ 5,  6,  7,  8,  9],\n",
       "         [10, 11, 12, 13, 14]]))"
      ]
     },
     "execution_count": 20,
     "metadata": {},
     "output_type": "execute_result"
    }
   ],
   "source": [
    "a = torch.arange(6).reshape(2, 3)\n",
    "b = torch.arange(15).reshape(3, 5)\n",
    "\n",
    "a.v, b.v"
   ]
  },
  {
   "cell_type": "code",
   "execution_count": 21,
   "id": "f0a6dd0a",
   "metadata": {},
   "outputs": [
    {
     "name": "stdout",
     "output_type": "stream",
     "text": [
      "The slowest run took 19534.45 times longer than the fastest. This could mean that an intermediate result is being cached.\n",
      "25.1 ms ± 61.6 ms per loop (mean ± std. dev. of 7 runs, 5 loops each)\n"
     ]
    }
   ],
   "source": [
    "%%timeit -n 5\n",
    "\n",
    "einsum(a, b, \"i j,j k->i k\")"
   ]
  },
  {
   "cell_type": "code",
   "execution_count": 22,
   "id": "0374d86e",
   "metadata": {},
   "outputs": [
    {
     "name": "stdout",
     "output_type": "stream",
     "text": [
      "The slowest run took 10.45 times longer than the fastest. This could mean that an intermediate result is being cached.\n",
      "23.6 μs ± 30.6 μs per loop (mean ± std. dev. of 7 runs, 5 loops each)\n"
     ]
    }
   ],
   "source": [
    "%%timeit -n 5\n",
    "\n",
    "torch.einsum(\"ij,jk->ik\", [a, b])"
   ]
  },
  {
   "cell_type": "code",
   "execution_count": 23,
   "id": "7bf8de77",
   "metadata": {},
   "outputs": [
    {
     "name": "stdout",
     "output_type": "stream",
     "text": [
      "The slowest run took 8.29 times longer than the fastest. This could mean that an intermediate result is being cached.\n",
      "23.1 μs ± 23.8 μs per loop (mean ± std. dev. of 7 runs, 5 loops each)\n"
     ]
    }
   ],
   "source": [
    "%%timeit -n 5\n",
    "\n",
    "einsum(a, b, \"... j, j k -> ... k\")"
   ]
  },
  {
   "cell_type": "markdown",
   "id": "f4a5033d",
   "metadata": {},
   "source": [
    "What happens if the shapes don't match? Would einops take care of it?"
   ]
  },
  {
   "cell_type": "code",
   "execution_count": 24,
   "id": "38541aef",
   "metadata": {},
   "outputs": [
    {
     "data": {
      "text/plain": [
       "(tensor[2, 3] i64 n=6 x∈[0, 5] μ=2.500 σ=1.871 [[0, 1, 2], [3, 4, 5]]\n",
       " tensor([[0, 1, 2],\n",
       "         [3, 4, 5]]),\n",
       " tensor[5, 3] i64 n=15 x∈[0, 14] μ=7.000 σ=4.472\n",
       " tensor([[ 0,  1,  2],\n",
       "         [ 3,  4,  5],\n",
       "         [ 6,  7,  8],\n",
       "         [ 9, 10, 11],\n",
       "         [12, 13, 14]]))"
      ]
     },
     "execution_count": 24,
     "metadata": {},
     "output_type": "execute_result"
    }
   ],
   "source": [
    "a = torch.arange(6).reshape(2, 3)\n",
    "b = torch.arange(15).reshape(5, 3)\n",
    "\n",
    "a.v, b.v"
   ]
  },
  {
   "cell_type": "code",
   "execution_count": 25,
   "id": "a62d7206",
   "metadata": {},
   "outputs": [
    {
     "data": {
      "text/plain": [
       "tensor[2, 5] i64 n=10 x∈[5, 158] μ=54.500 σ=51.308 [[5, 14, 23, 32, 41], [14, 50, 86, 122, 158]]"
      ]
     },
     "execution_count": 25,
     "metadata": {},
     "output_type": "execute_result"
    }
   ],
   "source": [
    "einsum(a, b, \"i j, k j -> i k\")"
   ]
  },
  {
   "cell_type": "code",
   "execution_count": 26,
   "id": "f038ef14",
   "metadata": {},
   "outputs": [
    {
     "data": {
      "text/plain": [
       "tensor[2, 5] i64 n=10 x∈[5, 158] μ=54.500 σ=51.308 [[5, 14, 23, 32, 41], [14, 50, 86, 122, 158]]"
      ]
     },
     "execution_count": 26,
     "metadata": {},
     "output_type": "execute_result"
    }
   ],
   "source": [
    "a @ b.T"
   ]
  },
  {
   "cell_type": "markdown",
   "id": "dfc0f873",
   "metadata": {},
   "source": [
    "Wow, the einsum notation takes care of transposing the b matrix and then multiplying. This helps in rapid prototyping!"
   ]
  },
  {
   "cell_type": "code",
   "execution_count": 28,
   "id": "bae107b3",
   "metadata": {},
   "outputs": [
    {
     "data": {
      "text/plain": [
       "(tensor[2, 3] i64 n=6 x∈[0, 5] μ=2.500 σ=1.871 [[0, 1, 2], [3, 4, 5]]\n",
       " tensor([[0, 1, 2],\n",
       "         [3, 4, 5]]),\n",
       " tensor[5, 3] i64 n=15 x∈[0, 14] μ=7.000 σ=4.472\n",
       " tensor([[ 0,  1,  2],\n",
       "         [ 3,  4,  5],\n",
       "         [ 6,  7,  8],\n",
       "         [ 9, 10, 11],\n",
       "         [12, 13, 14]]))"
      ]
     },
     "execution_count": 28,
     "metadata": {},
     "output_type": "execute_result"
    }
   ],
   "source": [
    "a = torch.arange(6).reshape(2, 3)\n",
    "b = torch.arange(15).reshape(5, 3)\n",
    "\n",
    "a.v, b.v"
   ]
  },
  {
   "cell_type": "code",
   "execution_count": 29,
   "id": "96e751c3",
   "metadata": {},
   "outputs": [
    {
     "data": {
      "text/plain": [
       "tensor[2, 5] i64 n=10 x∈[9, 468] μ=157.500 σ=153.924 [[9, 36, 63, 90, 117], [36, 144, 252, 360, 468]]"
      ]
     },
     "execution_count": 29,
     "metadata": {},
     "output_type": "execute_result"
    }
   ],
   "source": [
    "einsum(a, b, \"i j, k l -> i k\")"
   ]
  },
  {
   "cell_type": "code",
   "execution_count": null,
   "id": "bfd344ca",
   "metadata": {},
   "outputs": [],
   "source": [
    "rearrange()"
   ]
  },
  {
   "cell_type": "markdown",
   "id": "a31b9390",
   "metadata": {},
   "source": [
    "## einx"
   ]
  },
  {
   "cell_type": "code",
   "execution_count": 27,
   "id": "a8b2ffe3",
   "metadata": {},
   "outputs": [],
   "source": [
    "# TODO"
   ]
  },
  {
   "cell_type": "code",
   "execution_count": null,
   "id": "299f3eae",
   "metadata": {},
   "outputs": [],
   "source": []
  }
 ],
 "metadata": {
  "kernelspec": {
   "display_name": "learn-env",
   "language": "python",
   "name": "python3"
  },
  "language_info": {
   "codemirror_mode": {
    "name": "ipython",
    "version": 3
   },
   "file_extension": ".py",
   "mimetype": "text/x-python",
   "name": "python",
   "nbconvert_exporter": "python",
   "pygments_lexer": "ipython3",
   "version": "3.12.5"
  }
 },
 "nbformat": 4,
 "nbformat_minor": 5
}
