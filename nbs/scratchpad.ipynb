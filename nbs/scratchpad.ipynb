{
 "cells": [
  {
   "cell_type": "code",
   "execution_count": 1,
   "id": "20c84db7",
   "metadata": {},
   "outputs": [],
   "source": [
    "import torch\n",
    "import lovely_tensors as lt\n",
    "lt.monkey_patch()"
   ]
  },
  {
   "cell_type": "code",
   "execution_count": 2,
   "id": "2a9e5344",
   "metadata": {},
   "outputs": [
    {
     "data": {
      "text/plain": [
       "tensor[1, 4, 4] n=16 x∈[5.344, 24.643] μ=15.278 σ=6.913\n",
       "tensor([[[24.5386, 17.5833,  5.3436, 24.2646],\n",
       "         [ 8.0079,  5.9646, 17.3758, 14.2477],\n",
       "         [22.7159, 12.8487, 21.6699,  7.2214],\n",
       "         [12.0346, 16.5754,  9.4061, 24.6425]]])"
      ]
     },
     "execution_count": 2,
     "metadata": {},
     "output_type": "execute_result"
    }
   ],
   "source": [
    "t = torch.rand((1, 4, 4)) * 20 + 5\n",
    "t.v"
   ]
  },
  {
   "cell_type": "code",
   "execution_count": 3,
   "id": "a65f3fcc",
   "metadata": {},
   "outputs": [
    {
     "data": {
      "text/plain": [
       "(torch.Size([1, 4, 4]),\n",
       " 16,\n",
       " tensor 5.344,\n",
       " tensor 24.643,\n",
       " tensor 15.278,\n",
       " tensor 6.913)"
      ]
     },
     "execution_count": 3,
     "metadata": {},
     "output_type": "execute_result"
    }
   ],
   "source": [
    "t.size(), t.numel(), t.min(), t.max(), t.mean(), t.std()"
   ]
  },
  {
   "cell_type": "code",
   "execution_count": 4,
   "id": "47efa233",
   "metadata": {},
   "outputs": [
    {
     "data": {
      "text/plain": [
       "tensor[1, 2, 2] n=4 x∈[14.024, 16.044] μ=15.278 σ=0.889 [[[14.024, 15.308], [16.044, 15.735]]]\n",
       "tensor([[[14.0236, 15.3079],\n",
       "         [16.0437, 15.7350]]])"
      ]
     },
     "execution_count": 4,
     "metadata": {},
     "output_type": "execute_result"
    }
   ],
   "source": [
    "layer = torch.nn.AvgPool2d((2,2))\n",
    "\n",
    "t2 = layer(t)\n",
    "t2.v"
   ]
  },
  {
   "cell_type": "code",
   "execution_count": 5,
   "id": "ec0c691d",
   "metadata": {},
   "outputs": [
    {
     "data": {
      "text/plain": [
       "tensor[1, 2, 2] n=4 x∈[22.716, 24.643] μ=24.040 σ=0.897 [[[24.539, 24.265], [22.716, 24.643]]]\n",
       "tensor([[[24.5386, 24.2646],\n",
       "         [22.7159, 24.6425]]])"
      ]
     },
     "execution_count": 5,
     "metadata": {},
     "output_type": "execute_result"
    }
   ],
   "source": [
    "layer = torch.nn.MaxPool2d((2,2))\n",
    "\n",
    "t2 = layer(t)\n",
    "t2.v"
   ]
  },
  {
   "cell_type": "markdown",
   "id": "7fa86539",
   "metadata": {},
   "source": [
    "# einops"
   ]
  },
  {
   "cell_type": "code",
   "execution_count": 6,
   "id": "62dcb849",
   "metadata": {},
   "outputs": [
    {
     "data": {
      "text/plain": [
       "tensor[2, 3] i64 n=6 x∈[0, 5] μ=2.500 σ=1.871 [[0, 1, 2], [3, 4, 5]]\n",
       "tensor([[0, 1, 2],\n",
       "        [3, 4, 5]])"
      ]
     },
     "execution_count": 6,
     "metadata": {},
     "output_type": "execute_result"
    }
   ],
   "source": [
    "a = torch.arange(6).reshape(2, 3)\n",
    "a.v"
   ]
  },
  {
   "cell_type": "code",
   "execution_count": 7,
   "id": "cd2ee215",
   "metadata": {},
   "outputs": [
    {
     "data": {
      "text/plain": [
       "tensor[3, 2] i64 n=6 x∈[0, 5] μ=2.500 σ=1.871 [[0, 3], [1, 4], [2, 5]]\n",
       "tensor([[0, 3],\n",
       "        [1, 4],\n",
       "        [2, 5]])"
      ]
     },
     "execution_count": 7,
     "metadata": {},
     "output_type": "execute_result"
    }
   ],
   "source": [
    "torch.einsum(\"ik -> ki\", a).v"
   ]
  },
  {
   "cell_type": "code",
   "execution_count": 8,
   "id": "2f3b952a",
   "metadata": {},
   "outputs": [
    {
     "data": {
      "text/plain": [
       "tensor i64 15\n",
       "tensor(15)"
      ]
     },
     "execution_count": 8,
     "metadata": {},
     "output_type": "execute_result"
    }
   ],
   "source": [
    "torch.einsum(\"ij ->\", a).v"
   ]
  },
  {
   "cell_type": "code",
   "execution_count": 9,
   "id": "81b02654",
   "metadata": {},
   "outputs": [
    {
     "data": {
      "text/plain": [
       "tensor[3] i64 x∈[3, 7] μ=5.000 σ=2.000 [3, 5, 7]\n",
       "tensor([3, 5, 7])"
      ]
     },
     "execution_count": 9,
     "metadata": {},
     "output_type": "execute_result"
    }
   ],
   "source": [
    "torch.einsum(\"ij->j\", a).v"
   ]
  },
  {
   "cell_type": "code",
   "execution_count": 10,
   "id": "fe2c1e63",
   "metadata": {},
   "outputs": [
    {
     "data": {
      "text/plain": [
       "tensor[2] i64 μ=7.500 σ=6.364 [3, 12]\n",
       "tensor([ 3, 12])"
      ]
     },
     "execution_count": 10,
     "metadata": {},
     "output_type": "execute_result"
    }
   ],
   "source": [
    "torch.einsum(\"ij->i\", a).v"
   ]
  },
  {
   "cell_type": "code",
   "execution_count": 11,
   "id": "86e42ce4",
   "metadata": {},
   "outputs": [
    {
     "data": {
      "text/plain": [
       "(tensor[2, 3] i64 n=6 x∈[0, 5] μ=2.500 σ=1.871 [[0, 1, 2], [3, 4, 5]],\n",
       " tensor[3] i64 x∈[0, 2] μ=1.000 σ=1.000 [0, 1, 2])"
      ]
     },
     "execution_count": 11,
     "metadata": {},
     "output_type": "execute_result"
    }
   ],
   "source": [
    "a = torch.arange(6).reshape(2, 3)\n",
    "b = torch.arange(3)\n",
    "a, b"
   ]
  },
  {
   "cell_type": "code",
   "execution_count": 12,
   "id": "ce1f5f70",
   "metadata": {},
   "outputs": [
    {
     "data": {
      "text/plain": [
       "tensor[2] i64 μ=9.500 σ=6.364 [5, 14]"
      ]
     },
     "execution_count": 12,
     "metadata": {},
     "output_type": "execute_result"
    }
   ],
   "source": [
    "torch.einsum(\"ij,j->i\",[a, b])"
   ]
  },
  {
   "cell_type": "code",
   "execution_count": 13,
   "id": "aed7c736",
   "metadata": {},
   "outputs": [
    {
     "data": {
      "text/plain": [
       "tensor[2] i64 μ=9.500 σ=6.364 [5, 14]"
      ]
     },
     "execution_count": 13,
     "metadata": {},
     "output_type": "execute_result"
    }
   ],
   "source": [
    "a @ b"
   ]
  },
  {
   "cell_type": "markdown",
   "id": "a4484da8",
   "metadata": {},
   "source": [
    "`torch.einsum(\"ij,j->i\",[a, b])` is technically equivalent to `a @ b`. The former is just more readable."
   ]
  },
  {
   "cell_type": "code",
   "execution_count": 14,
   "id": "d1553bae",
   "metadata": {},
   "outputs": [
    {
     "data": {
      "text/plain": [
       "tensor[2, 5] i64 n=10 x∈[25, 118] μ=62.500 σ=35.672 [[25, 28, 31, 34, 37], [70, 82, 94, 106, 118]]"
      ]
     },
     "execution_count": 14,
     "metadata": {},
     "output_type": "execute_result"
    }
   ],
   "source": [
    "a = torch.arange(6).reshape(2, 3)\n",
    "b = torch.arange(15).reshape(3, 5)\n",
    "\n",
    "torch.einsum(\"ij,jk->ik\", [a, b])"
   ]
  },
  {
   "cell_type": "code",
   "execution_count": 15,
   "id": "2483eecb",
   "metadata": {},
   "outputs": [
    {
     "data": {
      "text/plain": [
       "tensor[2, 5] i64 n=10 x∈[25, 118] μ=62.500 σ=35.672 [[25, 28, 31, 34, 37], [70, 82, 94, 106, 118]]"
      ]
     },
     "execution_count": 15,
     "metadata": {},
     "output_type": "execute_result"
    }
   ],
   "source": [
    "a @ b"
   ]
  },
  {
   "cell_type": "markdown",
   "id": "c6e5d246",
   "metadata": {},
   "source": [
    "`torch.einsum(\"ij,jk->ik\", [a, b])` == `a @ b`"
   ]
  },
  {
   "cell_type": "code",
   "execution_count": 16,
   "id": "7e8006db",
   "metadata": {},
   "outputs": [
    {
     "data": {
      "text/plain": [
       "tensor i64 14"
      ]
     },
     "execution_count": 16,
     "metadata": {},
     "output_type": "execute_result"
    }
   ],
   "source": [
    "a = torch.arange(3)\n",
    "b = torch.arange(3, 6)\n",
    "a, b\n",
    "\n",
    "a @ b"
   ]
  },
  {
   "cell_type": "code",
   "execution_count": 17,
   "id": "db6a7270",
   "metadata": {},
   "outputs": [
    {
     "data": {
      "text/plain": [
       "(tensor[3] i64 x∈[0, 2] μ=1.000 σ=1.000 [0, 1, 2]\n",
       " tensor([0, 1, 2]),\n",
       " tensor[3] i64 x∈[3, 5] μ=4.000 σ=1.000 [3, 4, 5]\n",
       " tensor([3, 4, 5]))"
      ]
     },
     "execution_count": 17,
     "metadata": {},
     "output_type": "execute_result"
    }
   ],
   "source": [
    "a.v, b.v"
   ]
  },
  {
   "cell_type": "code",
   "execution_count": 18,
   "id": "6dca762a",
   "metadata": {},
   "outputs": [
    {
     "data": {
      "text/plain": [
       "tensor i64 14"
      ]
     },
     "execution_count": 18,
     "metadata": {},
     "output_type": "execute_result"
    }
   ],
   "source": [
    "torch.einsum(\"i,i->\", [a, b])"
   ]
  },
  {
   "cell_type": "markdown",
   "id": "ec50c8f4",
   "metadata": {},
   "source": [
    "More here: https://rockt.ai/2018/04/30/einsum"
   ]
  },
  {
   "cell_type": "markdown",
   "id": "72ed0337",
   "metadata": {},
   "source": [
    "## einops"
   ]
  },
  {
   "cell_type": "code",
   "execution_count": 19,
   "id": "54dc27d0",
   "metadata": {},
   "outputs": [],
   "source": [
    "from einops import rearrange, einsum"
   ]
  },
  {
   "cell_type": "code",
   "execution_count": 22,
   "id": "2f5481ee",
   "metadata": {},
   "outputs": [
    {
     "data": {
      "text/plain": [
       "(tensor[2, 3] i64 n=6 x∈[0, 5] μ=2.500 σ=1.871 [[0, 1, 2], [3, 4, 5]]\n",
       " tensor([[0, 1, 2],\n",
       "         [3, 4, 5]]),\n",
       " tensor[3, 5] i64 n=15 x∈[0, 14] μ=7.000 σ=4.472\n",
       " tensor([[ 0,  1,  2,  3,  4],\n",
       "         [ 5,  6,  7,  8,  9],\n",
       "         [10, 11, 12, 13, 14]]))"
      ]
     },
     "execution_count": 22,
     "metadata": {},
     "output_type": "execute_result"
    }
   ],
   "source": [
    "a = torch.arange(6).reshape(2, 3)\n",
    "b = torch.arange(15).reshape(3, 5)\n",
    "\n",
    "a.v, b.v"
   ]
  },
  {
   "cell_type": "code",
   "execution_count": 40,
   "id": "f0a6dd0a",
   "metadata": {},
   "outputs": [
    {
     "name": "stdout",
     "output_type": "stream",
     "text": [
      "The slowest run took 11.12 times longer than the fastest. This could mean that an intermediate result is being cached.\n",
      "25.2 μs ± 33 μs per loop (mean ± std. dev. of 7 runs, 5 loops each)\n"
     ]
    }
   ],
   "source": [
    "%%timeit -n 5\n",
    "\n",
    "einsum(a, b, \"i j,j k->i k\")"
   ]
  },
  {
   "cell_type": "code",
   "execution_count": 41,
   "id": "0374d86e",
   "metadata": {},
   "outputs": [
    {
     "name": "stdout",
     "output_type": "stream",
     "text": [
      "The slowest run took 12.85 times longer than the fastest. This could mean that an intermediate result is being cached.\n",
      "26.6 μs ± 40.1 μs per loop (mean ± std. dev. of 7 runs, 5 loops each)\n"
     ]
    }
   ],
   "source": [
    "%%timeit -n 5\n",
    "\n",
    "torch.einsum(\"ij,jk->ik\", [a, b])"
   ]
  },
  {
   "cell_type": "code",
   "execution_count": 42,
   "id": "7bf8de77",
   "metadata": {},
   "outputs": [
    {
     "name": "stdout",
     "output_type": "stream",
     "text": [
      "The slowest run took 11.33 times longer than the fastest. This could mean that an intermediate result is being cached.\n",
      "29.1 μs ± 34.3 μs per loop (mean ± std. dev. of 7 runs, 5 loops each)\n"
     ]
    }
   ],
   "source": [
    "%%timeit -n 5\n",
    "\n",
    "einsum(a, b, \"... j, j k -> ... k\")"
   ]
  },
  {
   "cell_type": "markdown",
   "id": "a31b9390",
   "metadata": {},
   "source": [
    "## einx"
   ]
  },
  {
   "cell_type": "code",
   "execution_count": 43,
   "id": "a8b2ffe3",
   "metadata": {},
   "outputs": [],
   "source": [
    "# TODO"
   ]
  },
  {
   "cell_type": "code",
   "execution_count": null,
   "id": "299f3eae",
   "metadata": {},
   "outputs": [],
   "source": []
  }
 ],
 "metadata": {
  "kernelspec": {
   "display_name": "learn-env",
   "language": "python",
   "name": "python3"
  },
  "language_info": {
   "codemirror_mode": {
    "name": "ipython",
    "version": 3
   },
   "file_extension": ".py",
   "mimetype": "text/x-python",
   "name": "python",
   "nbconvert_exporter": "python",
   "pygments_lexer": "ipython3",
   "version": "3.12.5"
  }
 },
 "nbformat": 4,
 "nbformat_minor": 5
}
