{
 "cells": [
  {
   "cell_type": "code",
   "execution_count": 1,
   "id": "20c84db7",
   "metadata": {},
   "outputs": [],
   "source": [
    "import torch\n",
    "import lovely_tensors as lt\n",
    "lt.monkey_patch()"
   ]
  },
  {
   "cell_type": "code",
   "execution_count": 2,
   "id": "2a9e5344",
   "metadata": {},
   "outputs": [
    {
     "data": {
      "text/plain": [
       "tensor[1, 4, 4] n=16 x∈[5.289, 24.650] μ=12.314 σ=6.481\n",
       "tensor([[[11.0658, 24.6500, 10.1457, 24.4217],\n",
       "         [11.1051,  5.9737, 18.5977, 10.0164],\n",
       "         [11.3962, 14.2286,  5.2887,  8.5256],\n",
       "         [ 7.6007,  6.0853,  6.7507, 21.1693]]])"
      ]
     },
     "execution_count": 2,
     "metadata": {},
     "output_type": "execute_result"
    }
   ],
   "source": [
    "t = torch.rand((1, 4, 4)) * 20 + 5\n",
    "t.v"
   ]
  },
  {
   "cell_type": "code",
   "execution_count": 3,
   "id": "a65f3fcc",
   "metadata": {},
   "outputs": [
    {
     "data": {
      "text/plain": [
       "(torch.Size([1, 4, 4]),\n",
       " 16,\n",
       " tensor 5.289,\n",
       " tensor 24.650,\n",
       " tensor 12.314,\n",
       " tensor 6.481)"
      ]
     },
     "execution_count": 3,
     "metadata": {},
     "output_type": "execute_result"
    }
   ],
   "source": [
    "t.size(), t.numel(), t.min(), t.max(), t.mean(), t.std()"
   ]
  },
  {
   "cell_type": "code",
   "execution_count": 4,
   "id": "47efa233",
   "metadata": {},
   "outputs": [
    {
     "data": {
      "text/plain": [
       "tensor[1, 2, 2] n=4 x∈[9.828, 15.795] μ=12.314 σ=2.746 [[[13.199, 15.795], [9.828, 10.434]]]\n",
       "tensor([[[13.1986, 15.7954],\n",
       "         [ 9.8277, 10.4336]]])"
      ]
     },
     "execution_count": 4,
     "metadata": {},
     "output_type": "execute_result"
    }
   ],
   "source": [
    "layer = torch.nn.AvgPool2d((2,2))\n",
    "\n",
    "t2 = layer(t)\n",
    "t2.v"
   ]
  },
  {
   "cell_type": "code",
   "execution_count": 5,
   "id": "ec0c691d",
   "metadata": {},
   "outputs": [
    {
     "data": {
      "text/plain": [
       "tensor[1, 2, 2] n=4 x∈[14.229, 24.650] μ=21.117 σ=4.860 [[[24.650, 24.422], [14.229, 21.169]]]\n",
       "tensor([[[24.6500, 24.4217],\n",
       "         [14.2286, 21.1693]]])"
      ]
     },
     "execution_count": 5,
     "metadata": {},
     "output_type": "execute_result"
    }
   ],
   "source": [
    "layer = torch.nn.MaxPool2d((2,2))\n",
    "\n",
    "t2 = layer(t)\n",
    "t2.v"
   ]
  },
  {
   "cell_type": "code",
   "execution_count": null,
   "id": "7fa86539",
   "metadata": {},
   "outputs": [],
   "source": []
  }
 ],
 "metadata": {
  "kernelspec": {
   "display_name": "learn-env",
   "language": "python",
   "name": "python3"
  },
  "language_info": {
   "codemirror_mode": {
    "name": "ipython",
    "version": 3
   },
   "file_extension": ".py",
   "mimetype": "text/x-python",
   "name": "python",
   "nbconvert_exporter": "python",
   "pygments_lexer": "ipython3",
   "version": "3.12.5"
  }
 },
 "nbformat": 4,
 "nbformat_minor": 5
}
