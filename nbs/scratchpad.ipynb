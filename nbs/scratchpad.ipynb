{
 "cells": [
  {
   "cell_type": "code",
   "execution_count": 1,
   "id": "20c84db7",
   "metadata": {},
   "outputs": [],
   "source": [
    "import torch\n",
    "import lovely_tensors as lt\n",
    "lt.monkey_patch()"
   ]
  },
  {
   "cell_type": "code",
   "execution_count": 2,
   "id": "2a9e5344",
   "metadata": {},
   "outputs": [
    {
     "data": {
      "text/plain": [
       "tensor[1, 4, 4] n=16 x∈[5.348, 24.190] μ=15.168 σ=5.696\n",
       "tensor([[[16.1421,  8.2256, 12.9223, 18.8430],\n",
       "         [20.0902, 17.2399, 24.1895, 11.8725],\n",
       "         [ 9.8896, 19.2744, 16.9365,  5.3478],\n",
       "         [22.7485, 17.3995,  5.6366, 15.9374]]])"
      ]
     },
     "execution_count": 2,
     "metadata": {},
     "output_type": "execute_result"
    }
   ],
   "source": [
    "t = torch.rand((1, 4, 4)) * 20 + 5\n",
    "t.v"
   ]
  },
  {
   "cell_type": "code",
   "execution_count": 3,
   "id": "a65f3fcc",
   "metadata": {},
   "outputs": [
    {
     "data": {
      "text/plain": [
       "(torch.Size([1, 4, 4]),\n",
       " 16,\n",
       " tensor 5.348,\n",
       " tensor 24.190,\n",
       " tensor 15.168,\n",
       " tensor 5.696)"
      ]
     },
     "execution_count": 3,
     "metadata": {},
     "output_type": "execute_result"
    }
   ],
   "source": [
    "t.size(), t.numel(), t.min(), t.max(), t.mean(), t.std()"
   ]
  },
  {
   "cell_type": "code",
   "execution_count": 4,
   "id": "47efa233",
   "metadata": {},
   "outputs": [
    {
     "data": {
      "text/plain": [
       "tensor[1, 2, 2] n=4 x∈[10.965, 17.328] μ=15.168 σ=2.921 [[[15.424, 16.957], [17.328, 10.965]]]\n",
       "tensor([[[15.4244, 16.9569],\n",
       "         [17.3280, 10.9646]]])"
      ]
     },
     "execution_count": 4,
     "metadata": {},
     "output_type": "execute_result"
    }
   ],
   "source": [
    "layer = torch.nn.AvgPool2d((2,2))\n",
    "\n",
    "t2 = layer(t)\n",
    "t2.v"
   ]
  },
  {
   "cell_type": "code",
   "execution_count": 5,
   "id": "ec0c691d",
   "metadata": {},
   "outputs": [
    {
     "data": {
      "text/plain": [
       "tensor[1, 2, 2] n=4 x∈[16.937, 24.190] μ=20.991 σ=3.192 [[[20.090, 24.190], [22.748, 16.937]]]\n",
       "tensor([[[20.0902, 24.1895],\n",
       "         [22.7485, 16.9365]]])"
      ]
     },
     "execution_count": 5,
     "metadata": {},
     "output_type": "execute_result"
    }
   ],
   "source": [
    "layer = torch.nn.MaxPool2d((2,2))\n",
    "\n",
    "t2 = layer(t)\n",
    "t2.v"
   ]
  },
  {
   "cell_type": "markdown",
   "id": "7fa86539",
   "metadata": {},
   "source": [
    "# einops"
   ]
  },
  {
   "cell_type": "code",
   "execution_count": 13,
   "id": "62dcb849",
   "metadata": {},
   "outputs": [
    {
     "data": {
      "text/plain": [
       "tensor[2, 3] i64 n=6 x∈[0, 5] μ=2.500 σ=1.871 [[0, 1, 2], [3, 4, 5]]\n",
       "tensor([[0, 1, 2],\n",
       "        [3, 4, 5]])"
      ]
     },
     "execution_count": 13,
     "metadata": {},
     "output_type": "execute_result"
    }
   ],
   "source": [
    "a = torch.arange(6).reshape(2, 3)\n",
    "a.v"
   ]
  },
  {
   "cell_type": "code",
   "execution_count": 18,
   "id": "cd2ee215",
   "metadata": {},
   "outputs": [
    {
     "data": {
      "text/plain": [
       "tensor[3, 2] i64 n=6 x∈[0, 5] μ=2.500 σ=1.871 [[0, 3], [1, 4], [2, 5]]\n",
       "tensor([[0, 3],\n",
       "        [1, 4],\n",
       "        [2, 5]])"
      ]
     },
     "execution_count": 18,
     "metadata": {},
     "output_type": "execute_result"
    }
   ],
   "source": [
    "torch.einsum(\"ik -> ki\", a).v"
   ]
  },
  {
   "cell_type": "code",
   "execution_count": 21,
   "id": "2f3b952a",
   "metadata": {},
   "outputs": [
    {
     "data": {
      "text/plain": [
       "tensor i64 15\n",
       "tensor(15)"
      ]
     },
     "execution_count": 21,
     "metadata": {},
     "output_type": "execute_result"
    }
   ],
   "source": [
    "torch.einsum(\"ij ->\", a).v"
   ]
  },
  {
   "cell_type": "code",
   "execution_count": 22,
   "id": "81b02654",
   "metadata": {},
   "outputs": [
    {
     "data": {
      "text/plain": [
       "tensor[3] i64 x∈[3, 7] μ=5.000 σ=2.000 [3, 5, 7]\n",
       "tensor([3, 5, 7])"
      ]
     },
     "execution_count": 22,
     "metadata": {},
     "output_type": "execute_result"
    }
   ],
   "source": [
    "torch.einsum(\"ij->j\", a).v"
   ]
  },
  {
   "cell_type": "code",
   "execution_count": 24,
   "id": "fe2c1e63",
   "metadata": {},
   "outputs": [
    {
     "data": {
      "text/plain": [
       "tensor[2] i64 μ=7.500 σ=6.364 [3, 12]\n",
       "tensor([ 3, 12])"
      ]
     },
     "execution_count": 24,
     "metadata": {},
     "output_type": "execute_result"
    }
   ],
   "source": [
    "torch.einsum(\"ij->i\", a).v"
   ]
  },
  {
   "cell_type": "code",
   "execution_count": 25,
   "id": "86e42ce4",
   "metadata": {},
   "outputs": [
    {
     "data": {
      "text/plain": [
       "(tensor[2, 3] i64 n=6 x∈[0, 5] μ=2.500 σ=1.871 [[0, 1, 2], [3, 4, 5]],\n",
       " tensor[3] i64 x∈[0, 2] μ=1.000 σ=1.000 [0, 1, 2])"
      ]
     },
     "execution_count": 25,
     "metadata": {},
     "output_type": "execute_result"
    }
   ],
   "source": [
    "a = torch.arange(6).reshape(2, 3)\n",
    "b = torch.arange(3)\n",
    "a, b"
   ]
  },
  {
   "cell_type": "code",
   "execution_count": 29,
   "id": "ce1f5f70",
   "metadata": {},
   "outputs": [
    {
     "data": {
      "text/plain": [
       "tensor[2] i64 μ=9.500 σ=6.364 [5, 14]"
      ]
     },
     "execution_count": 29,
     "metadata": {},
     "output_type": "execute_result"
    }
   ],
   "source": [
    "torch.einsum(\"ij,j->i\",[a, b])"
   ]
  },
  {
   "cell_type": "code",
   "execution_count": 30,
   "id": "aed7c736",
   "metadata": {},
   "outputs": [
    {
     "data": {
      "text/plain": [
       "tensor[2] i64 μ=9.500 σ=6.364 [5, 14]"
      ]
     },
     "execution_count": 30,
     "metadata": {},
     "output_type": "execute_result"
    }
   ],
   "source": [
    "a @ b"
   ]
  },
  {
   "cell_type": "markdown",
   "id": "a4484da8",
   "metadata": {},
   "source": [
    "`torch.einsum(\"ij,j->i\",[a, b])` is technically equivalent to `a @ b`. The former is just more readable."
   ]
  },
  {
   "cell_type": "code",
   "execution_count": 32,
   "id": "d1553bae",
   "metadata": {},
   "outputs": [
    {
     "data": {
      "text/plain": [
       "tensor[2, 5] i64 n=10 x∈[25, 118] μ=62.500 σ=35.672 [[25, 28, 31, 34, 37], [70, 82, 94, 106, 118]]"
      ]
     },
     "execution_count": 32,
     "metadata": {},
     "output_type": "execute_result"
    }
   ],
   "source": [
    "a = torch.arange(6).reshape(2, 3)\n",
    "b = torch.arange(15).reshape(3, 5)\n",
    "\n",
    "torch.einsum(\"ij,jk->ik\", [a, b])"
   ]
  },
  {
   "cell_type": "code",
   "execution_count": 33,
   "id": "2483eecb",
   "metadata": {},
   "outputs": [
    {
     "data": {
      "text/plain": [
       "tensor[2, 5] i64 n=10 x∈[25, 118] μ=62.500 σ=35.672 [[25, 28, 31, 34, 37], [70, 82, 94, 106, 118]]"
      ]
     },
     "execution_count": 33,
     "metadata": {},
     "output_type": "execute_result"
    }
   ],
   "source": [
    "a @ b"
   ]
  },
  {
   "cell_type": "markdown",
   "id": "c6e5d246",
   "metadata": {},
   "source": [
    "`torch.einsum(\"ij,jk->ik\", [a, b])` == `a @ b`"
   ]
  },
  {
   "cell_type": "code",
   "execution_count": 39,
   "id": "7e8006db",
   "metadata": {},
   "outputs": [
    {
     "data": {
      "text/plain": [
       "tensor i64 14"
      ]
     },
     "execution_count": 39,
     "metadata": {},
     "output_type": "execute_result"
    }
   ],
   "source": [
    "a = torch.arange(3)\n",
    "b = torch.arange(3, 6)\n",
    "a, b\n",
    "\n",
    "a @ b"
   ]
  },
  {
   "cell_type": "code",
   "execution_count": 40,
   "id": "db6a7270",
   "metadata": {},
   "outputs": [
    {
     "data": {
      "text/plain": [
       "(tensor[3] i64 x∈[0, 2] μ=1.000 σ=1.000 [0, 1, 2]\n",
       " tensor([0, 1, 2]),\n",
       " tensor[3] i64 x∈[3, 5] μ=4.000 σ=1.000 [3, 4, 5]\n",
       " tensor([3, 4, 5]))"
      ]
     },
     "execution_count": 40,
     "metadata": {},
     "output_type": "execute_result"
    }
   ],
   "source": [
    "a.v, b.v"
   ]
  },
  {
   "cell_type": "code",
   "execution_count": 41,
   "id": "6dca762a",
   "metadata": {},
   "outputs": [
    {
     "data": {
      "text/plain": [
       "tensor i64 14"
      ]
     },
     "execution_count": 41,
     "metadata": {},
     "output_type": "execute_result"
    }
   ],
   "source": [
    "torch.einsum(\"i,i->\", [a, b])"
   ]
  },
  {
   "cell_type": "markdown",
   "id": "ec50c8f4",
   "metadata": {},
   "source": [
    "More here: https://rockt.ai/2018/04/30/einsum"
   ]
  }
 ],
 "metadata": {
  "kernelspec": {
   "display_name": "learn-env",
   "language": "python",
   "name": "python3"
  },
  "language_info": {
   "codemirror_mode": {
    "name": "ipython",
    "version": 3
   },
   "file_extension": ".py",
   "mimetype": "text/x-python",
   "name": "python",
   "nbconvert_exporter": "python",
   "pygments_lexer": "ipython3",
   "version": "3.12.5"
  }
 },
 "nbformat": 4,
 "nbformat_minor": 5
}
