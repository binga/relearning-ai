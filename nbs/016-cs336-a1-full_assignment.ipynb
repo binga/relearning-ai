{
 "cells": [
  {
   "cell_type": "markdown",
   "id": "1f7bca9b",
   "metadata": {},
   "source": [
    "# CS336 Assignments\n",
    "\n",
    "| # | Topic                         | Description                                 |\n",
    "|---|-------------------------------|---------------------------------------------|\n",
    "| 1 | Basics                        | Train an LLM from scratch                   |\n",
    "| 2 | Systems                       | Make it run fast!                           |\n",
    "| 3 | Scaling                       | Make it performant at a FLOP budget         |\n",
    "| 4 | Data                          | Prepare the right datasets                  |\n",
    "| 5 | Alignment & Reasoning RL      | Align it to real-world use cases            |"
   ]
  },
  {
   "cell_type": "markdown",
   "id": "59f19a5c",
   "metadata": {},
   "source": [
    "# Assignment #1\n",
    "- Implement all of the components (tokenizer, model, loss function, optimizer) necessary to train a standard Transformer language model\n",
    "- Train a minimal language model"
   ]
  },
  {
   "cell_type": "code",
   "execution_count": 2,
   "id": "0fad44b6",
   "metadata": {},
   "outputs": [],
   "source": [
    "import warnings\n",
    "warnings.filterwarnings(\"ignore\")\n",
    "\n",
    "import torch\n",
    "import lovely_tensors as lt\n",
    "lt.monkey_patch()\n",
    "\n",
    "import tiktoken\n",
    "\n",
    "from datasets import load_dataset\n",
    "import joblib\n",
    "\n",
    "from torch.utils.data import TensorDataset, DataLoader\n"
   ]
  },
  {
   "cell_type": "code",
   "execution_count": 3,
   "id": "c035e91c",
   "metadata": {},
   "outputs": [],
   "source": [
    "def crossentropyloss(preds, actuals):\n",
    "    probs = preds.squeeze().sigmoid()\n",
    "    eps = 1e-8\n",
    "    loss = - actuals * (probs + eps).log() - (1 - actuals) * ((1 - probs) + eps).log()\n",
    "    return loss.mean()\n",
    "\n",
    "class LayerNorm_custom(torch.nn.Module):\n",
    "    def __init__(self, eps=1e-8):\n",
    "        super().__init__()\n",
    "        # self.scale = torch.nn.Parameter(torch.randn())\n",
    "        # self.shift = torch.nn.Parameter(torch.randn())\n",
    "        self.eps = eps\n",
    "\n",
    "    def forward(self, x):\n",
    "        mean = x.mean(dim=-1, keepdim=True)\n",
    "        var = x.var(dim=-1, keepdim=True)\n",
    "\n",
    "        norm_tensor = (x - mean) / torch.sqrt(var + self.eps)\n",
    "        return norm_tensor\n",
    "    \n",
    "class FFNWithNorm(torch.nn.Module):\n",
    "    def __init__(self, input_dim, hidden_dim, output_dim):\n",
    "        super().__init__()\n",
    "        self.linear = torch.nn.Parameter(torch.randn(input_dim, hidden_dim))\n",
    "        self.act = GeLU_custom()\n",
    "        self.ln = LayerNorm_custom()\n",
    "        self.linear2 = torch.nn.Parameter(torch.randn(hidden_dim, output_dim))\n",
    "\n",
    "    def forward(self, x):\n",
    "        o = x @ self.linear\n",
    "        o = self.act(o)\n",
    "        o = self.ln(o)\n",
    "        o = o @ self.linear2\n",
    "        return o\n",
    "    \n",
    "    def state_dict(self):\n",
    "        from collections import OrderedDict\n",
    "\n",
    "        sd = OrderedDict()\n",
    "        sd['linear'] = self.linear.data\n",
    "        sd['linear2'] = self.linear2.data\n",
    "        return sd\n",
    "\n",
    "class GeLU_custom(torch.nn.Module):\n",
    "    def __init__(self):\n",
    "        super().__init__()\n",
    "\n",
    "    def forward(self, x):\n",
    "        o = 0.5 * x * (1 + torch.tanh(torch.sqrt(torch.tensor(2) / torch.pi) * (x + 0.044715 * torch.pow(x, 3))))\n",
    "        return o\n",
    "\n",
    "class AdamW_custom:\n",
    "    def __init__(self, params, lr=1e-3, betas=(0.9, 0.999), eps=1e-8, weight_decay=1e-2):\n",
    "        self.params = list(params)\n",
    "        self.lr = lr\n",
    "        self.beta1, self.beta2 = betas\n",
    "        self.wd = weight_decay\n",
    "        self.eps = eps\n",
    "        self.step_count = 0\n",
    "\n",
    "        # Initialize momentum and velocity for each parameter\n",
    "        self.m = [torch.zeros_like(p) for p in self.params]\n",
    "        self.v = [torch.zeros_like(p) for p in self.params]\n",
    "\n",
    "        self.ckpt = {}\n",
    "        self.ckpt['param_groups'] = [{\n",
    "            'lr': lr,\n",
    "            'eps': eps,\n",
    "            'betas': (self.beta1, self.beta2),\n",
    "            'weight_decay': self.wd\n",
    "        }]\n",
    "\n",
    "    def zero_grad(self):\n",
    "        for p in self.params:\n",
    "            if p.grad is not None:\n",
    "                p.grad.zero_()\n",
    "\n",
    "    def step(self):\n",
    "        self.step_count += 1\n",
    "\n",
    "        for i, param in enumerate(self.params):\n",
    "            if param.grad is None:\n",
    "                continue\n",
    "\n",
    "            grad = param.grad.data\n",
    "\n",
    "            # Apply weight decay directly to parameters (AdamW style)\n",
    "            param.data.mul_(1 - self.lr * self.wd)\n",
    "\n",
    "            # Update biased first moment estimate\n",
    "            # beta1 * i + (1-beta1) * grad\n",
    "            self.m[i] = self.beta1 * self.m[i] + (1 - self.beta1) * grad\n",
    "\n",
    "            # Update biased second raw moment estimate\n",
    "            self.v[i] = self.beta2 * self.v[i] + (1 - self.beta2) * grad.pow(2)\n",
    "            \n",
    "            # Compute bias-corrected first moment estimate\n",
    "            m_hat = self.m[i] / (1 - self.beta1 ** self.step_count)\n",
    "\n",
    "            # Compute bias-corrected second raw moment estimate\n",
    "            v_hat = self.v[i] / (1 - self.beta2 ** self.step_count)\n",
    "\n",
    "            # Update parameters\n",
    "            param.data.add_(m_hat * -self.lr/ (v_hat.sqrt() + self.eps))\n",
    "\n",
    "        \n",
    "\n",
    "    def state_dict(self):\n",
    "        return self.ckpt"
   ]
  },
  {
   "cell_type": "code",
   "execution_count": 5,
   "id": "6bc0d760",
   "metadata": {},
   "outputs": [
    {
     "data": {
      "text/plain": [
       "DatasetDict({\n",
       "    train: Dataset({\n",
       "        features: ['text'],\n",
       "        num_rows: 2119719\n",
       "    })\n",
       "    validation: Dataset({\n",
       "        features: ['text'],\n",
       "        num_rows: 21990\n",
       "    })\n",
       "})"
      ]
     },
     "execution_count": 5,
     "metadata": {},
     "output_type": "execute_result"
    }
   ],
   "source": [
    "tinystories = load_dataset(\"roneneldan/TinyStories\")\n",
    "tinystories"
   ]
  },
  {
   "cell_type": "code",
   "execution_count": 9,
   "id": "bb4475ee",
   "metadata": {},
   "outputs": [
    {
     "data": {
      "text/plain": [
       "[{'text': 'One day, a little girl named Lily found a needle in her room. She knew it was difficult to play with it because it was sharp. Lily wanted to share the needle with her mom, so she could sew a button on her shirt.\\n\\nLily went to her mom and said, \"Mom, I found this needle. Can you share it with me and sew my shirt?\" Her mom smiled and said, \"Yes, Lily, we can share the needle and fix your shirt.\"\\n\\nTogether, they shared the needle and sewed the button on Lily\\'s shirt. It was not difficult for them because they were sharing and helping each other. After they finished, Lily thanked her mom for sharing the needle and fixing her shirt. They both felt happy because they had shared and worked together.'},\n",
       " {'text': 'Once upon a time, there was a little car named Beep. Beep loved to go fast and play in the sun. Beep was a healthy car because he always had good fuel. Good fuel made Beep happy and strong.\\n\\nOne day, Beep was driving in the park when he saw a big tree. The tree had many leaves that were falling. Beep liked how the leaves fall and wanted to play with them. Beep drove under the tree and watched the leaves fall on him. He laughed and beeped his horn.\\n\\nBeep played with the falling leaves all day. When it was time to go home, Beep knew he needed more fuel. He went to the fuel place and got more healthy fuel. Now, Beep was ready to go fast and play again the next day. And Beep lived happily ever after.'},\n",
       " {'text': 'One day, a little fish named Fin was swimming near the shore. He saw a big crab and wanted to be friends. \"Hi, I am Fin. Do you want to play?\" asked the little fish. The crab looked at Fin and said, \"No, I don\\'t want to play. I am cold and I don\\'t feel fine.\"\\n\\nFin felt sad but wanted to help the crab feel better. He swam away and thought of a plan. He remembered that the sun could make things warm. So, Fin swam to the top of the water and called to the sun, \"Please, sun, help my new friend feel fine and not freeze!\"\\n\\nThe sun heard Fin\\'s call and shone its warm light on the shore. The crab started to feel better and not so cold. He saw Fin and said, \"Thank you, little fish, for making me feel fine. I don\\'t feel like I will freeze now. Let\\'s play together!\" And so, Fin and the crab played and became good friends.'},\n",
       " {'text': 'Once upon a time, in a land full of trees, there was a little cherry tree. The cherry tree was very sad because it did not have any friends. All the other trees were big and strong, but the cherry tree was small and weak. The cherry tree was envious of the big trees.\\n\\nOne day, the cherry tree felt a tickle in its branches. It was a little spring wind. The wind told the cherry tree not to be sad. The wind said, \"You are special because you have sweet cherries that everyone loves.\" The cherry tree started to feel a little better.\\n\\nAs time went on, the cherry tree grew more and more cherries. All the animals in the land came to eat the cherries and play under the cherry tree. The cherry tree was happy because it had many friends now. The cherry tree learned that being different can be a good thing. And they all lived happily ever after.'},\n",
       " {'text': 'Once upon a time, there was a little girl named Lily. Lily liked to pretend she was a popular princess. She lived in a big castle with her best friends, a cat and a dog.\\n\\nOne day, while playing in the castle, Lily found a big cobweb. The cobweb was in the way of her fun game. She wanted to get rid of it, but she was scared of the spider that lived there.\\n\\nLily asked her friends, the cat and the dog, to help her. They all worked together to clean the cobweb. The spider was sad, but it found a new home outside. Lily, the cat, and the dog were happy they could play without the cobweb in the way. And they all lived happily ever after.'},\n",
       " {'text': 'Once upon a time, in a big lake, there was a brown kayak. The brown kayak liked to roll in the water all day long. It was very happy when it could roll and splash in the lake.\\n\\nOne day, a little boy named Tim came to play with the brown kayak. Tim and the brown kayak rolled in the water together. They laughed and had a lot of fun. The sun was shining, and the water was warm.\\n\\nAfter a while, it was time for Tim to go home. He said goodbye to the brown kayak and gave it a big hug. The brown kayak was sad to see Tim go, but it knew they would play together again soon. So, the brown kayak kept rolling in the water, waiting for the next fun day with Tim.'},\n",
       " {'text': 'Once upon a time, in a small town, there was a troubled little girl named Lily. She was always sad because she lost her favorite toy, a triangle. She looked everywhere in her house but could not find it.\\n\\nOne sunny day, Lily went to the park to play. She saw a big puddle of water and thought her triangle might be there. She put her hand in the water to soak it and looked for her toy. She felt something at the bottom of the puddle.\\n\\nLily pulled it out and saw that it was her triangle! She was so happy that she found it. From that day on, Lily was never troubled again. She played with her triangle every day and always kept it close to her. And when she saw puddles, she would smile and remember how she found her toy.'},\n",
       " {'text': 'Once upon a time, in a peaceful town, there lived a little boy named Tim. Tim loved to run and play outside. One day, Tim saw a race in the park. He was excited and wanted to join the race.\\n\\nTim went to his friend, Sarah, and said, \"Let\\'s start the race!\" Sarah smiled and said, \"Yes, let\\'s go!\" They lined up with the other kids and waited for the race to begin. When they heard the word \"Go!\", they started running as fast as they could.\\n\\nTim and Sarah ran with all their speed, laughing and having fun. They could feel the wind in their hair as they raced to the finish line. In the end, Tim won the race and Sarah came in second. They were both so happy and proud of themselves. They celebrated with their friends and had a great day at the park.'},\n",
       " {'text': 'Once upon a time, there was a clever little dog named Max. Max loved to run and play with his friends in the park. One day, Max was running very fast when he fell and hurt his knee.\\n\\nMax went to his friend, the wise old owl, and said, \"Owl, my knee hurts. What can I do?\" The owl thought for a moment and said, \"Max, you should test your knee. Try to walk slowly and see if it still hurts.\"\\n\\nSo Max tested his knee by walking slowly. At first, it hurt a little, but soon Max felt better. He said, \"Thank you, Owl, for your help. Now I can play with my friends again.\"\\n\\nMax was so happy that he could play with his friends without pain. He learned that sometimes, it was good to slow down and listen to his body. And Max and his friends played happily in the park ever after.'},\n",
       " {'text': 'One day, a fast driver named Tim went for a ride in his loud car. He loved to speed down the street and feel the wind in his hair. As he drove, he saw his friend, Sam, standing by the road.\\n\\n\"Hi, Sam!\" Tim called out. \"Do you want to go for a ride?\"\\n\\n\"Yes, please!\" Sam said, and he got in the car. They drove around the town, going fast and having fun. The car was very loud, and everyone could hear them coming.\\n\\nAt last, they stopped at the park to play. They ran and laughed until it was time to go home. Tim and Sam had a great day together, speeding in the loud car and playing in the park.'}]"
      ]
     },
     "execution_count": 9,
     "metadata": {},
     "output_type": "execute_result"
    }
   ],
   "source": [
    "[tinystories['train'][x] for x in range(10)]"
   ]
  },
  {
   "cell_type": "markdown",
   "id": "2f82bec5",
   "metadata": {},
   "source": [
    "## Train a BPE tokenizer on TinyStories dataset"
   ]
  },
  {
   "cell_type": "code",
   "execution_count": 11,
   "id": "69e8ff73",
   "metadata": {},
   "outputs": [],
   "source": [
    "# TBD"
   ]
  },
  {
   "cell_type": "markdown",
   "id": "2d27e539",
   "metadata": {},
   "source": [
    "## Run trained tokenizer to convert tinystories to sequence of Integer IDs"
   ]
  },
  {
   "cell_type": "code",
   "execution_count": 10,
   "id": "6ee53b14",
   "metadata": {},
   "outputs": [],
   "source": [
    "# TBD"
   ]
  },
  {
   "cell_type": "markdown",
   "id": "a5a7e476",
   "metadata": {},
   "source": [
    "# Train a transformer LM on TinyStories dataset"
   ]
  },
  {
   "cell_type": "code",
   "execution_count": 12,
   "id": "17811411",
   "metadata": {},
   "outputs": [],
   "source": [
    "# TBD"
   ]
  },
  {
   "cell_type": "code",
   "execution_count": 173,
   "id": "b28fee5e",
   "metadata": {},
   "outputs": [],
   "source": [
    "bs = 8\n",
    "\n",
    "torch.manual_seed(42)\n",
    "data = torch.randn(30, 5)\n",
    "labels = torch.randn(30)\n",
    "labels = torch.where(labels < 0.7, 0, 1)\n",
    "\n",
    "train_dataset = TensorDataset(data, labels)\n",
    "train_dataloader = DataLoader(train_dataset, batch_size=bs, shuffle=False, num_workers=0)"
   ]
  },
  {
   "cell_type": "code",
   "execution_count": 196,
   "id": "bc1f39ca",
   "metadata": {},
   "outputs": [
    {
     "name": "stdout",
     "output_type": "stream",
     "text": [
      "epoch:  03/ 10 | train_loss:  1.8256\n",
      "epoch:  03/ 10 | train_loss:  1.8074\n",
      "epoch:  03/ 10 | train_loss:  1.7905\n",
      "epoch:  03/ 10 | train_loss:  1.7737\n",
      "epoch:  03/ 10 | train_loss:  1.7572\n",
      "epoch:  03/ 10 | train_loss:  1.7409\n",
      "epoch:  03/ 10 | train_loss:  1.7247\n",
      "epoch:  03/ 10 | train_loss:  1.7087\n",
      "epoch:  03/ 10 | train_loss:  1.6929\n",
      "epoch:  03/ 10 | train_loss:  1.6772\n"
     ]
    }
   ],
   "source": [
    "n_epochs = 10\n",
    "\n",
    "torch.manual_seed(42)\n",
    "model = FFNWithNorm(5, 10, 1)\n",
    "\n",
    "optimizer = AdamW_custom(model.parameters())\n",
    "# optimizer = torch.optim.AdamW(model.parameters())\n",
    "\n",
    "\n",
    "for e in range(n_epochs):\n",
    "\n",
    "    train_loss = 0.0\n",
    "    train_batches = 0\n",
    "    for i, (data, labels) in enumerate(train_dataloader):\n",
    "        logits = model(data)\n",
    "        optimizer.zero_grad()\n",
    "\n",
    "        loss = crossentropyloss(logits, labels)\n",
    "        \n",
    "        # backward pass\n",
    "        loss.backward()\n",
    "\n",
    "        # update weights\n",
    "        optimizer.step()\n",
    "\n",
    "        # logging\n",
    "        train_loss += loss.item()\n",
    "        train_batches += 1\n",
    "\n",
    "    avg_train_loss = train_loss / train_batches\n",
    "\n",
    "    print(f\"epoch: {i: 03d}/{n_epochs: 03d} | train_loss: {avg_train_loss: .4f}\")\n"
   ]
  },
  {
   "cell_type": "code",
   "execution_count": null,
   "id": "04aea700",
   "metadata": {},
   "outputs": [],
   "source": []
  },
  {
   "cell_type": "code",
   "execution_count": 230,
   "id": "007c4a71",
   "metadata": {},
   "outputs": [
    {
     "data": {
      "text/plain": [
       "{'model_state': OrderedDict([('linear',\n",
       "               tensor[5, 10] n=50 x∈[-2.132, 1.904] μ=0.099 σ=1.048),\n",
       "              ('linear2',\n",
       "               tensor[10, 1] x∈[-2.091, 1.252] μ=-0.066 σ=1.188 [[-0.572], [1.252], [-1.554], [-1.138], [0.864], [0.138], [-2.091], [0.925], [0.757], [0.762]])]),\n",
       " 'optimizer_state': {'param_groups': [{'lr': 0.001,\n",
       "    'eps': 1e-08,\n",
       "    'betas': (0.9, 0.999),\n",
       "    'weight_decay': 0.01}]}}"
      ]
     },
     "execution_count": 230,
     "metadata": {},
     "output_type": "execute_result"
    }
   ],
   "source": [
    "ckpt = {\n",
    "    'model_state': model.state_dict(),\n",
    "    'optimizer_state': optimizer.state_dict()\n",
    "}\n",
    "\n",
    "ckpt"
   ]
  },
  {
   "cell_type": "code",
   "execution_count": 240,
   "id": "048229cd",
   "metadata": {},
   "outputs": [
    {
     "data": {
      "text/plain": [
       "['model.pth']"
      ]
     },
     "execution_count": 240,
     "metadata": {},
     "output_type": "execute_result"
    }
   ],
   "source": [
    "import joblib\n",
    "\n",
    "joblib.dump(ckpt, \"model.pth\")"
   ]
  },
  {
   "cell_type": "code",
   "execution_count": 241,
   "id": "67189a60",
   "metadata": {},
   "outputs": [
    {
     "data": {
      "text/plain": [
       "{'model_state': OrderedDict([('linear',\n",
       "               tensor[5, 10] n=50 x∈[-2.132, 1.904] μ=0.099 σ=1.048),\n",
       "              ('linear2',\n",
       "               tensor[10, 1] x∈[-2.091, 1.252] μ=-0.066 σ=1.188 [[-0.572], [1.252], [-1.554], [-1.138], [0.864], [0.138], [-2.091], [0.925], [0.757], [0.762]])]),\n",
       " 'optimizer_state': {'param_groups': [{'lr': 0.001,\n",
       "    'eps': 1e-08,\n",
       "    'betas': (0.9, 0.999),\n",
       "    'weight_decay': 0.01}]}}"
      ]
     },
     "execution_count": 241,
     "metadata": {},
     "output_type": "execute_result"
    }
   ],
   "source": [
    "ckpt = joblib.load(\"model.pth\")\n",
    "ckpt"
   ]
  },
  {
   "cell_type": "markdown",
   "id": "2732e0dc",
   "metadata": {},
   "source": [
    "## Generate samples and evaluate perplexity using the trained transformer LM"
   ]
  },
  {
   "cell_type": "code",
   "execution_count": 14,
   "id": "b8665059",
   "metadata": {},
   "outputs": [],
   "source": [
    "# TBD"
   ]
  },
  {
   "cell_type": "markdown",
   "id": "25da4e08",
   "metadata": {},
   "source": [
    "## Train models on OpenWebText and submit perplexities to a leaderboard"
   ]
  },
  {
   "cell_type": "code",
   "execution_count": 15,
   "id": "df068b5c",
   "metadata": {},
   "outputs": [],
   "source": [
    "# TBD"
   ]
  },
  {
   "cell_type": "code",
   "execution_count": null,
   "id": "abcdb164",
   "metadata": {},
   "outputs": [],
   "source": []
  }
 ],
 "metadata": {
  "kernelspec": {
   "display_name": "learn-env",
   "language": "python",
   "name": "python3"
  },
  "language_info": {
   "codemirror_mode": {
    "name": "ipython",
    "version": 3
   },
   "file_extension": ".py",
   "mimetype": "text/x-python",
   "name": "python",
   "nbconvert_exporter": "python",
   "pygments_lexer": "ipython3",
   "version": "3.12.5"
  }
 },
 "nbformat": 4,
 "nbformat_minor": 5
}
