{
 "cells": [
  {
   "cell_type": "code",
   "execution_count": 4,
   "id": "a1f8f36e",
   "metadata": {},
   "outputs": [
    {
     "name": "stdout",
     "output_type": "stream",
     "text": [
      "2025-07-10 11:05:47.224046\n"
     ]
    }
   ],
   "source": [
    "import torch\n",
    "import lovely_tensors as lt\n",
    "lt.monkey_patch()\n",
    "\n",
    "from datasets import load_dataset\n",
    "\n",
    "from datetime import datetime\n",
    "print(datetime.now())\n",
    "\n"
   ]
  },
  {
   "cell_type": "markdown",
   "id": "70b6f595",
   "metadata": {},
   "source": [
    "# Objectives\n",
    "1. Obtain a standard text dataset from huggingface\n",
    "2. Code up a loss function.\n",
    "3. Bring parity with torch's built-in loss functions."
   ]
  },
  {
   "cell_type": "code",
   "execution_count": 5,
   "id": "cd849f82",
   "metadata": {},
   "outputs": [
    {
     "data": {
      "text/plain": [
       "DatasetDict({\n",
       "    train: Dataset({\n",
       "        features: ['text', 'labels', 'id'],\n",
       "        num_rows: 43410\n",
       "    })\n",
       "    validation: Dataset({\n",
       "        features: ['text', 'labels', 'id'],\n",
       "        num_rows: 5426\n",
       "    })\n",
       "    test: Dataset({\n",
       "        features: ['text', 'labels', 'id'],\n",
       "        num_rows: 5427\n",
       "    })\n",
       "})"
      ]
     },
     "execution_count": 5,
     "metadata": {},
     "output_type": "execute_result"
    }
   ],
   "source": [
    "data_hf = load_dataset(\"google-research-datasets/go_emotions\")\n",
    "data_hf"
   ]
  },
  {
   "cell_type": "code",
   "execution_count": 14,
   "id": "b88935aa",
   "metadata": {},
   "outputs": [
    {
     "name": "stdout",
     "output_type": "stream",
     "text": [
      "28\n"
     ]
    },
    {
     "data": {
      "text/plain": [
       "{0: 'admiration',\n",
       " 1: 'amusement',\n",
       " 2: 'anger',\n",
       " 3: 'annoyance',\n",
       " 4: 'approval',\n",
       " 5: 'caring',\n",
       " 6: 'confusion',\n",
       " 7: 'curiosity',\n",
       " 8: 'desire',\n",
       " 9: 'disappointment',\n",
       " 10: 'disapproval',\n",
       " 11: 'disgust',\n",
       " 12: 'embarrassment',\n",
       " 13: 'excitement',\n",
       " 14: 'fear',\n",
       " 15: 'gratitude',\n",
       " 16: 'grief',\n",
       " 17: 'joy',\n",
       " 18: 'love',\n",
       " 19: 'nervousness',\n",
       " 20: 'optimism',\n",
       " 21: 'pride',\n",
       " 22: 'realization',\n",
       " 23: 'relief',\n",
       " 24: 'remorse',\n",
       " 25: 'sadness',\n",
       " 26: 'surprise',\n",
       " 27: 'neutral'}"
      ]
     },
     "execution_count": 14,
     "metadata": {},
     "output_type": "execute_result"
    }
   ],
   "source": [
    "labels = data_hf['train'].features['labels'].feature.names\n",
    "print(len(labels))\n",
    "{i:l for i, l in enumerate(labels)}"
   ]
  },
  {
   "cell_type": "code",
   "execution_count": 18,
   "id": "431f3ba0",
   "metadata": {},
   "outputs": [],
   "source": [
    "# Doing a multi-class classification problem for now\n",
    "train_y = [x[0] for x in data_hf['train']['labels']]\n",
    "val_y   = [x[0] for x in data_hf['validation']['labels']]\n",
    "test_y  = [x[0] for x in data_hf['test']['labels']]"
   ]
  },
  {
   "cell_type": "markdown",
   "id": "795ae963",
   "metadata": {},
   "source": [
    "# Text Processor"
   ]
  },
  {
   "cell_type": "code",
   "execution_count": 21,
   "id": "84e4e393",
   "metadata": {},
   "outputs": [
    {
     "name": "stdout",
     "output_type": "stream",
     "text": [
      "Vocabulary size: 5000\n",
      "Sample vocab: [('<PAD>', 0), ('<UNK>', 1), ('the', 2), ('i', 3), ('to', 4), ('a', 5), ('and', 6), ('you', 7), ('is', 8), ('that', 9)]\n",
      "Train shape: torch.Size([43410, 16]), torch.Size([43410])\n",
      "Val shape: torch.Size([5426, 16]), torch.Size([5426])\n",
      "Test shape: torch.Size([5427, 16]), torch.Size([5427])\n"
     ]
    }
   ],
   "source": [
    "# Text preprocessing and tokenization\n",
    "from collections import Counter\n",
    "import numpy as np\n",
    "\n",
    "class TextDataProcessor:\n",
    "    def __init__(self, vocab_size=10000, max_length=128):\n",
    "        self.vocab_size = vocab_size\n",
    "        self.max_length = max_length\n",
    "        self.word_to_idx = {}\n",
    "        self.idx_to_word = {}\n",
    "        self.vocab_built = False\n",
    "        \n",
    "    def build_vocab(self, texts):\n",
    "        \"\"\"Build vocabulary from training texts\"\"\"\n",
    "        word_counts = Counter()\n",
    "        for text in texts:\n",
    "            words = text.lower().split()\n",
    "            word_counts.update(words)\n",
    "        \n",
    "        # Keep most frequent words\n",
    "        most_common = word_counts.most_common(self.vocab_size - 2)  # -2 for PAD and UNK\n",
    "        \n",
    "        # Build mappings\n",
    "        self.word_to_idx = {'<PAD>': 0, '<UNK>': 1}\n",
    "        self.idx_to_word = {0: '<PAD>', 1: '<UNK>'}\n",
    "        \n",
    "        for i, (word, _) in enumerate(most_common, start=2):\n",
    "            self.word_to_idx[word] = i\n",
    "            self.idx_to_word[i] = word\n",
    "            \n",
    "        self.vocab_built = True\n",
    "        \n",
    "    def text_to_indices(self, text):\n",
    "        \"\"\"Convert text to sequence of indices\"\"\"\n",
    "        words = text.lower().split()\n",
    "        indices = []\n",
    "        for word in words:\n",
    "            idx = self.word_to_idx.get(word, 1)  # 1 is UNK token\n",
    "            indices.append(idx)\n",
    "        \n",
    "        # Pad or truncate to max_length\n",
    "        if len(indices) < self.max_length:\n",
    "            indices.extend([0] * (self.max_length - len(indices)))\n",
    "        else:\n",
    "            indices = indices[:self.max_length]\n",
    "            \n",
    "        return indices\n",
    "\n",
    "# Process the go_emotions dataset\n",
    "processor = TextDataProcessor(vocab_size=5000, max_length=16)\n",
    "\n",
    "# Extract texts from training set\n",
    "train_texts = [example['text'] for example in data_hf['train']]\n",
    "processor.build_vocab(train_texts)\n",
    "\n",
    "print(f\"Vocabulary size: {len(processor.word_to_idx)}\")\n",
    "print(f\"Sample vocab: {list(processor.word_to_idx.items())[:10]}\")\n",
    "\n",
    "# Convert texts to indices\n",
    "train_sequences = [processor.text_to_indices(text) for text in train_texts]\n",
    "val_sequences = [processor.text_to_indices(text) for text in data_hf['validation']['text']]\n",
    "test_sequences = [processor.text_to_indices(text) for text in data_hf['test']['text']]\n",
    "\n",
    "# Convert to tensors\n",
    "train_X = torch.tensor(train_sequences)\n",
    "val_X = torch.tensor(val_sequences)\n",
    "test_X = torch.tensor(test_sequences)\n",
    "\n",
    "# Get labels (multi-label classification)\n",
    "train_y = torch.tensor(train_y)\n",
    "val_y = torch.tensor(val_y)\n",
    "test_y = torch.tensor(test_y)\n",
    "\n",
    "print(f\"Train shape: {train_X.shape}, {train_y.shape}\")\n",
    "print(f\"Val shape: {val_X.shape}, {val_y.shape}\")\n",
    "print(f\"Test shape: {test_X.shape}, {test_y.shape}\")"
   ]
  },
  {
   "cell_type": "markdown",
   "id": "2e83a545",
   "metadata": {},
   "source": [
    "# Data loaders for our training loop"
   ]
  },
  {
   "cell_type": "code",
   "execution_count": null,
   "id": "862dd586",
   "metadata": {},
   "outputs": [],
   "source": [
    "from torch.utils.data import TensorDataset, DataLoader\n",
    "\n",
    "batch_size = 8\n",
    "\n",
    "train_dataset = TensorDataset(train_X, train_y)\n",
    "val_dataset = TensorDataset(val_X, val_y)\n",
    "test_dataset = TensorDataset(test_X, test_y)\n",
    "\n",
    "train_dataloader = DataLoader(train_dataset, batch_size=batch_size, shuffle=False, num_workers=0)\n",
    "val_dataloader = DataLoader(val_dataset, batch_size=batch_size, shuffle=False, num_workers=0)\n",
    "test_dataloader = DataLoader(test_dataset, batch_size=batch_size, shuffle=False, num_workers=0)"
   ]
  },
  {
   "cell_type": "code",
   "execution_count": 27,
   "id": "0b4aa863",
   "metadata": {},
   "outputs": [
    {
     "name": "stdout",
     "output_type": "stream",
     "text": [
      "tensor[8, 16] i64 n=128 (1Kb) x∈[0, 4576] μ=326.953 σ=864.634\n",
      "tensor([[  17, 1225,  708,    8,  225,    3,  133,   24,    4,    1, 1323,    0,\n",
      "            0,    0,    0,    0],\n",
      "        [  95,   32,   30,  164,  166,    1,  197,   64,   55, 1226,  238,    5,\n",
      "          571, 4177,   27,   49],\n",
      "        [  84,    2,  203,    8,    1,    1,    0,    0,    0,    0,    0,    0,\n",
      "            0,    0,    0,    0],\n",
      "        [   4,  102,   68,  107,    1,    0,    0,    0,    0,    0,    0,    0,\n",
      "            0,    0,    0,    0],\n",
      "        [1877, 3333,    1,    0,    0,    0,    0,    0,    0,    0,    0,    0,\n",
      "            0,    0,    0,    0],\n",
      "        [ 418,    1,  222,   50,  271,    4,  235,  172,   14,    2,    1, 2035,\n",
      "         4575,  659,    1, 4576],\n",
      "        [ 303,    3,  316,    1,    2, 2187,    1,    9,   65,    4,   19, 2525,\n",
      "           89,   15,   29,    1],\n",
      "        [  43,  123,   61,    1,    6,    4, 1501,    5,  346,   61, 1129,   15,\n",
      "          101,  110, 2960,   19]]) tensor[8] i64 x∈[2, 27] μ=15.250 σ=10.498 [27, 27, 2, 14, 3, 26, 15, 8]\n",
      "tensor([27, 27,  2, 14,  3, 26, 15,  8])\n"
     ]
    }
   ],
   "source": [
    "for X, y in train_dataloader:\n",
    "    print(X.v, y.v)\n",
    "    break"
   ]
  },
  {
   "cell_type": "markdown",
   "id": "b17535c3",
   "metadata": {},
   "source": [
    "# Multi-class classification model definition"
   ]
  },
  {
   "cell_type": "code",
   "execution_count": 32,
   "id": "9cd72819",
   "metadata": {},
   "outputs": [
    {
     "name": "stdout",
     "output_type": "stream",
     "text": [
      "[160000, 160, 5, 140, 28]\n"
     ]
    }
   ],
   "source": [
    "class EmbeddingClassifier(torch.nn.Module):\n",
    "    def __init__(self, embedding_size, embedding_dim, dropout_rate, hidden_dim, num_classes):\n",
    "        super().__init__()\n",
    "        self.embedding = torch.nn.Embedding(num_embeddings=embedding_size, embedding_dim=embedding_dim, padding_idx=0) #what is padding idx?\n",
    "        self.dropout1 = torch.nn.Dropout(p=dropout_rate)\n",
    "        self.linear1 = torch.nn.Linear(embedding_dim, hidden_dim, bias=True)\n",
    "        self.dropout2 = torch.nn.Dropout(p=dropout_rate)\n",
    "        self.relu = torch.nn.ReLU()\n",
    "        self.linear2 = torch.nn.Linear(hidden_dim, num_classes, bias=True)\n",
    "\n",
    "    def forward(self, batch_x):\n",
    "        x = self.embedding(batch_x) # shape: (batch_size, sequence_len, embedding_dim)\n",
    "        x = self.dropout1(x) # shape: (batch_size, sequence_len, embedding_dim)\n",
    "        \n",
    "        # mean pooling across sequence dimension\n",
    "        x = x.mean(dim=1) # shape: (batch_size, embedding_dim)\n",
    "        x = self.linear1(x) # shape: (batch_size, hidden_dim)\n",
    "        x = self.dropout2(x) # shape: (batch_size, hidden_dim)\n",
    "        x = self.relu(x) # shape: (batch_size, hidden_dim)\n",
    "        x = self.linear2(x) # shape: (batch_size, num_classes)\n",
    "        return x\n",
    "\n",
    "torch.manual_seed(42)\n",
    "model = EmbeddingClassifier(embedding_size=5000, embedding_dim=32, dropout_rate=0.5, hidden_dim=5, num_classes=28)\n",
    "model\n",
    "print([p.numel() for p in model.parameters()])"
   ]
  },
  {
   "cell_type": "code",
   "execution_count": 86,
   "id": "2ce874e1",
   "metadata": {},
   "outputs": [],
   "source": [
    "# from torchinfo import summary\n",
    "\n",
    "# summary(model, input_size=(1,))"
   ]
  },
  {
   "cell_type": "markdown",
   "id": "e6ddb870",
   "metadata": {},
   "source": [
    "# Multi-class classification model training"
   ]
  },
  {
   "cell_type": "code",
   "execution_count": 81,
   "id": "861562f5",
   "metadata": {},
   "outputs": [
    {
     "name": "stdout",
     "output_type": "stream",
     "text": [
      "epoch: 000/020 | train_loss: 2.931280 | val_loss: 2.785795\n",
      "epoch: 001/020 | train_loss: 2.749333 | val_loss: 2.735700\n",
      "epoch: 002/020 | train_loss: 2.720167 | val_loss: 2.712663\n",
      "epoch: 003/020 | train_loss: 2.700190 | val_loss: 2.690259\n",
      "epoch: 004/020 | train_loss: 2.684238 | val_loss: 2.681761\n",
      "epoch: 005/020 | train_loss: 2.670826 | val_loss: 2.669599\n",
      "epoch: 006/020 | train_loss: 2.654591 | val_loss: 2.653177\n",
      "epoch: 007/020 | train_loss: 2.642230 | val_loss: 2.636552\n",
      "epoch: 008/020 | train_loss: 2.628418 | val_loss: 2.626567\n",
      "epoch: 009/020 | train_loss: 2.612797 | val_loss: 2.610199\n",
      "epoch: 010/020 | train_loss: 2.605967 | val_loss: 2.598433\n",
      "epoch: 011/020 | train_loss: 2.597314 | val_loss: 2.590166\n",
      "epoch: 012/020 | train_loss: 2.583689 | val_loss: 2.600784\n",
      "epoch: 013/020 | train_loss: 2.578484 | val_loss: 2.584969\n",
      "epoch: 014/020 | train_loss: 2.573356 | val_loss: 2.575853\n",
      "epoch: 015/020 | train_loss: 2.565800 | val_loss: 2.562554\n",
      "epoch: 016/020 | train_loss: 2.561173 | val_loss: 2.561459\n",
      "epoch: 017/020 | train_loss: 2.554689 | val_loss: 2.566303\n",
      "epoch: 018/020 | train_loss: 2.550319 | val_loss: 2.554868\n",
      "epoch: 019/020 | train_loss: 2.542547 | val_loss: 2.555625\n"
     ]
    }
   ],
   "source": [
    "n_epochs = 20\n",
    "\n",
    "train_losses = []\n",
    "val_losses = []\n",
    "train_wnorms = []\n",
    "train_gnorms = []\n",
    "\n",
    "torch.manual_seed(42)\n",
    "model = EmbeddingClassifier(embedding_size=5000, embedding_dim=32, dropout_rate=0.5, hidden_dim=5, num_classes=28)\n",
    "\n",
    "criterion = torch.nn.CrossEntropyLoss()\n",
    "optimizer = torch.optim.Adam(model.parameters(), lr=3e-4)\n",
    "\n",
    "for i in range(n_epochs):\n",
    "\n",
    "    total_train_loss = 0.0\n",
    "    total_train_batches = 0\n",
    "\n",
    "    for b_X, b_y in train_dataloader:\n",
    "        # forward pass\n",
    "        train_logits = model(b_X)\n",
    "\n",
    "        # backward pass\n",
    "        optimizer.zero_grad()\n",
    "        loss = criterion(train_logits, b_y)\n",
    "\n",
    "        loss.backward()\n",
    "        \n",
    "        # weight updates\n",
    "        optimizer.step()\n",
    "\n",
    "        total_train_loss += loss.item()\n",
    "        total_train_batches += 1\n",
    "\n",
    "        # logging diagnostics\n",
    "        all_wparams = torch.cat([x.data.view(-1) for x in model.parameters()])\n",
    "        all_gparams = torch.cat([x.grad.view(-1) for x in model.parameters()])\n",
    "        wnorm = all_wparams.norm().item()\n",
    "        gnorm = all_gparams.norm().item()\n",
    "\n",
    "        train_wnorms.append(wnorm)\n",
    "        train_gnorms.append(gnorm)\n",
    "\n",
    "    avg_train_loss = total_train_loss / total_train_batches\n",
    "    train_losses.append(avg_train_loss)\n",
    "\n",
    "    total_val_loss = 0.0\n",
    "    total_val_batches = 0\n",
    "    with torch.no_grad():\n",
    "        for b_X, b_y in val_dataloader:\n",
    "            logits = model(b_X)\n",
    "            val_loss = criterion(logits, b_y)\n",
    "\n",
    "            total_val_loss += val_loss.item()\n",
    "            total_val_batches +=1\n",
    "    \n",
    "    avg_val_loss = total_val_loss / total_val_batches\n",
    "    val_losses.append(avg_val_loss)\n",
    "\n",
    "    print(f\"epoch: {i:03d}/{n_epochs:03d} | train_loss: {avg_train_loss:4f} | val_loss: {avg_val_loss:3f}\")\n"
   ]
  },
  {
   "cell_type": "code",
   "execution_count": 80,
   "id": "e39df1d8",
   "metadata": {},
   "outputs": [
    {
     "data": {
      "text/plain": [
       "406.9892272949219"
      ]
     },
     "execution_count": 80,
     "metadata": {},
     "output_type": "execute_result"
    }
   ],
   "source": [
    "model.embedding.weight.view(-1).norm().item()"
   ]
  },
  {
   "cell_type": "markdown",
   "id": "318a9224",
   "metadata": {},
   "source": [
    "# Model diagnostics"
   ]
  },
  {
   "cell_type": "code",
   "execution_count": null,
   "id": "50c93a02",
   "metadata": {},
   "outputs": [
    {
     "data": {
      "image/png": "[encoded data removed]",
      "text/plain": [
       "<Figure size 1200x400 with 2 Axes>"
      ]
     },
     "metadata": {},
     "output_type": "display_data"
    }
   ],
   "source": [
    "# copied over from older codebase\n",
    "\n",
    "import matplotlib.pyplot as plt\n",
    "%matplotlib inline\n",
    "\n",
    "fig, axes = plt.subplots(1, 2, figsize=(12, 4))\n",
    "\n",
    "epochs = list(range(n_epochs))\n",
    "\n",
    "# Plot train and val loss on the same plot\n",
    "axes[0].plot(epochs, train_losses, label='Train Loss', color='blue', marker='o', linestyle='dashed', alpha=0.7)\n",
    "axes[0].plot(epochs, val_losses, label='Val Loss', color='red', marker='o', linestyle='dashed', alpha=0.7)\n",
    "axes[0].set_xlabel('Epoch')\n",
    "axes[0].set_ylabel('Loss')\n",
    "axes[0].set_title('Train & Val Loss Across Epochs')\n",
    "axes[0].set_xticks(epochs)\n",
    "# axes[0].set_ylim(bottom=0)  # Start y-axis from zero\n",
    "axes[0].grid(True)\n",
    "axes[0].legend()\n",
    "\n",
    "# todo across steps and not epochs\n",
    "# Plot gradient norms\n",
    "# axes[1].scatter(epochs, train_gnorms, color='green')\n",
    "# axes[1].plot(epochs, train_gnorms, linestyle='dashed', alpha=0.5)\n",
    "# axes[1].set_xlabel('Epoch')\n",
    "# axes[1].set_ylabel('Norm of Grad Parameters')\n",
    "# axes[1].set_title('Norm of Grad Parameters Across Epochs')\n",
    "# axes[1].set_xticks(epochs)\n",
    "# axes[1].set_ylim(bottom=0)  # Start y-axis from zero\n",
    "# axes[1].grid(True)\n",
    "\n",
    "plt.tight_layout()\n",
    "plt.show()\n"
   ]
  },
  {
   "cell_type": "code",
   "execution_count": 87,
   "id": "0bee16e2",
   "metadata": {},
   "outputs": [
    {
     "data": {
      "text/plain": [
       "datetime.datetime(2025, 7, 10, 13, 4, 39, 429049)"
      ]
     },
     "execution_count": 87,
     "metadata": {},
     "output_type": "execute_result"
    }
   ],
   "source": [
    "datetime.now()"
   ]
  },
  {
   "cell_type": "code",
   "execution_count": null,
   "id": "6e1615c9",
   "metadata": {},
   "outputs": [],
   "source": []
  }
 ],
 "metadata": {
  "kernelspec": {
   "display_name": "learn-env",
   "language": "python",
   "name": "python3"
  },
  "language_info": {
   "codemirror_mode": {
    "name": "ipython",
    "version": 3
   },
   "file_extension": ".py",
   "mimetype": "text/x-python",
   "name": "python",
   "nbconvert_exporter": "python",
   "pygments_lexer": "ipython3",
   "version": "3.12.5"
  }
 },
 "nbformat": 4,
 "nbformat_minor": 5
}
