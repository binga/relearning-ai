{
 "cells": [
  {
   "cell_type": "code",
   "execution_count": 2,
   "id": "3a4bae52",
   "metadata": {},
   "outputs": [
    {
     "name": "stderr",
     "output_type": "stream",
     "text": [
      "/Users/phani/Work/Adhoc/projects/relearning-ai/learn-env/lib/python3.12/site-packages/tqdm/auto.py:21: TqdmWarning: IProgress not found. Please update jupyter and ipywidgets. See https://ipywidgets.readthedocs.io/en/stable/user_install.html\n",
      "  from .autonotebook import tqdm as notebook_tqdm\n"
     ]
    }
   ],
   "source": [
    "from transformers import pipeline\n",
    "\n",
    "from pprint import pprint"
   ]
  },
  {
   "cell_type": "markdown",
   "id": "0347acb9",
   "metadata": {},
   "source": [
    "## HuggingFace Pipeline abstraction"
   ]
  },
  {
   "cell_type": "code",
   "execution_count": 3,
   "id": "e014b83b",
   "metadata": {},
   "outputs": [
    {
     "name": "stderr",
     "output_type": "stream",
     "text": [
      "Device set to use mps\n"
     ]
    },
    {
     "data": {
      "text/plain": [
       "<transformers.pipelines.text_generation.TextGenerationPipeline at 0x163252120>"
      ]
     },
     "execution_count": 3,
     "metadata": {},
     "output_type": "execute_result"
    }
   ],
   "source": [
    "pipe = pipeline(\"text-generation\", \"Qwen/Qwen3-0.6B\", device_map=\"auto\")\n",
    "pipe"
   ]
  },
  {
   "cell_type": "code",
   "execution_count": 4,
   "id": "8e7d1f5c",
   "metadata": {},
   "outputs": [
    {
     "data": {
      "text/plain": [
       "[{'generated_text': [{'role': 'system',\n",
       "    'content': 'You are a helpful assistant.'},\n",
       "   {'role': 'user', 'content': 'What is 2+2?'},\n",
       "   {'role': 'assistant',\n",
       "    'content': '<think>\\nOkay, the user is asking, \"What is 2+2?\" Let me think. Well, 2 plus 2 is straightforward. In basic arithmetic, adding two numbers together. So, 2 + 2 equals 4. But wait, maybe they need more context? Sometimes people add numbers in different ways. For example, if it\\'s a math problem, the answer is 4. But since the question is just a simple addition, the answer should be 4. Let me make sure there\\'s no trick here. No, 2+2 is just 4. I should present the answer clearly and confirm if they need more help.\\n</think>\\n\\n2 + 2 equals **4**.'}]}]"
      ]
     },
     "execution_count": 4,
     "metadata": {},
     "output_type": "execute_result"
    }
   ],
   "source": [
    "messages = [\n",
    "    {\"role\": \"system\", \"content\": \"You are a helpful assistant.\"},\n",
    "    {\"role\": \"user\", \"content\": \"What is 2+2?\"}\n",
    "\n",
    "]\n",
    "\n",
    "response = pipe(messages, max_new_tokens=512, temperature=0.7)\n",
    "response"
   ]
  },
  {
   "cell_type": "code",
   "execution_count": 5,
   "id": "26bcf22f",
   "metadata": {},
   "outputs": [
    {
     "name": "stdout",
     "output_type": "stream",
     "text": [
      "('<think>\\n'\n",
      " 'Okay, the user is asking, \"What is 2+2?\" Let me think. Well, 2 plus 2 is '\n",
      " 'straightforward. In basic arithmetic, adding two numbers together. So, 2 + 2 '\n",
      " 'equals 4. But wait, maybe they need more context? Sometimes people add '\n",
      " \"numbers in different ways. For example, if it's a math problem, the answer \"\n",
      " 'is 4. But since the question is just a simple addition, the answer should be '\n",
      " \"4. Let me make sure there's no trick here. No, 2+2 is just 4. I should \"\n",
      " 'present the answer clearly and confirm if they need more help.\\n'\n",
      " '</think>\\n'\n",
      " '\\n'\n",
      " '2 + 2 equals **4**.')\n"
     ]
    }
   ],
   "source": [
    "pprint(response[0]['generated_text'][-1]['content'])"
   ]
  },
  {
   "cell_type": "markdown",
   "id": "5e39d0c2",
   "metadata": {},
   "source": [
    "## Advanced pipeline usage"
   ]
  },
  {
   "cell_type": "code",
   "execution_count": 6,
   "id": "8331481b",
   "metadata": {},
   "outputs": [
    {
     "name": "stderr",
     "output_type": "stream",
     "text": [
      "Device set to use mps\n"
     ]
    },
    {
     "data": {
      "text/plain": [
       "<transformers.pipelines.text_generation.TextGenerationPipeline at 0x166c84f80>"
      ]
     },
     "execution_count": 6,
     "metadata": {},
     "output_type": "execute_result"
    }
   ],
   "source": [
    "pipe = pipeline(\"text-generation\", \"Qwen/Qwen3-0.6B\", device_map=\"auto\")\n",
    "pipe"
   ]
  },
  {
   "cell_type": "code",
   "execution_count": 8,
   "id": "26f8ccdc",
   "metadata": {},
   "outputs": [],
   "source": [
    "generation_config = {\n",
    "    \"temperature\": 0.7,\n",
    "    \"top_p\": 0.9,\n",
    "    \"do_sample\": True,\n",
    "    \"max_new_tokens\": 512,\n",
    "    \"repetition_penalty\": 1.1\n",
    "}"
   ]
  },
  {
   "cell_type": "markdown",
   "id": "3808a135",
   "metadata": {},
   "source": [
    "What about top_k?"
   ]
  },
  {
   "cell_type": "code",
   "execution_count": 10,
   "id": "5aa51921",
   "metadata": {},
   "outputs": [],
   "source": [
    "# Multi-turn conversation\n",
    "messages = [\n",
    "    {\"role\": \"system\", \"content\": \"You are a helpful tutor.\"},\n",
    "    {\"role\": \"user\", \"content\": \"What is algebra?\"}\n",
    "]"
   ]
  },
  {
   "cell_type": "code",
   "execution_count": 12,
   "id": "4db22874",
   "metadata": {},
   "outputs": [],
   "source": [
    "response = pipe(messages, **generation_config)"
   ]
  },
  {
   "cell_type": "code",
   "execution_count": 15,
   "id": "3b283426",
   "metadata": {},
   "outputs": [
    {
     "data": {
      "text/plain": [
       "[{'role': 'system', 'content': 'You are a helpful tutor.'},\n",
       " {'role': 'user', 'content': 'What is algebra?'},\n",
       " {'role': 'assistant',\n",
       "  'content': '<think>\\nOkay, so I need to explain what algebra is. Let me start by recalling my basic understanding. Algebra is all about variables and expressions. I think it\\'s like solving equations, but with letters instead of numbers. Maybe something like \"a number multiplied by a variable\" or \"something in the form of a + b.\" \\n\\nWait, I remember that algebra has two main parts: arithmetic and algebra. Arithmetic is just the usual operations with numbers, right? And algebra is more abstract because you use variables instead of specific numbers. So algebra uses symbols to represent unknown values.\\n\\nI should mention examples to make this clearer. Like, if I have an equation like 2x = 6, algebra helps solve for x. That\\'s where variables come into play. But wait, maybe I should define variables first. A variable is a symbol, often a letter or number, that represents a quantity that can change. For example, if we say a = 5, then a is 5, which is a constant, and maybe other variables could be different numbers.\\n\\nAlso, algebra involves using operations and equations to find solutions. It\\'s not just memorizing formulas; it\\'s applying those concepts. For instance, when dealing with polynomials, you combine terms. Polynomials are expressions with multiple terms. So algebra covers both simple operations and more complex structures.\\n\\nIs there anything else I should include? Maybe the history of algebra, how it evolved from ancient civilizations to modern times. But since the user asked for an explanation, perhaps keeping it straightforward would be better. Let me check if I\\'m mixing up things. I know that algebra is related to geometry too, especially with coordinates and graphs, but maybe that\\'s more advanced than just the basics.\\n\\nSo putting it all together: Algebra is a branch of mathematics that deals with symbols and letters to represent quantities. These symbols allow us to solve problems involving unknowns. Variables take on different values, and operations are used to manipulate these symbols to reach solutions.\\n</think>\\n\\nAlgebra is a fundamental branch of mathematics that deals with symbols and letters to represent quantities and variables. Unlike arithmetic, which focuses solely on numerical computations, algebra introduces symbols (such as $a$, $b$, $c$) to denote unknown values or quantities. These variables can take on different values depending on the context, making algebra a tool for problem-solving and generalization.\\n\\n### Key Concepts:\\n1. **Variables**: Symbols (letters) that stand for unknown values.  \\n   Example: If $a = 3$, then'}]"
      ]
     },
     "execution_count": 15,
     "metadata": {},
     "output_type": "execute_result"
    }
   ],
   "source": [
    "conversation = response[0]['generated_text']\n",
    "conversation"
   ]
  },
  {
   "cell_type": "code",
   "execution_count": 16,
   "id": "54095ecd",
   "metadata": {},
   "outputs": [],
   "source": [
    "# Continue the conversation\n",
    "conversation.append({\"role\": \"user\", \"content\": \"How can we add x+y?\"})\n",
    "response = pipe(conversation, **generation_config)"
   ]
  },
  {
   "cell_type": "code",
   "execution_count": 18,
   "id": "29dea334",
   "metadata": {},
   "outputs": [
    {
     "name": "stdout",
     "output_type": "stream",
     "text": [
      "Final conversation::\n",
      "[{'content': 'You are a helpful tutor.', 'role': 'system'},\n",
      " {'content': 'What is algebra?', 'role': 'user'},\n",
      " {'content': '<think>\\n'\n",
      "             'Okay, so I need to explain what algebra is. Let me start by '\n",
      "             'recalling my basic understanding. Algebra is all about variables '\n",
      "             \"and expressions. I think it's like solving equations, but with \"\n",
      "             'letters instead of numbers. Maybe something like \"a number '\n",
      "             'multiplied by a variable\" or \"something in the form of a + b.\" \\n'\n",
      "             '\\n'\n",
      "             'Wait, I remember that algebra has two main parts: arithmetic and '\n",
      "             'algebra. Arithmetic is just the usual operations with numbers, '\n",
      "             'right? And algebra is more abstract because you use variables '\n",
      "             'instead of specific numbers. So algebra uses symbols to '\n",
      "             'represent unknown values.\\n'\n",
      "             '\\n'\n",
      "             'I should mention examples to make this clearer. Like, if I have '\n",
      "             \"an equation like 2x = 6, algebra helps solve for x. That's where \"\n",
      "             'variables come into play. But wait, maybe I should define '\n",
      "             'variables first. A variable is a symbol, often a letter or '\n",
      "             'number, that represents a quantity that can change. For example, '\n",
      "             'if we say a = 5, then a is 5, which is a constant, and maybe '\n",
      "             'other variables could be different numbers.\\n'\n",
      "             '\\n'\n",
      "             'Also, algebra involves using operations and equations to find '\n",
      "             \"solutions. It's not just memorizing formulas; it's applying \"\n",
      "             'those concepts. For instance, when dealing with polynomials, you '\n",
      "             'combine terms. Polynomials are expressions with multiple terms. '\n",
      "             'So algebra covers both simple operations and more complex '\n",
      "             'structures.\\n'\n",
      "             '\\n'\n",
      "             'Is there anything else I should include? Maybe the history of '\n",
      "             'algebra, how it evolved from ancient civilizations to modern '\n",
      "             'times. But since the user asked for an explanation, perhaps '\n",
      "             \"keeping it straightforward would be better. Let me check if I'm \"\n",
      "             'mixing up things. I know that algebra is related to geometry '\n",
      "             \"too, especially with coordinates and graphs, but maybe that's \"\n",
      "             'more advanced than just the basics.\\n'\n",
      "             '\\n'\n",
      "             'So putting it all together: Algebra is a branch of mathematics '\n",
      "             'that deals with symbols and letters to represent quantities. '\n",
      "             'These symbols allow us to solve problems involving unknowns. '\n",
      "             'Variables take on different values, and operations are used to '\n",
      "             'manipulate these symbols to reach solutions.\\n'\n",
      "             '</think>\\n'\n",
      "             '\\n'\n",
      "             'Algebra is a fundamental branch of mathematics that deals with '\n",
      "             'symbols and letters to represent quantities and variables. '\n",
      "             'Unlike arithmetic, which focuses solely on numerical '\n",
      "             'computations, algebra introduces symbols (such as $a$, $b$, $c$) '\n",
      "             'to denote unknown values or quantities. These variables can take '\n",
      "             'on different values depending on the context, making algebra a '\n",
      "             'tool for problem-solving and generalization.\\n'\n",
      "             '\\n'\n",
      "             '### Key Concepts:\\n'\n",
      "             '1. **Variables**: Symbols (letters) that stand for unknown '\n",
      "             'values.  \\n'\n",
      "             '   Example: If $a = 3$, then',\n",
      "  'role': 'assistant'},\n",
      " {'content': 'How can we add x+y?', 'role': 'user'},\n",
      " {'content': '<think>\\n'\n",
      "             'Okay, so I need to figure out how to add x and y. Let me start '\n",
      "             'by recalling what I know about algebra. When you have two terms, '\n",
      "             'like x and y, adding them together means combining those terms '\n",
      "             'into one. For example, if x is 5 and y is 7, adding them would '\n",
      "             \"give 5 + 7 = 12. But in algebra, variables don't have numbers; \"\n",
      "             \"they're placeholders for unknowns.\\n\"\n",
      "             '\\n'\n",
      "             \"Wait, but maybe there's more to it than just adding the numbers? \"\n",
      "             'Like, could there be other ways to interpret this? Hmm. The user '\n",
      "             'might be confused because sometimes when you see \"add\" in math '\n",
      "             \"problems, people think of actual numbers, but in algebra, it's \"\n",
      "             'always about variables. So if the question was about combining x '\n",
      "             'and y, the answer should be x + y, right?\\n'\n",
      "             '\\n'\n",
      "             'Let me check an example. Suppose I have 3x + 4y. That would be '\n",
      "             \"adding 3 times x and 4 times y. Similarly, if it's 5x + 6y, \"\n",
      "             \"that's adding 5 times x and 6 times y. So yeah, the expression \"\n",
      "             'is simply adding the coefficients multiplied by their respective '\n",
      "             'variables.\\n'\n",
      "             '\\n'\n",
      "             'I should also mention that variables can be combined in '\n",
      "             'different ways, but here only addition is involved. Maybe '\n",
      "             \"explain that variables are not numbers, so adding them doesn't \"\n",
      "             'change anything except the result. Also, clarify that this is a '\n",
      "             'basic operation in algebra, similar to how we do addition in '\n",
      "             'arithmetic but using letters instead of numbers.\\n'\n",
      "             '</think>\\n'\n",
      "             '\\n'\n",
      "             'Adding $ x $ and $ y $ involves combining these two terms into a '\n",
      "             'single expression. In algebra, variables (like $ x $ and $ y $) '\n",
      "             'are used to represent unknown quantities, and operations like '\n",
      "             'addition combine these variables. \\n'\n",
      "             '\\n'\n",
      "             'For example:\\n'\n",
      "             '- If $ x = 2 $ and $ y = 5 $, then $ x + y = 7 $.  \\n'\n",
      "             '- If $ x = 3x $ and $ y = 4y $, then $ x + y = 3x + 4y $.\\n'\n",
      "             '\\n'\n",
      "             'In algebraic expressions, addition simply combines like terms, '\n",
      "             'so $ x + y $ represents the sum of these two variables without '\n",
      "             'any additional computation. This is a foundational concept in '\n",
      "             'algebra, similar to how we perform additions in arithmetic but '\n",
      "             'using symbols instead of numbers.',\n",
      "  'role': 'assistant'}]\n"
     ]
    }
   ],
   "source": [
    "print(\"Final conversation::\")\n",
    "pprint(response[0]['generated_text'])"
   ]
  },
  {
   "cell_type": "code",
   "execution_count": null,
   "id": "5132922d",
   "metadata": {},
   "outputs": [],
   "source": []
  }
 ],
 "metadata": {
  "kernelspec": {
   "display_name": "learn-env",
   "language": "python",
   "name": "python3"
  },
  "language_info": {
   "codemirror_mode": {
    "name": "ipython",
    "version": 3
   },
   "file_extension": ".py",
   "mimetype": "text/x-python",
   "name": "python",
   "nbconvert_exporter": "python",
   "pygments_lexer": "ipython3",
   "version": "3.12.5"
  }
 },
 "nbformat": 4,
 "nbformat_minor": 5
}
