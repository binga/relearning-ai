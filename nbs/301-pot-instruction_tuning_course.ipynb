{
 "cells": [
  {
   "cell_type": "code",
   "execution_count": 2,
   "id": "3a4bae52",
   "metadata": {},
   "outputs": [],
   "source": [
    "from transformers import pipeline\n",
    "\n",
    "from pprint import pprint"
   ]
  },
  {
   "cell_type": "markdown",
   "id": "0347acb9",
   "metadata": {},
   "source": [
    "## HuggingFace Pipeline abstraction"
   ]
  },
  {
   "cell_type": "code",
   "execution_count": 3,
   "id": "e014b83b",
   "metadata": {},
   "outputs": [
    {
     "name": "stderr",
     "output_type": "stream",
     "text": [
      "Device set to use mps\n"
     ]
    },
    {
     "data": {
      "text/plain": [
       "<transformers.pipelines.text_generation.TextGenerationPipeline at 0x1348bad50>"
      ]
     },
     "execution_count": 3,
     "metadata": {},
     "output_type": "execute_result"
    }
   ],
   "source": [
    "pipe = pipeline(\"text-generation\", \"Qwen/Qwen3-0.6B\", device_map=\"auto\")\n",
    "pipe"
   ]
  },
  {
   "cell_type": "code",
   "execution_count": 4,
   "id": "8e7d1f5c",
   "metadata": {},
   "outputs": [
    {
     "data": {
      "text/plain": [
       "[{'generated_text': [{'role': 'system',\n",
       "    'content': 'You are a helpful assistant.'},\n",
       "   {'role': 'user', 'content': 'What is 2+2?'},\n",
       "   {'role': 'assistant',\n",
       "    'content': \"<think>\\nOkay, the user is asking what 2 plus 2 is. Let me think. Well, in basic arithmetic, adding 2 and 2 would result in 4. But maybe they want more details or context? Let me check if there's any trick here. No, this is straightforward. I should just confirm the answer clearly.\\n</think>\\n\\n2 + 2 equals 4.\"}]}]"
      ]
     },
     "execution_count": 4,
     "metadata": {},
     "output_type": "execute_result"
    }
   ],
   "source": [
    "messages = [\n",
    "    {\"role\": \"system\", \"content\": \"You are a helpful assistant.\"},\n",
    "    {\"role\": \"user\", \"content\": \"What is 2+2?\"}\n",
    "\n",
    "]\n",
    "\n",
    "response = pipe(messages, max_new_tokens=512, temperature=0.7)\n",
    "response"
   ]
  },
  {
   "cell_type": "code",
   "execution_count": 5,
   "id": "26bcf22f",
   "metadata": {},
   "outputs": [
    {
     "name": "stdout",
     "output_type": "stream",
     "text": [
      "('<think>\\n'\n",
      " 'Okay, the user is asking what 2 plus 2 is. Let me think. Well, in basic '\n",
      " 'arithmetic, adding 2 and 2 would result in 4. But maybe they want more '\n",
      " \"details or context? Let me check if there's any trick here. No, this is \"\n",
      " 'straightforward. I should just confirm the answer clearly.\\n'\n",
      " '</think>\\n'\n",
      " '\\n'\n",
      " '2 + 2 equals 4.')\n"
     ]
    }
   ],
   "source": [
    "pprint(response[0]['generated_text'][-1]['content'])"
   ]
  },
  {
   "cell_type": "markdown",
   "id": "5e39d0c2",
   "metadata": {},
   "source": [
    "## Advanced pipeline usage"
   ]
  },
  {
   "cell_type": "code",
   "execution_count": 6,
   "id": "8331481b",
   "metadata": {},
   "outputs": [
    {
     "name": "stderr",
     "output_type": "stream",
     "text": [
      "Device set to use mps\n"
     ]
    },
    {
     "data": {
      "text/plain": [
       "<transformers.pipelines.text_generation.TextGenerationPipeline at 0x1261c7fe0>"
      ]
     },
     "execution_count": 6,
     "metadata": {},
     "output_type": "execute_result"
    }
   ],
   "source": [
    "pipe = pipeline(\"text-generation\", \"Qwen/Qwen3-0.6B\", device_map=\"auto\")\n",
    "pipe"
   ]
  },
  {
   "cell_type": "code",
   "execution_count": 7,
   "id": "26f8ccdc",
   "metadata": {},
   "outputs": [],
   "source": [
    "generation_config = {\n",
    "    \"temperature\": 0.7,\n",
    "    \"top_p\": 0.9,\n",
    "    \"do_sample\": True,\n",
    "    \"max_new_tokens\": 512,\n",
    "    \"repetition_penalty\": 1.1\n",
    "}"
   ]
  },
  {
   "cell_type": "markdown",
   "id": "3808a135",
   "metadata": {},
   "source": [
    "What about top_k?"
   ]
  },
  {
   "cell_type": "code",
   "execution_count": 8,
   "id": "5aa51921",
   "metadata": {},
   "outputs": [],
   "source": [
    "# Multi-turn conversation\n",
    "messages = [\n",
    "    {\"role\": \"system\", \"content\": \"You are a helpful tutor.\"},\n",
    "    {\"role\": \"user\", \"content\": \"What is algebra?\"}\n",
    "]"
   ]
  },
  {
   "cell_type": "code",
   "execution_count": 9,
   "id": "4db22874",
   "metadata": {},
   "outputs": [],
   "source": [
    "response = pipe(messages, **generation_config)"
   ]
  },
  {
   "cell_type": "code",
   "execution_count": 10,
   "id": "3b283426",
   "metadata": {},
   "outputs": [
    {
     "data": {
      "text/plain": [
       "[{'role': 'system', 'content': 'You are a helpful tutor.'},\n",
       " {'role': 'user', 'content': 'What is algebra?'},\n",
       " {'role': 'assistant',\n",
       "  'content': \"<think>\\nOkay, so I need to explain what algebra is. Let me start by recalling what I know. Algebra is like using letters and numbers to represent unknown values. For example, if I have an equation where some variables are missing, I can use letters to stand for those numbers instead of writing them out.\\n\\nWait, but how exactly does that work? Maybe it's about solving equations or finding patterns in numbers. Like, if you see something with two numbers and an operation between them, you assign variables to each number and then solve the problem step by step.\\n\\nLet me think of an example. Suppose I have 2x + 5 = 10. Here, x is the variable we're trying to find. So, I subtract 5 from both sides: 2x = 5, and then divide by 2: x = 2.5. That makes sense. In algebra, you don't just write down the answer; you also show the process of solving the equation, which helps in understanding the steps involved.\\n\\nI should mention that algebra is a branch of mathematics that deals with symbols and operations, allowing us to express relationships between quantities. It's used in various fields like science, engineering, and everyday life. But maybe I should keep it simple without getting too technical.\\n\\nAlso, maybe compare it to geometry or arithmetic. Arithmetic is about numbers and their basic operations (addition, subtraction), while algebra is more about representing variables and solving problems with them. But again, the core idea is similar—using symbols to represent unknowns.\\n\\nIs there anything else I'm missing? Perhaps explaining that algebra is important because it allows us to model real-world situations mathematically. For instance, if someone wants to calculate the area of a rectangle, they might use variables for length and width, and then apply formulas to find the area.\\n\\nWait, but do I need to define variables here? Yes, since variables are essential in algebra. Variables are symbols that represent unknown quantities, so defining them early on helps in understanding the structure of equations.\\n\\nAnother point: algebra isn't just about solving problems—it's about understanding patterns and relationships. It's like discovering rules that govern different scenarios. This helps in making predictions and solutions based on data.\\n\\nHmm, I think I covered most aspects. Let me put this together into a clear explanation now.\\n</think>\\n\\nAlgebra is a fundamental branch of mathematics that uses symbols, such as letters, to represent numbers and variables. Instead of writing specific numerical values, algebra allows us to express\"}]"
      ]
     },
     "execution_count": 10,
     "metadata": {},
     "output_type": "execute_result"
    }
   ],
   "source": [
    "conversation = response[0]['generated_text']\n",
    "conversation"
   ]
  },
  {
   "cell_type": "code",
   "execution_count": 11,
   "id": "54095ecd",
   "metadata": {},
   "outputs": [],
   "source": [
    "# Continue the conversation\n",
    "conversation.append({\"role\": \"user\", \"content\": \"How can we add x+y?\"})\n",
    "response = pipe(conversation, **generation_config)"
   ]
  },
  {
   "cell_type": "code",
   "execution_count": 12,
   "id": "29dea334",
   "metadata": {},
   "outputs": [
    {
     "name": "stdout",
     "output_type": "stream",
     "text": [
      "Final conversation::\n",
      "[{'content': 'You are a helpful tutor.', 'role': 'system'},\n",
      " {'content': 'What is algebra?', 'role': 'user'},\n",
      " {'content': '<think>\\n'\n",
      "             'Okay, so I need to explain what algebra is. Let me start by '\n",
      "             'recalling what I know. Algebra is like using letters and numbers '\n",
      "             'to represent unknown values. For example, if I have an equation '\n",
      "             'where some variables are missing, I can use letters to stand for '\n",
      "             'those numbers instead of writing them out.\\n'\n",
      "             '\\n'\n",
      "             \"Wait, but how exactly does that work? Maybe it's about solving \"\n",
      "             'equations or finding patterns in numbers. Like, if you see '\n",
      "             'something with two numbers and an operation between them, you '\n",
      "             'assign variables to each number and then solve the problem step '\n",
      "             'by step.\\n'\n",
      "             '\\n'\n",
      "             'Let me think of an example. Suppose I have 2x + 5 = 10. Here, x '\n",
      "             \"is the variable we're trying to find. So, I subtract 5 from both \"\n",
      "             'sides: 2x = 5, and then divide by 2: x = 2.5. That makes sense. '\n",
      "             \"In algebra, you don't just write down the answer; you also show \"\n",
      "             'the process of solving the equation, which helps in '\n",
      "             'understanding the steps involved.\\n'\n",
      "             '\\n'\n",
      "             'I should mention that algebra is a branch of mathematics that '\n",
      "             'deals with symbols and operations, allowing us to express '\n",
      "             \"relationships between quantities. It's used in various fields \"\n",
      "             'like science, engineering, and everyday life. But maybe I should '\n",
      "             'keep it simple without getting too technical.\\n'\n",
      "             '\\n'\n",
      "             'Also, maybe compare it to geometry or arithmetic. Arithmetic is '\n",
      "             'about numbers and their basic operations (addition, '\n",
      "             'subtraction), while algebra is more about representing variables '\n",
      "             'and solving problems with them. But again, the core idea is '\n",
      "             'similar—using symbols to represent unknowns.\\n'\n",
      "             '\\n'\n",
      "             \"Is there anything else I'm missing? Perhaps explaining that \"\n",
      "             'algebra is important because it allows us to model real-world '\n",
      "             'situations mathematically. For instance, if someone wants to '\n",
      "             'calculate the area of a rectangle, they might use variables for '\n",
      "             'length and width, and then apply formulas to find the area.\\n'\n",
      "             '\\n'\n",
      "             'Wait, but do I need to define variables here? Yes, since '\n",
      "             'variables are essential in algebra. Variables are symbols that '\n",
      "             'represent unknown quantities, so defining them early on helps in '\n",
      "             'understanding the structure of equations.\\n'\n",
      "             '\\n'\n",
      "             \"Another point: algebra isn't just about solving problems—it's \"\n",
      "             \"about understanding patterns and relationships. It's like \"\n",
      "             'discovering rules that govern different scenarios. This helps in '\n",
      "             'making predictions and solutions based on data.\\n'\n",
      "             '\\n'\n",
      "             'Hmm, I think I covered most aspects. Let me put this together '\n",
      "             'into a clear explanation now.\\n'\n",
      "             '</think>\\n'\n",
      "             '\\n'\n",
      "             'Algebra is a fundamental branch of mathematics that uses '\n",
      "             'symbols, such as letters, to represent numbers and variables. '\n",
      "             'Instead of writing specific numerical values, algebra allows us '\n",
      "             'to express',\n",
      "  'role': 'assistant'},\n",
      " {'content': 'How can we add x+y?', 'role': 'user'},\n",
      " {'content': '<think>\\n'\n",
      "             'Okay, so the user asked how to add x + y. Let me start by '\n",
      "             'recalling what algebra is. Algebra involves using variables '\n",
      "             '(letters) to represent unknown quantities. So when they say \"x + '\n",
      "             'y,\" it\\'s like combining two terms with the same variable.\\n'\n",
      "             '\\n'\n",
      "             'Wait, but adding them would just mean multiplying by 1. But '\n",
      "             'maybe the user is confused because in regular math, addition is '\n",
      "             'straightforward. However, in algebra, sometimes you have to '\n",
      "             'apply operations like multiplication or substitution. \\n'\n",
      "             '\\n'\n",
      "             \"Let me think again. If there's no operation between x and y, \"\n",
      "             \"then just adding them together would be x + y. But if there's \"\n",
      "             'another operation, like multiplication, then it becomes x * y. '\n",
      "             \"The user didn't specify which operation, so I should clarify \"\n",
      "             'that.\\n'\n",
      "             '\\n'\n",
      "             'But maybe the user is just trying to understand the basic '\n",
      "             'concept. They might be learning how to use variables in '\n",
      "             'equations. For example, in an equation, like ax + by = c, you '\n",
      "             'combine terms. So even though the question is about addition, '\n",
      "             \"it's still a part of algebraic expression building.\\n\"\n",
      "             '\\n'\n",
      "             'I should explain that x + y is simply adding those two terms '\n",
      "             'together, and perhaps give an example. Maybe mention that '\n",
      "             'variables can change their values depending on the context, '\n",
      "             'which makes algebra flexible. Also, check if they need more '\n",
      "             \"examples or if there's anything else they might find confusing.\\n\"\n",
      "             '</think>\\n'\n",
      "             '\\n'\n",
      "             'In algebra, **adding** two expressions means performing the '\n",
      "             'operation on their corresponding terms. For instance:  \\n'\n",
      "             '- $ x + y $ represents **combining two terms** where both '\n",
      "             'involve the variable $ x $ and $ y $.  \\n'\n",
      "             '\\n'\n",
      "             'If there’s no operation between $ x $ and $ y $, then this '\n",
      "             'expression simplifies to $ x + y $.  \\n'\n",
      "             '\\n'\n",
      "             'For example:  \\n'\n",
      "             '- $ 2x + 3y $: Combine terms with $ x $ and $ y $.  \\n'\n",
      "             '- $ x \\\\cdot y $: Multiply the terms.  \\n'\n",
      "             '\\n'\n",
      "             \"If you're working with equations or expressions, this principle \"\n",
      "             'helps build complex algebraic relationships. Let me know if '\n",
      "             \"you'd like help with substitution or other algebraic concepts! 😊\",\n",
      "  'role': 'assistant'}]\n"
     ]
    }
   ],
   "source": [
    "print(\"Final conversation::\")\n",
    "pprint(response[0]['generated_text'])"
   ]
  },
  {
   "cell_type": "markdown",
   "id": "5132922d",
   "metadata": {},
   "source": [
    "## Formatted Chat"
   ]
  },
  {
   "cell_type": "code",
   "execution_count": 13,
   "id": "cdf01b98",
   "metadata": {},
   "outputs": [
    {
     "name": "stdout",
     "output_type": "stream",
     "text": [
      "('<|im_start|>system\\n'\n",
      " 'You are a helpful tutor.<|im_end|>\\n'\n",
      " '<|im_start|>user\\n'\n",
      " 'What is algebra?<|im_end|>\\n'\n",
      " '<|im_start|>assistant\\n')\n"
     ]
    }
   ],
   "source": [
    "from transformers import AutoTokenizer\n",
    "\n",
    "tokenizer = AutoTokenizer.from_pretrained(\"Qwen/Qwen3-0.6B\")\n",
    "\n",
    "messages = [\n",
    "    {\"role\": \"system\", \"content\": \"You are a helpful tutor.\"},\n",
    "    {\"role\": \"user\", \"content\": \"What is algebra?\"}\n",
    "]\n",
    "\n",
    "formatted_chat = tokenizer.apply_chat_template(\n",
    "    messages,\n",
    "    tokenize=False,\n",
    "    add_generation_prompt=True\n",
    ")\n",
    "\n",
    "pprint(formatted_chat)"
   ]
  },
  {
   "cell_type": "code",
   "execution_count": 14,
   "id": "162b475a",
   "metadata": {},
   "outputs": [
    {
     "data": {
      "text/plain": [
       "'<|im_start|>system\\nYou are a helpful tutor.<|im_end|>\\n<|im_start|>user\\nWhat is algebra?<|im_end|>\\n<|im_start|>assistant\\n'"
      ]
     },
     "execution_count": 14,
     "metadata": {},
     "output_type": "execute_result"
    }
   ],
   "source": [
    "formatted_chat"
   ]
  },
  {
   "cell_type": "markdown",
   "id": "640fa8ac",
   "metadata": {},
   "source": [
    "## System Messages"
   ]
  },
  {
   "cell_type": "code",
   "execution_count": 15,
   "id": "da44fd40",
   "metadata": {},
   "outputs": [
    {
     "data": {
      "text/plain": [
       "[{'generated_text': [{'role': 'system',\n",
       "    'content': 'You are a professional software engineer. Talk in terms of coding.'},\n",
       "   {'role': 'user', 'content': 'What is algebra?'},\n",
       "   {'role': 'assistant',\n",
       "    'content': '<think>\\nOkay, the user asked, \"What is algebra?\" Let me start by explaining what algebra is. I should mention its origins, like ancient Greece, and then define it. Maybe give some basic examples.\\n\\nAlgebra is a branch of mathematics that deals with symbols and variables. These symbols represent numbers or quantities that can be changed. For example, in algebra, you have equations like x + 2 = 5. \\n\\nI need to explain how algebra helps solve problems. It\\'s used in various fields like science, engineering, and everyday life. Also, mention that it\\'s more than just solving math problems—it\\'s about patterns and relationships.\\n\\nWait, should I include something about its applications? Yes, maybe. And perhaps clarify that while algebra is related to arithmetic, it\\'s a broader concept. Make sure the explanation is clear and accessible.\\n</think>\\n\\n**Definition:**  \\nAlgebra is a branch of mathematics that studies symbols (variables) and expressions involving operations such as addition, subtraction, multiplication, and division. These symbols allow mathematicians to represent and solve problems involving unknown values.  \\n\\n**Core Concepts:**  \\n- **Variables**: Symbols (like *x*, *y*, *z*) that represent unknown values.  \\n- **Equations**: Expressions where one side equals another. Example: $ 2x + 3 = 13 $.  \\n- **Solving Equations**: Finding values for variables that make an equation true.  \\n\\n**Origins:**  \\nAlgebra originated in ancient civilizations, particularly in Egypt, Babylon, India, and Greece. The Greek philosopher **Plato** and **Euclid** contributed foundational work in early algebraic notation.  \\n\\n**Key Applications:**  \\n- Algebra is used in science, engineering, and technology. For instance, physics uses algebra to model motion and forces, and computer programming relies on algebraic structures.  \\n\\n**Difference from Arithmetic:**  \\nWhile arithmetic deals only with known numbers, algebra introduces variables and abstract reasoning to find solutions to real-world problems.  \\n\\nIn summary, algebra is both a theoretical tool for problem-solving and a practical framework for understanding patterns and relationships in nature and society.'}]}]"
      ]
     },
     "execution_count": 15,
     "metadata": {},
     "output_type": "execute_result"
    }
   ],
   "source": [
    "system_message = {\n",
    "    'role': 'system',\n",
    "    'content': 'You are a professional software engineer. Talk in terms of coding.'\n",
    "}\n",
    "\n",
    "conversation = [\n",
    "    system_message,\n",
    "    {\"role\": \"user\", \"content\": \"What is algebra?\"}\n",
    "]\n",
    "\n",
    "response = pipe(conversation, **generation_config)\n",
    "response"
   ]
  },
  {
   "cell_type": "code",
   "execution_count": 16,
   "id": "a7c004a6",
   "metadata": {},
   "outputs": [
    {
     "name": "stdout",
     "output_type": "stream",
     "text": [
      "[{'generated_text': [{'content': 'You are a professional software engineer. '\n",
      "                                 'Talk in terms of coding.',\n",
      "                      'role': 'system'},\n",
      "                     {'content': 'What is algebra?', 'role': 'user'},\n",
      "                     {'content': '<think>\\n'\n",
      "                                 'Okay, the user asked, \"What is algebra?\" Let '\n",
      "                                 'me start by explaining what algebra is. I '\n",
      "                                 'should mention its origins, like ancient '\n",
      "                                 'Greece, and then define it. Maybe give some '\n",
      "                                 'basic examples.\\n'\n",
      "                                 '\\n'\n",
      "                                 'Algebra is a branch of mathematics that '\n",
      "                                 'deals with symbols and variables. These '\n",
      "                                 'symbols represent numbers or quantities that '\n",
      "                                 'can be changed. For example, in algebra, you '\n",
      "                                 'have equations like x + 2 = 5. \\n'\n",
      "                                 '\\n'\n",
      "                                 'I need to explain how algebra helps solve '\n",
      "                                 \"problems. It's used in various fields like \"\n",
      "                                 'science, engineering, and everyday life. '\n",
      "                                 \"Also, mention that it's more than just \"\n",
      "                                 \"solving math problems—it's about patterns \"\n",
      "                                 'and relationships.\\n'\n",
      "                                 '\\n'\n",
      "                                 'Wait, should I include something about its '\n",
      "                                 'applications? Yes, maybe. And perhaps '\n",
      "                                 'clarify that while algebra is related to '\n",
      "                                 \"arithmetic, it's a broader concept. Make \"\n",
      "                                 'sure the explanation is clear and '\n",
      "                                 'accessible.\\n'\n",
      "                                 '</think>\\n'\n",
      "                                 '\\n'\n",
      "                                 '**Definition:**  \\n'\n",
      "                                 'Algebra is a branch of mathematics that '\n",
      "                                 'studies symbols (variables) and expressions '\n",
      "                                 'involving operations such as addition, '\n",
      "                                 'subtraction, multiplication, and division. '\n",
      "                                 'These symbols allow mathematicians to '\n",
      "                                 'represent and solve problems involving '\n",
      "                                 'unknown values.  \\n'\n",
      "                                 '\\n'\n",
      "                                 '**Core Concepts:**  \\n'\n",
      "                                 '- **Variables**: Symbols (like *x*, *y*, '\n",
      "                                 '*z*) that represent unknown values.  \\n'\n",
      "                                 '- **Equations**: Expressions where one side '\n",
      "                                 'equals another. Example: $ 2x + 3 = 13 $.  \\n'\n",
      "                                 '- **Solving Equations**: Finding values for '\n",
      "                                 'variables that make an equation true.  \\n'\n",
      "                                 '\\n'\n",
      "                                 '**Origins:**  \\n'\n",
      "                                 'Algebra originated in ancient civilizations, '\n",
      "                                 'particularly in Egypt, Babylon, India, and '\n",
      "                                 'Greece. The Greek philosopher **Plato** and '\n",
      "                                 '**Euclid** contributed foundational work in '\n",
      "                                 'early algebraic notation.  \\n'\n",
      "                                 '\\n'\n",
      "                                 '**Key Applications:**  \\n'\n",
      "                                 '- Algebra is used in science, engineering, '\n",
      "                                 'and technology. For instance, physics uses '\n",
      "                                 'algebra to model motion and forces, and '\n",
      "                                 'computer programming relies on algebraic '\n",
      "                                 'structures.  \\n'\n",
      "                                 '\\n'\n",
      "                                 '**Difference from Arithmetic:**  \\n'\n",
      "                                 'While arithmetic deals only with known '\n",
      "                                 'numbers, algebra introduces variables and '\n",
      "                                 'abstract reasoning to find solutions to '\n",
      "                                 'real-world problems.  \\n'\n",
      "                                 '\\n'\n",
      "                                 'In summary, algebra is both a theoretical '\n",
      "                                 'tool for problem-solving and a practical '\n",
      "                                 'framework for understanding patterns and '\n",
      "                                 'relationships in nature and society.',\n",
      "                      'role': 'assistant'}]}]\n"
     ]
    }
   ],
   "source": [
    "pprint(response)"
   ]
  },
  {
   "cell_type": "code",
   "execution_count": 19,
   "id": "08866a56",
   "metadata": {},
   "outputs": [
    {
     "name": "stdout",
     "output_type": "stream",
     "text": [
      "[{'generated_text': [{'content': 'You are a school teacher who simplies things '\n",
      "                                 'for students.',\n",
      "                      'role': 'system'},\n",
      "                     {'content': 'What is algebra?', 'role': 'user'},\n",
      "                     {'content': '<think>\\n'\n",
      "                                 'Okay, the user asked, \"What is algebra?\" I '\n",
      "                                 'need to explain it clearly. Let me start by '\n",
      "                                 'breaking down the basics. Algebra is about '\n",
      "                                 'solving equations and working with '\n",
      "                                 'variables.\\n'\n",
      "                                 '\\n'\n",
      "                                 'I should mention that variables are symbols '\n",
      "                                 'representing unknown numbers. For example, '\n",
      "                                 'in x + 5 = 12, x stands for an unknown '\n",
      "                                 \"number we don't know yet. That's important \"\n",
      "                                 \"because it shows algebra's goal of finding \"\n",
      "                                 'solutions.\\n'\n",
      "                                 '\\n'\n",
      "                                 'Also, teaching students how to solve '\n",
      "                                 'problems using algebraic methods is key. '\n",
      "                                 'Maybe include examples like solving for x or '\n",
      "                                 \"y in equations. It's helpful to keep \"\n",
      "                                 'explanations simple and avoid jargon. \\n'\n",
      "                                 '\\n'\n",
      "                                 'Wait, should I include real-world '\n",
      "                                 'applications too? Like how algebra helps in '\n",
      "                                 'planning or calculating something? But maybe '\n",
      "                                 \"that's overcomplicating if the explanation \"\n",
      "                                 'is meant for general understanding. Keep it '\n",
      "                                 'straightforward but engaging.\\n'\n",
      "                                 '\\n'\n",
      "                                 'Let me check if there are any common '\n",
      "                                 'misconceptions. Students might confuse '\n",
      "                                 'algebra with arithmetic. Clarifying that '\n",
      "                                 'algebra is more abstract than just doing '\n",
      "                                 'math steps can help. \\n'\n",
      "                                 '\\n'\n",
      "                                 'Finally, make sure the response is friendly '\n",
      "                                 'and encouraging. Use questions to prompt '\n",
      "                                 'thinking rather than giving answers. Keep '\n",
      "                                 'sentences short and easy to understand.\\n'\n",
      "                                 '</think>\\n'\n",
      "                                 '\\n'\n",
      "                                 'Algebra is a branch of mathematics that '\n",
      "                                 'deals with symbols and letters (variables) '\n",
      "                                 'to represent numbers and unknown values. '\n",
      "                                 'These symbols, often denoted by lowercase '\n",
      "                                 'letters like **a**, **b**, or **x**, allow '\n",
      "                                 'us to express relationships between '\n",
      "                                 'quantities in equations.  \\n'\n",
      "                                 '\\n'\n",
      "                                 'For example, in the equation:  \\n'\n",
      "                                 '**x + 3 = 7**, algebra tells us that **x** '\n",
      "                                 \"represents the unknown value we're trying to \"\n",
      "                                 'find. By subtracting 3 from both sides, we '\n",
      "                                 'solve for **x**:  \\n'\n",
      "                                 '**x = 4**.  \\n'\n",
      "                                 '\\n'\n",
      "                                 'The purpose of algebra is to solve problems, '\n",
      "                                 'model real-world situations, and generalize '\n",
      "                                 'patterns. It’s not just about '\n",
      "                                 'arithmetic—it’s about logical reasoning and '\n",
      "                                 'problem-solving! 😊',\n",
      "                      'role': 'assistant'}]}]\n"
     ]
    }
   ],
   "source": [
    "system_message = {\n",
    "    'role': 'system',\n",
    "    'content': 'You are a school teacher who simplies things for students.'\n",
    "}\n",
    "\n",
    "conversation = [\n",
    "    system_message,\n",
    "    {\"role\": \"user\", \"content\": \"What is algebra?\"}\n",
    "]\n",
    "\n",
    "response = pipe(conversation, **generation_config)\n",
    "pprint(response)"
   ]
  },
  {
   "cell_type": "code",
   "execution_count": 28,
   "id": "f8d791a9",
   "metadata": {},
   "outputs": [
    {
     "data": {
      "text/plain": [
       "'<think>\\nOkay, the user asked, \"What is algebra?\" I need to explain it clearly. Let me start by breaking down the basics. Algebra is about solving equations and working with variables.\\n\\nI should mention that variables are symbols representing unknown numbers. For example, in x + 5 = 12, x stands for an unknown number we don\\'t know yet. That\\'s important because it shows algebra\\'s goal of finding solutions.\\n\\nAlso, teaching students how to solve problems using algebraic methods is key. Maybe include examples like solving for x or y in equations. It\\'s helpful to keep explanations simple and avoid jargon. \\n\\nWait, should I include real-world applications too? Like how algebra helps in planning or calculating something? But maybe that\\'s overcomplicating if the explanation is meant for general understanding. Keep it straightforward but engaging.\\n\\nLet me check if there are any common misconceptions. Students might confuse algebra with arithmetic. Clarifying that algebra is more abstract than just doing math steps can help. \\n\\nFinally, make sure the response is friendly and encouraging. Use questions to prompt thinking rather than giving answers. Keep sentences short and easy to understand.\\n</think>\\n\\nAlgebra is a branch of mathematics that deals with symbols and letters (variables) to represent numbers and unknown values. These symbols, often denoted by lowercase letters like **a**, **b**, or **x**, allow us to express relationships between quantities in equations.  \\n\\nFor example, in the equation:  \\n**x + 3 = 7**, algebra tells us that **x** represents the unknown value we\\'re trying to find. By subtracting 3 from both sides, we solve for **x**:  \\n**x = 4**.  \\n\\nThe purpose of algebra is to solve problems, model real-world situations, and generalize patterns. It’s not just about arithmetic—it’s about logical reasoning and problem-solving! 😊'"
      ]
     },
     "execution_count": 28,
     "metadata": {},
     "output_type": "execute_result"
    }
   ],
   "source": [
    "response[0]['generated_text'][-1]['content']"
   ]
  },
  {
   "cell_type": "markdown",
   "id": "7e5bda60",
   "metadata": {},
   "source": [
    "## Generation Prompts"
   ]
  },
  {
   "cell_type": "code",
   "execution_count": 29,
   "id": "00d45688",
   "metadata": {},
   "outputs": [
    {
     "name": "stdout",
     "output_type": "stream",
     "text": [
      "formatted without\n",
      "<|im_start|>system\n",
      "You are a school teacher who simplies things for students.<|im_end|>\n",
      "<|im_start|>user\n",
      "What is algebra?<|im_end|>\n",
      "<|im_start|>assistant\n",
      "the user asked, \"What is algebra?\" I need to explain it clearly. Let me start by breaking down the basics. Algebra is about solving equations and working with variables<|im_end|>\n",
      "<|im_start|>user\n",
      "Use an example<|im_end|>\n",
      "\n",
      "===================\n",
      "formatted with\n",
      "<|im_start|>system\n",
      "You are a school teacher who simplies things for students.<|im_end|>\n",
      "<|im_start|>user\n",
      "What is algebra?<|im_end|>\n",
      "<|im_start|>assistant\n",
      "the user asked, \"What is algebra?\" I need to explain it clearly. Let me start by breaking down the basics. Algebra is about solving equations and working with variables<|im_end|>\n",
      "<|im_start|>user\n",
      "Use an example<|im_end|>\n",
      "<|im_start|>assistant\n",
      "\n",
      "===================\n"
     ]
    }
   ],
   "source": [
    "from transformers import AutoTokenizer\n",
    "\n",
    "tokenizer = AutoTokenizer.from_pretrained(\"Qwen/Qwen3-0.6B\")\n",
    "\n",
    "messages = [\n",
    "    {'role': 'system', 'content': 'You are a school teacher who simplies things for students.'},\n",
    "    {'role': 'user', 'content': 'What is algebra?'},\n",
    "    {'role': 'assistant', 'content': 'the user asked, \"What is algebra?\" I need to explain it clearly. Let me start by breaking down the basics. Algebra is about solving equations and working with variables'},\n",
    "    {'role': 'user', 'content': 'Use an example'}\n",
    "]\n",
    "\n",
    "formatted_without = tokenizer.apply_chat_template(\n",
    "    messages,\n",
    "    tokenize=False,\n",
    "    add_generation_prompt=False\n",
    ")\n",
    "\n",
    "print(\"formatted without\")\n",
    "print(formatted_without)\n",
    "print(\"===================\")\n",
    "\n",
    "\n",
    "formatted_with = tokenizer.apply_chat_template(\n",
    "    messages,\n",
    "    tokenize=False,\n",
    "    add_generation_prompt=True\n",
    ")\n",
    "\n",
    "print(\"formatted with\")\n",
    "print(formatted_with)\n",
    "print(\"===================\")"
   ]
  },
  {
   "cell_type": "markdown",
   "id": "7f139be0",
   "metadata": {},
   "source": [
    "`add_generation_prompt` is used in the following scenarios:\n",
    "1. True when we are setting up a bot to respond\n",
    "2. True when we are setting up a pipeline to evaluate\n",
    "3. False when we are creating training data"
   ]
  },
  {
   "cell_type": "markdown",
   "id": "a855f068",
   "metadata": {},
   "source": [
    "## Continue final message"
   ]
  },
  {
   "cell_type": "code",
   "execution_count": 35,
   "id": "3dcaa44c",
   "metadata": {},
   "outputs": [
    {
     "name": "stdout",
     "output_type": "stream",
     "text": [
      "continuing final message\n",
      "<|im_start|>system\n",
      "You are a school teacher who simplies things for students.<|im_end|>\n",
      "<|im_start|>user\n",
      "What is algebra?<|im_end|>\n",
      "<|im_start|>assistant\n",
      "<think>\n",
      "\n",
      "</think>\n",
      "\n",
      "So, the way it works is...\n",
      "===================\n",
      "formatted with\n",
      "<|im_start|>system\n",
      "You are a school teacher who simplies things for students.<|im_end|>\n",
      "<|im_start|>user\n",
      "What is algebra?<|im_end|>\n",
      "<|im_start|>assistant\n",
      "<think>\n",
      "\n",
      "</think>\n",
      "\n",
      "So, the way it works is...<|im_end|>\n",
      "<|im_start|>assistant\n",
      "\n",
      "===================\n"
     ]
    }
   ],
   "source": [
    "from transformers import AutoTokenizer\n",
    "\n",
    "tokenizer = AutoTokenizer.from_pretrained(\"Qwen/Qwen3-0.6B\")\n",
    "\n",
    "messages = [\n",
    "    {'role': 'system', 'content': 'You are a school teacher who simplies things for students.'},\n",
    "    {'role': 'user', 'content': 'What is algebra?'},\n",
    "    {'role': 'assistant', 'content': 'So, the way it works is...'}\n",
    "]\n",
    "\n",
    "formatted_without = tokenizer.apply_chat_template(\n",
    "    messages,\n",
    "    tokenize=False,\n",
    "    continue_final_message=True,\n",
    "    # enable_thinking=False\n",
    ")\n",
    "\n",
    "print(\"continuing final message\")\n",
    "print(formatted_without)\n",
    "print(\"===================\")\n",
    "\n",
    "\n",
    "formatted_with = tokenizer.apply_chat_template(\n",
    "    messages,\n",
    "    tokenize=False,\n",
    "    add_generation_prompt=True\n",
    ")\n",
    "\n",
    "print(\"formatted with\")\n",
    "print(formatted_with)\n",
    "print(\"===================\")"
   ]
  },
  {
   "cell_type": "markdown",
   "id": "d3177cf7",
   "metadata": {},
   "source": [
    "## Working with reasoning mode"
   ]
  },
  {
   "cell_type": "code",
   "execution_count": null,
   "id": "d833fa16",
   "metadata": {},
   "outputs": [
    {
     "name": "stdout",
     "output_type": "stream",
     "text": [
      "Standard Mode\n",
      "<|im_start|>user\n",
      "What is 2 * 3?<|im_end|>\n",
      "<|im_start|>assistant\n",
      "<think>\n",
      "\n",
      "</think>\n",
      "\n",
      "Answer is 6.<|im_end|>\n",
      "\n",
      "Thinking Mode\n",
      "<|im_start|>user\n",
      "What is 2 * 3?<|im_end|>\n",
      "<|im_start|>assistant\n",
      "<think>\n",
      "\n",
      "</think>\n",
      "\n",
      "<|thinking|>Alright, I have to multiple 2 with 3.</|thinking|>Answer is 6.<|im_end|>\n",
      "\n"
     ]
    }
   ],
   "source": [
    "standard_messages = [\n",
    "    {'role': 'user', 'content': 'What is 2 * 3?'},\n",
    "    {'role': 'assistant', 'content': 'Answer is 6.'}\n",
    "]\n",
    "\n",
    "thinking_messages = [\n",
    "    {'role': 'user', 'content': 'What is 2 * 3?'},\n",
    "    {'role': 'assistant', 'content': '<think>Alright, I have to multiple 2 with 3.</think>Answer is 6.'}\n",
    "]\n",
    "\n",
    "standard_formatted = tokenizer.apply_chat_template(standard_messages, tokenize=False, enable_thinking=False)\n",
    "thinking_formatted = tokenizer.apply_chat_template(thinking_messages, tokenize=False)\n",
    "\n",
    "print(\"Standard Mode\")\n",
    "print(standard_formatted)\n",
    "print(\"Thinking Mode\")\n",
    "print(thinking_formatted)"
   ]
  },
  {
   "cell_type": "markdown",
   "id": "0c2174f7",
   "metadata": {},
   "source": [
    "## Tool Usage"
   ]
  },
  {
   "cell_type": "code",
   "execution_count": 45,
   "id": "5800579b",
   "metadata": {},
   "outputs": [],
   "source": [
    "# Define available tools\n",
    "tools = [\n",
    "    {\n",
    "        \"type\": \"function\",\n",
    "        \"function\": {\n",
    "            \"name\": \"get_weather\",\n",
    "            \"description\": \"Get the current weather for a location\",\n",
    "            \"parameters\": {\n",
    "                \"type\": \"object\",\n",
    "                \"properties\": {\n",
    "                    \"location\": {\n",
    "                        \"type\": \"string\",\n",
    "                        \"description\": \"The city and state, e.g. San Francisco, CA\"\n",
    "                    },\n",
    "                    \"unit\": {\n",
    "                        \"type\": \"string\",\n",
    "                        \"enum\": [\"celsius\", \"fahrenheit\"],\n",
    "                        \"description\": \"The temperature unit\"\n",
    "                    }\n",
    "                },\n",
    "                \"required\": [\"location\"]\n",
    "            }\n",
    "        }\n",
    "    },\n",
    "    {\n",
    "        \"type\": \"function\", \n",
    "        \"function\": {\n",
    "            \"name\": \"calculate\",\n",
    "            \"description\": \"Perform mathematical calculations\",\n",
    "            \"parameters\": {\n",
    "                \"type\": \"object\",\n",
    "                \"properties\": {\n",
    "                    \"expression\": {\n",
    "                        \"type\": \"string\",\n",
    "                        \"description\": \"Mathematical expression to evaluate\"\n",
    "                    }\n",
    "                },\n",
    "                \"required\": [\"expression\"]\n",
    "            }\n",
    "        }\n",
    "    }\n",
    "]"
   ]
  },
  {
   "cell_type": "code",
   "execution_count": 47,
   "id": "215299dc",
   "metadata": {},
   "outputs": [
    {
     "name": "stdout",
     "output_type": "stream",
     "text": [
      "formatted with tools\n",
      "<|im_start|>system\n",
      "You are a helpful assistant with access to tools.\n",
      "\n",
      "# Tools\n",
      "\n",
      "You may call one or more functions to assist with the user query.\n",
      "\n",
      "You are provided with function signatures within <tools></tools> XML tags:\n",
      "<tools>\n",
      "{\"type\": \"function\", \"function\": {\"name\": \"get_weather\", \"description\": \"Get the current weather for a location\", \"parameters\": {\"type\": \"object\", \"properties\": {\"location\": {\"type\": \"string\", \"description\": \"The city and state, e.g. San Francisco, CA\"}, \"unit\": {\"type\": \"string\", \"enum\": [\"celsius\", \"fahrenheit\"], \"description\": \"The temperature unit\"}}, \"required\": [\"location\"]}}}\n",
      "{\"type\": \"function\", \"function\": {\"name\": \"calculate\", \"description\": \"Perform mathematical calculations\", \"parameters\": {\"type\": \"object\", \"properties\": {\"expression\": {\"type\": \"string\", \"description\": \"Mathematical expression to evaluate\"}}, \"required\": [\"expression\"]}}}\n",
      "</tools>\n",
      "\n",
      "For each function call, return a json object with function name and arguments within <tool_call></tool_call> XML tags:\n",
      "<tool_call>\n",
      "{\"name\": <function-name>, \"arguments\": <args-json-object>}\n",
      "</tool_call><|im_end|>\n",
      "<|im_start|>user\n",
      "What's the weather like in Paris?<|im_end|>\n",
      "<|im_start|>assistant\n",
      "I'll check the weather in Paris for you.\n",
      "<tool_call>\n",
      "{\"name\": \"get_weather\", \"arguments\": {\"location\": \"Paris, France\", \"unit\": \"celsius\"}}\n",
      "</tool_call><|im_end|>\n",
      "<|im_start|>user\n",
      "<tool_response>\n",
      "{\"temperature\": 22, \"condition\": \"sunny\", \"humidity\": 60}\n",
      "</tool_response><|im_end|>\n",
      "<|im_start|>assistant\n",
      "<think>\n",
      "\n",
      "</think>\n",
      "\n",
      "The weather in Paris is currently sunny with a temperature of 22°C and 60% humidity. It's a beautiful day!<|im_end|>\n",
      "\n"
     ]
    }
   ],
   "source": [
    "messages = [\n",
    "    {\"role\": \"system\", \"content\": \"You are a helpful assistant with access to tools.\"},\n",
    "    {\"role\": \"user\", \"content\": \"What's the weather like in Paris?\"},\n",
    "    {\n",
    "        \"role\": \"assistant\", \n",
    "        \"content\": \"I'll check the weather in Paris for you.\",\n",
    "        \"tool_calls\": [\n",
    "            {\n",
    "                \"id\": \"call_1\",\n",
    "                \"type\": \"function\",\n",
    "                \"function\": {\n",
    "                    \"name\": \"get_weather\",\n",
    "                    \"arguments\": '{\"location\": \"Paris, France\", \"unit\": \"celsius\"}'\n",
    "                }\n",
    "            }\n",
    "        ]\n",
    "    },\n",
    "    {\n",
    "        \"role\": \"tool\",\n",
    "        \"tool_call_id\": \"call_1\", \n",
    "        \"content\": '{\"temperature\": 22, \"condition\": \"sunny\", \"humidity\": 60}'\n",
    "    },\n",
    "    {\n",
    "        \"role\": \"assistant\",\n",
    "        \"content\": \"The weather in Paris is currently sunny with a temperature of 22°C and 60% humidity. It's a beautiful day!\"\n",
    "    }\n",
    "]\n",
    "\n",
    "formatted_with_tools = tokenizer.apply_chat_template(\n",
    "    messages,\n",
    "    tools=tools,\n",
    "    tokenize=False,\n",
    "    add_generation_prompt=False\n",
    ")\n",
    "\n",
    "print(\"formatted with tools\")\n",
    "print(formatted_with_tools)"
   ]
  },
  {
   "cell_type": "markdown",
   "id": "f45a9476",
   "metadata": {},
   "source": [
    "## Template Customization"
   ]
  },
  {
   "cell_type": "code",
   "execution_count": 48,
   "id": "93cd788a",
   "metadata": {},
   "outputs": [
    {
     "name": "stdout",
     "output_type": "stream",
     "text": [
      "{%- if tools %}\n",
      "    {{- '<|im_start|>system\\n' }}\n",
      "    {%- if messages[0].role == 'system' %}\n",
      "        {{- messages[0].content + '\\n\\n' }}\n",
      "    {%- endif %}\n",
      "    {{- \"# Tools\\n\\nYou may call one or more functions to assist with the user query.\\n\\nYou are provided with function signatures within <tools></tools> XML tags:\\n<tools>\" }}\n",
      "    {%- for tool in tools %}\n",
      "        {{- \"\\n\" }}\n",
      "        {{- tool | tojson }}\n",
      "    {%- endfor %}\n",
      "    {{- \"\\n</tools>\\n\\nFor each function call, return a json object with function name and arguments within <tool_call></tool_call> XML tags:\\n<tool_call>\\n{\\\"name\\\": <function-name>, \\\"arguments\\\": <args-json-object>}\\n</tool_call><|im_end|>\\n\" }}\n",
      "{%- else %}\n",
      "    {%- if messages[0].role == 'system' %}\n",
      "        {{- '<|im_start|>system\\n' + messages[0].content + '<|im_end|>\\n' }}\n",
      "    {%- endif %}\n",
      "{%- endif %}\n",
      "{%- set ns = namespace(multi_step_tool=true, last_query_index=messages|length - 1) %}\n",
      "{%- for message in messages[::-1] %}\n",
      "    {%- set index = (messages|length - 1) - loop.index0 %}\n",
      "    {%- if ns.multi_step_tool and message.role == \"user\" and message.content is string and not(message.content.startswith('<tool_response>') and message.content.endswith('</tool_response>')) %}\n",
      "        {%- set ns.multi_step_tool = false %}\n",
      "        {%- set ns.last_query_index = index %}\n",
      "    {%- endif %}\n",
      "{%- endfor %}\n",
      "{%- for message in messages %}\n",
      "    {%- if message.content is string %}\n",
      "        {%- set content = message.content %}\n",
      "    {%- else %}\n",
      "        {%- set content = '' %}\n",
      "    {%- endif %}\n",
      "    {%- if (message.role == \"user\") or (message.role == \"system\" and not loop.first) %}\n",
      "        {{- '<|im_start|>' + message.role + '\\n' + content + '<|im_end|>' + '\\n' }}\n",
      "    {%- elif message.role == \"assistant\" %}\n",
      "        {%- set reasoning_content = '' %}\n",
      "        {%- if message.reasoning_content is string %}\n",
      "            {%- set reasoning_content = message.reasoning_content %}\n",
      "        {%- else %}\n",
      "            {%- if '</think>' in content %}\n",
      "                {%- set reasoning_content = content.split('</think>')[0].rstrip('\\n').split('<think>')[-1].lstrip('\\n') %}\n",
      "                {%- set content = content.split('</think>')[-1].lstrip('\\n') %}\n",
      "            {%- endif %}\n",
      "        {%- endif %}\n",
      "        {%- if loop.index0 > ns.last_query_index %}\n",
      "            {%- if loop.last or (not loop.last and reasoning_content) %}\n",
      "                {{- '<|im_start|>' + message.role + '\\n<think>\\n' + reasoning_content.strip('\\n') + '\\n</think>\\n\\n' + content.lstrip('\\n') }}\n",
      "            {%- else %}\n",
      "                {{- '<|im_start|>' + message.role + '\\n' + content }}\n",
      "            {%- endif %}\n",
      "        {%- else %}\n",
      "            {{- '<|im_start|>' + message.role + '\\n' + content }}\n",
      "        {%- endif %}\n",
      "        {%- if message.tool_calls %}\n",
      "            {%- for tool_call in message.tool_calls %}\n",
      "                {%- if (loop.first and content) or (not loop.first) %}\n",
      "                    {{- '\\n' }}\n",
      "                {%- endif %}\n",
      "                {%- if tool_call.function %}\n",
      "                    {%- set tool_call = tool_call.function %}\n",
      "                {%- endif %}\n",
      "                {{- '<tool_call>\\n{\"name\": \"' }}\n",
      "                {{- tool_call.name }}\n",
      "                {{- '\", \"arguments\": ' }}\n",
      "                {%- if tool_call.arguments is string %}\n",
      "                    {{- tool_call.arguments }}\n",
      "                {%- else %}\n",
      "                    {{- tool_call.arguments | tojson }}\n",
      "                {%- endif %}\n",
      "                {{- '}\\n</tool_call>' }}\n",
      "            {%- endfor %}\n",
      "        {%- endif %}\n",
      "        {{- '<|im_end|>\\n' }}\n",
      "    {%- elif message.role == \"tool\" %}\n",
      "        {%- if loop.first or (messages[loop.index0 - 1].role != \"tool\") %}\n",
      "            {{- '<|im_start|>user' }}\n",
      "        {%- endif %}\n",
      "        {{- '\\n<tool_response>\\n' }}\n",
      "        {{- content }}\n",
      "        {{- '\\n</tool_response>' }}\n",
      "        {%- if loop.last or (messages[loop.index0 + 1].role != \"tool\") %}\n",
      "            {{- '<|im_end|>\\n' }}\n",
      "        {%- endif %}\n",
      "    {%- endif %}\n",
      "{%- endfor %}\n",
      "{%- if add_generation_prompt %}\n",
      "    {{- '<|im_start|>assistant\\n' }}\n",
      "    {%- if enable_thinking is defined and enable_thinking is false %}\n",
      "        {{- '<think>\\n\\n</think>\\n\\n' }}\n",
      "    {%- endif %}\n",
      "{%- endif %}\n"
     ]
    }
   ],
   "source": [
    "print(tokenizer.chat_template)"
   ]
  },
  {
   "cell_type": "code",
   "execution_count": 49,
   "id": "51733cd7",
   "metadata": {},
   "outputs": [
    {
     "name": "stdout",
     "output_type": "stream",
     "text": [
      "\n",
      "Special tokens:\n",
      "BOS: None\n",
      "EOS: <|im_end|>\n",
      "UNK: None\n",
      "PAD: <|endoftext|>\n",
      "eos_token: <|im_end|>\n",
      "pad_token: <|endoftext|>\n",
      "additional_special_tokens: ['<|im_start|>', '<|im_end|>', '<|object_ref_start|>', '<|object_ref_end|>', '<|box_start|>', '<|box_end|>', '<|quad_start|>', '<|quad_end|>', '<|vision_start|>', '<|vision_end|>', '<|vision_pad|>', '<|image_pad|>', '<|video_pad|>']\n"
     ]
    }
   ],
   "source": [
    "# See what special tokens are used\n",
    "print(\"\\nSpecial tokens:\")\n",
    "print(f\"BOS: {tokenizer.bos_token}\")\n",
    "print(f\"EOS: {tokenizer.eos_token}\")\n",
    "print(f\"UNK: {tokenizer.unk_token}\")\n",
    "print(f\"PAD: {tokenizer.pad_token}\")\n",
    "\n",
    "# Check for custom tokens\n",
    "special_tokens = tokenizer.special_tokens_map\n",
    "for name, token in special_tokens.items():\n",
    "    print(f\"{name}: {token}\")"
   ]
  },
  {
   "cell_type": "markdown",
   "id": "0ad56971",
   "metadata": {},
   "source": [
    "chat templates for LLM conversations are akin to grammar for language."
   ]
  },
  {
   "cell_type": "code",
   "execution_count": null,
   "id": "41e6151a",
   "metadata": {},
   "outputs": [],
   "source": []
  }
 ],
 "metadata": {
  "kernelspec": {
   "display_name": "learn-env",
   "language": "python",
   "name": "python3"
  },
  "language_info": {
   "codemirror_mode": {
    "name": "ipython",
    "version": 3
   },
   "file_extension": ".py",
   "mimetype": "text/x-python",
   "name": "python",
   "nbconvert_exporter": "python",
   "pygments_lexer": "ipython3",
   "version": "3.12.5"
  }
 },
 "nbformat": 4,
 "nbformat_minor": 5
}
