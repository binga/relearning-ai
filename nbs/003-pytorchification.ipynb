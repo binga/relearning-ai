{
 "cells": [
  {
   "cell_type": "code",
   "execution_count": 2,
   "id": "7008443b",
   "metadata": {},
   "outputs": [],
   "source": [
    "import torch"
   ]
  },
  {
   "cell_type": "markdown",
   "id": "fc779db7",
   "metadata": {},
   "source": [
    "## Notebook objectives\n",
    "1. Leverage PyTorch primitives for almost all aspects of our training loop"
   ]
  },
  {
   "cell_type": "markdown",
   "id": "42f3091f",
   "metadata": {},
   "source": [
    "# Define the neural net model"
   ]
  },
  {
   "cell_type": "code",
   "execution_count": 3,
   "id": "eac73612",
   "metadata": {},
   "outputs": [],
   "source": [
    "class NeuralNet(torch.nn.Module):\n",
    "    def __init__(self, input_dim, hidden_dim, output_dim):\n",
    "        super(NeuralNet, self).__init__()\n",
    "        self.linear1 = torch.nn.Linear(input_dim, hidden_dim)\n",
    "        self.relu = torch.nn.ReLU()\n",
    "        self.linear2 = torch.nn.Linear(hidden_dim, output_dim)\n",
    "\n",
    "    def forward(self, x):\n",
    "        return self.linear2(self.relu(self.linear1(x)))\n",
    "\n",
    "    def backward(self, loss):\n",
    "        loss.backward()"
   ]
  },
  {
   "cell_type": "markdown",
   "id": "6bde8341",
   "metadata": {},
   "source": [
    "The `forward` method in the above class looks clunky because I'm passing the inputs through each layer. For larger models, this gets difficult to write and that's where PyTorch's `nn.Sequential` class comes to help."
   ]
  },
  {
   "cell_type": "code",
   "execution_count": 11,
   "id": "effacae5",
   "metadata": {},
   "outputs": [],
   "source": [
    "class NeuralNet(torch.nn.Module):\n",
    "    def __init__(self, input_dim, hidden_dim, output_dim):\n",
    "        super(NeuralNet, self).__init__()\n",
    "        self.layers = torch.nn.Sequential(\n",
    "            torch.nn.Linear(input_dim, hidden_dim),\n",
    "            torch.nn.ReLU(),\n",
    "            torch.nn.Linear(hidden_dim, output_dim)\n",
    "        )\n",
    "\n",
    "    def forward(self, x):\n",
    "        return self.layers(x)\n",
    "\n",
    "    def backward(self, loss):\n",
    "        loss.backward()"
   ]
  },
  {
   "cell_type": "code",
   "execution_count": 12,
   "id": "c35a9bda",
   "metadata": {},
   "outputs": [],
   "source": [
    "input_dim = 10\n",
    "output_dim = 1\n",
    "n_samples = 25"
   ]
  },
  {
   "cell_type": "markdown",
   "id": "44757887",
   "metadata": {},
   "source": [
    "# Creating a sample train, val and test dataset"
   ]
  },
  {
   "cell_type": "code",
   "execution_count": 25,
   "id": "483b7cdf",
   "metadata": {},
   "outputs": [],
   "source": [
    "g = torch.Generator().manual_seed(42)\n",
    "g2 = torch.Generator().manual_seed(2145521414)\n",
    "g3 = torch.Generator().manual_seed(4544313143143)\n",
    "\n",
    "# torch.random.manual_seed(42)\n",
    "\n",
    "train_X = torch.randn((n_samples, input_dim), generator=g)\n",
    "train_y = torch.randn((n_samples, output_dim), generator=g)\n",
    "train_y = torch.where(train_y > 0, 1, 0).squeeze()\n",
    "\n",
    "val_X = torch.randn((n_samples, input_dim), generator=g2)\n",
    "val_y = torch.randn((n_samples, output_dim), generator=g2)\n",
    "val_y = torch.where(val_y > 0, 1, 0).squeeze()\n",
    "\n",
    "test_X = torch.randn((n_samples, input_dim), generator=g3)\n",
    "test_y = torch.randn((n_samples, output_dim), generator=g3)\n",
    "test_y = torch.where(test_y > 0, 1, 0).squeeze()\n",
    "\n",
    "# print(train_X, train_y)\n"
   ]
  },
  {
   "cell_type": "markdown",
   "id": "18ba7213",
   "metadata": {},
   "source": [
    "# Run the forward pass"
   ]
  },
  {
   "cell_type": "code",
   "execution_count": 14,
   "id": "ff36b604",
   "metadata": {},
   "outputs": [
    {
     "name": "stdout",
     "output_type": "stream",
     "text": [
      " epoch:   0 | train_loss:  382.122925 | val_loss:  388.373779\n",
      " epoch:   1 | train_loss:  372.611084 | val_loss:  372.471161\n",
      " epoch:   2 | train_loss:  354.606659 | val_loss:  350.499939\n",
      " epoch:   3 | train_loss:  330.164307 | val_loss:  324.307068\n",
      " epoch:   4 | train_loss:  301.663452 | val_loss:  296.076324\n",
      " epoch:   5 | train_loss:  271.829865 | val_loss:  268.049194\n",
      " epoch:   6 | train_loss:  243.390366 | val_loss:  242.294800\n",
      " epoch:   7 | train_loss:  218.721970 | val_loss:  220.620636\n",
      " epoch:   8 | train_loss:  199.857727 | val_loss:  204.301926\n",
      " epoch:   9 | train_loss:  187.693588 | val_loss:  194.162384\n",
      " epoch:  10 | train_loss:  182.647736 | val_loss:  190.127975\n",
      " epoch:  11 | train_loss:  184.576035 | val_loss:  191.809235\n",
      " epoch:  12 | train_loss:  192.827316 | val_loss:  198.289032\n",
      " epoch:  13 | train_loss:  205.979248 | val_loss:  208.285400\n",
      " epoch:  14 | train_loss:  222.494324 | val_loss:  220.295792\n",
      " epoch:  15 | train_loss:  240.676544 | val_loss:  232.722260\n",
      " epoch:  16 | train_loss:  258.700195 | val_loss:  244.036057\n",
      " epoch:  17 | train_loss:  274.646362 | val_loss:  252.877625\n",
      " epoch:  18 | train_loss:  287.104187 | val_loss:  258.207153\n",
      " epoch:  19 | train_loss:  294.778564 | val_loss:  259.422882\n"
     ]
    }
   ],
   "source": [
    "w_means = []\n",
    "w_norms = []\n",
    "g_means = []\n",
    "g_norms = []\n",
    "losses  = []\n",
    "val_losses = []\n",
    "\n",
    "input_dim = 10\n",
    "hidden_dim=5\n",
    "output_dim = 1\n",
    "n_samples = 25\n",
    "\n",
    "clf = NeuralNet(input_dim, hidden_dim, output_dim)\n",
    "\n",
    "n_epochs = 20\n",
    "for i in range(n_epochs):\n",
    "    y_pred = clf(train_X)\n",
    "    loss = torch.square(torch.abs(y_pred - train_y)).sum()\n",
    "\n",
    "    # backward pass\n",
    "    clf.backward(loss)\n",
    "\n",
    "    # update the weights by a small amount\n",
    "    for param in clf.parameters():\n",
    "        if param.grad is not None:\n",
    "            param.data -= 0.00001 * param.grad.data\n",
    "\n",
    "    # eval\n",
    "    with torch.no_grad():\n",
    "        val_preds = clf(val_X)\n",
    "    val_loss = torch.square(torch.abs(val_preds - val_y)).sum()\n",
    "\n",
    "    print(f\" epoch: {i:3d} | train_loss: {loss: 3f} | val_loss: {val_loss: 3f}\")\n",
    "\n",
    "    all_w_params = torch.cat([p.data.view(-1) for p in clf.parameters()])\n",
    "    w_means.append(torch.mean(all_w_params).item())\n",
    "    w_norms.append(torch.norm(all_w_params).item())\n",
    "\n",
    "    all_grad_params = torch.cat([p.grad.data.view(-1) for p in clf.parameters()])\n",
    "    g_means.append(torch.mean(all_grad_params).item())\n",
    "    g_norms.append(torch.norm(all_grad_params).item())\n",
    "\n",
    "    losses.append(loss.item())\n",
    "    val_losses.append(val_loss.item())"
   ]
  },
  {
   "cell_type": "markdown",
   "id": "086ce7c6",
   "metadata": {},
   "source": [
    "There are PyTorch primitives to help simplify this code.\n",
    "1. Weight updates do not have to be manually done. PyTorch's `optim.SGD` optimizer helps us do it in a simpler way.\n",
    "2. Loss calculation can be simplified to using PyTorch's `nn.MSE` loss.\n",
    "3. In the backward pass, instead of doing `clf.backward(loss)`, as we are using the PyTorch's built in loss, we can simply do `loss.backward()`.\n",
    "\n",
    "Let's see how that simplifies our training loop."
   ]
  },
  {
   "cell_type": "code",
   "execution_count": 21,
   "id": "fe91ad03",
   "metadata": {},
   "outputs": [
    {
     "name": "stderr",
     "output_type": "stream",
     "text": [
      "/Users/phani/Work/Adhoc/projects/learning-ai/learn-env/lib/python3.12/site-packages/torch/nn/modules/loss.py:610: UserWarning: Using a target size (torch.Size([25])) that is different to the input size (torch.Size([25, 1])). This will likely lead to incorrect results due to broadcasting. Please ensure they have the same size.\n",
      "  return F.mse_loss(input, target, reduction=self.reduction)\n"
     ]
    },
    {
     "ename": "RuntimeError",
     "evalue": "Found dtype Long but expected Float",
     "output_type": "error",
     "traceback": [
      "\u001b[31m---------------------------------------------------------------------------\u001b[39m",
      "\u001b[31mRuntimeError\u001b[39m                              Traceback (most recent call last)",
      "\u001b[36mCell\u001b[39m\u001b[36m \u001b[39m\u001b[32mIn[21]\u001b[39m\u001b[32m, line 24\u001b[39m\n\u001b[32m     21\u001b[39m loss = criterion(y_pred, train_y) \u001b[38;5;66;03m#torch.square(torch.abs(y_pred - train_y)).sum()\u001b[39;00m\n\u001b[32m     23\u001b[39m \u001b[38;5;66;03m# backward pass\u001b[39;00m\n\u001b[32m---> \u001b[39m\u001b[32m24\u001b[39m \u001b[43mloss\u001b[49m\u001b[43m.\u001b[49m\u001b[43mbackward\u001b[49m\u001b[43m(\u001b[49m\u001b[43m)\u001b[49m\n\u001b[32m     26\u001b[39m \u001b[38;5;66;03m# update the weights by a small amount\u001b[39;00m\n\u001b[32m     27\u001b[39m optimizer.step()\n",
      "\u001b[36mFile \u001b[39m\u001b[32m~/Work/Adhoc/projects/learning-ai/learn-env/lib/python3.12/site-packages/torch/_tensor.py:648\u001b[39m, in \u001b[36mTensor.backward\u001b[39m\u001b[34m(self, gradient, retain_graph, create_graph, inputs)\u001b[39m\n\u001b[32m    638\u001b[39m \u001b[38;5;28;01mif\u001b[39;00m has_torch_function_unary(\u001b[38;5;28mself\u001b[39m):\n\u001b[32m    639\u001b[39m     \u001b[38;5;28;01mreturn\u001b[39;00m handle_torch_function(\n\u001b[32m    640\u001b[39m         Tensor.backward,\n\u001b[32m    641\u001b[39m         (\u001b[38;5;28mself\u001b[39m,),\n\u001b[32m   (...)\u001b[39m\u001b[32m    646\u001b[39m         inputs=inputs,\n\u001b[32m    647\u001b[39m     )\n\u001b[32m--> \u001b[39m\u001b[32m648\u001b[39m \u001b[43mtorch\u001b[49m\u001b[43m.\u001b[49m\u001b[43mautograd\u001b[49m\u001b[43m.\u001b[49m\u001b[43mbackward\u001b[49m\u001b[43m(\u001b[49m\n\u001b[32m    649\u001b[39m \u001b[43m    \u001b[49m\u001b[38;5;28;43mself\u001b[39;49m\u001b[43m,\u001b[49m\u001b[43m \u001b[49m\u001b[43mgradient\u001b[49m\u001b[43m,\u001b[49m\u001b[43m \u001b[49m\u001b[43mretain_graph\u001b[49m\u001b[43m,\u001b[49m\u001b[43m \u001b[49m\u001b[43mcreate_graph\u001b[49m\u001b[43m,\u001b[49m\u001b[43m \u001b[49m\u001b[43minputs\u001b[49m\u001b[43m=\u001b[49m\u001b[43minputs\u001b[49m\n\u001b[32m    650\u001b[39m \u001b[43m\u001b[49m\u001b[43m)\u001b[49m\n",
      "\u001b[36mFile \u001b[39m\u001b[32m~/Work/Adhoc/projects/learning-ai/learn-env/lib/python3.12/site-packages/torch/autograd/__init__.py:353\u001b[39m, in \u001b[36mbackward\u001b[39m\u001b[34m(tensors, grad_tensors, retain_graph, create_graph, grad_variables, inputs)\u001b[39m\n\u001b[32m    348\u001b[39m     retain_graph = create_graph\n\u001b[32m    350\u001b[39m \u001b[38;5;66;03m# The reason we repeat the same comment below is that\u001b[39;00m\n\u001b[32m    351\u001b[39m \u001b[38;5;66;03m# some Python versions print out the first line of a multi-line function\u001b[39;00m\n\u001b[32m    352\u001b[39m \u001b[38;5;66;03m# calls in the traceback and some print out the last line\u001b[39;00m\n\u001b[32m--> \u001b[39m\u001b[32m353\u001b[39m \u001b[43m_engine_run_backward\u001b[49m\u001b[43m(\u001b[49m\n\u001b[32m    354\u001b[39m \u001b[43m    \u001b[49m\u001b[43mtensors\u001b[49m\u001b[43m,\u001b[49m\n\u001b[32m    355\u001b[39m \u001b[43m    \u001b[49m\u001b[43mgrad_tensors_\u001b[49m\u001b[43m,\u001b[49m\n\u001b[32m    356\u001b[39m \u001b[43m    \u001b[49m\u001b[43mretain_graph\u001b[49m\u001b[43m,\u001b[49m\n\u001b[32m    357\u001b[39m \u001b[43m    \u001b[49m\u001b[43mcreate_graph\u001b[49m\u001b[43m,\u001b[49m\n\u001b[32m    358\u001b[39m \u001b[43m    \u001b[49m\u001b[43minputs\u001b[49m\u001b[43m,\u001b[49m\n\u001b[32m    359\u001b[39m \u001b[43m    \u001b[49m\u001b[43mallow_unreachable\u001b[49m\u001b[43m=\u001b[49m\u001b[38;5;28;43;01mTrue\u001b[39;49;00m\u001b[43m,\u001b[49m\n\u001b[32m    360\u001b[39m \u001b[43m    \u001b[49m\u001b[43maccumulate_grad\u001b[49m\u001b[43m=\u001b[49m\u001b[38;5;28;43;01mTrue\u001b[39;49;00m\u001b[43m,\u001b[49m\n\u001b[32m    361\u001b[39m \u001b[43m\u001b[49m\u001b[43m)\u001b[49m\n",
      "\u001b[36mFile \u001b[39m\u001b[32m~/Work/Adhoc/projects/learning-ai/learn-env/lib/python3.12/site-packages/torch/autograd/graph.py:824\u001b[39m, in \u001b[36m_engine_run_backward\u001b[39m\u001b[34m(t_outputs, *args, **kwargs)\u001b[39m\n\u001b[32m    822\u001b[39m     unregister_hooks = _register_logging_hooks_on_whole_graph(t_outputs)\n\u001b[32m    823\u001b[39m \u001b[38;5;28;01mtry\u001b[39;00m:\n\u001b[32m--> \u001b[39m\u001b[32m824\u001b[39m     \u001b[38;5;28;01mreturn\u001b[39;00m \u001b[43mVariable\u001b[49m\u001b[43m.\u001b[49m\u001b[43m_execution_engine\u001b[49m\u001b[43m.\u001b[49m\u001b[43mrun_backward\u001b[49m\u001b[43m(\u001b[49m\u001b[43m  \u001b[49m\u001b[38;5;66;43;03m# Calls into the C++ engine to run the backward pass\u001b[39;49;00m\n\u001b[32m    825\u001b[39m \u001b[43m        \u001b[49m\u001b[43mt_outputs\u001b[49m\u001b[43m,\u001b[49m\u001b[43m \u001b[49m\u001b[43m*\u001b[49m\u001b[43margs\u001b[49m\u001b[43m,\u001b[49m\u001b[43m \u001b[49m\u001b[43m*\u001b[49m\u001b[43m*\u001b[49m\u001b[43mkwargs\u001b[49m\n\u001b[32m    826\u001b[39m \u001b[43m    \u001b[49m\u001b[43m)\u001b[49m  \u001b[38;5;66;03m# Calls into the C++ engine to run the backward pass\u001b[39;00m\n\u001b[32m    827\u001b[39m \u001b[38;5;28;01mfinally\u001b[39;00m:\n\u001b[32m    828\u001b[39m     \u001b[38;5;28;01mif\u001b[39;00m attach_logging_hooks:\n",
      "\u001b[31mRuntimeError\u001b[39m: Found dtype Long but expected Float"
     ]
    }
   ],
   "source": [
    "w_means = []\n",
    "w_norms = []\n",
    "g_means = []\n",
    "g_norms = []\n",
    "losses  = []\n",
    "val_losses = []\n",
    "\n",
    "input_dim = 10\n",
    "hidden_dim=5\n",
    "output_dim = 1\n",
    "n_samples = 25\n",
    "\n",
    "clf = NeuralNet(input_dim, hidden_dim, output_dim)\n",
    "\n",
    "criterion = torch.nn.MSELoss()\n",
    "optimizer = torch.optim.SGD(clf.parameters(), lr=0.00001)\n",
    "\n",
    "n_epochs = 20\n",
    "for i in range(n_epochs):\n",
    "    y_pred = clf(train_X)\n",
    "    loss = criterion(y_pred, train_y) #torch.square(torch.abs(y_pred - train_y)).sum()\n",
    "\n",
    "    # backward pass\n",
    "    loss.backward()\n",
    "\n",
    "    # update the weights by a small amount\n",
    "    optimizer.step()\n",
    "    # for param in clf.parameters():\n",
    "    #     if param.grad is not None:\n",
    "    #         param.data -= 0.00001 * param.grad.data\n",
    "\n",
    "    # eval\n",
    "    with torch.no_grad():\n",
    "        val_preds = clf(val_X)\n",
    "\n",
    "    val_loss = criterion(val_preds, val_y)\n",
    "    # val_loss = torch.square(torch.abs(val_preds - val_y)).sum()\n",
    "\n",
    "    print(f\" epoch: {i:3d} | train_loss: {loss: 3f} | val_loss: {val_loss: 3f}\")\n",
    "\n",
    "    all_w_params = torch.cat([p.data.view(-1) for p in clf.parameters()])\n",
    "    w_means.append(torch.mean(all_w_params).item())\n",
    "    w_norms.append(torch.norm(all_w_params).item())\n",
    "\n",
    "    all_grad_params = torch.cat([p.grad.data.view(-1) for p in clf.parameters()])\n",
    "    g_means.append(torch.mean(all_grad_params).item())\n",
    "    g_norms.append(torch.norm(all_grad_params).item())\n",
    "\n",
    "    losses.append(loss.item())\n",
    "    val_losses.append(val_loss.item())"
   ]
  },
  {
   "cell_type": "code",
   "execution_count": 23,
   "id": "ccdf27e6",
   "metadata": {},
   "outputs": [
    {
     "name": "stdout",
     "output_type": "stream",
     "text": [
      "torch.float32 torch.int64\n",
      "torch.Size([25, 1]) torch.Size([25])\n"
     ]
    }
   ],
   "source": [
    "print(y_pred.dtype, train_y.dtype)\n",
    "print(y_pred.shape, train_y.shape)"
   ]
  },
  {
   "cell_type": "markdown",
   "id": "3a662426",
   "metadata": {},
   "source": [
    "Clearly, the inputs to the loss calculation are of different types and PyTorch doesn't seem to like it. Let's fix it and ensure the tensors are of the same size."
   ]
  },
  {
   "cell_type": "code",
   "execution_count": null,
   "id": "563b13be",
   "metadata": {},
   "outputs": [
    {
     "name": "stdout",
     "output_type": "stream",
     "text": [
      " epoch:   0 | train_loss:  1.315185 | val_loss:  1.390863\n",
      " epoch:   1 | train_loss:  1.315120 | val_loss:  1.390728\n",
      " epoch:   2 | train_loss:  1.314991 | val_loss:  1.390526\n",
      " epoch:   3 | train_loss:  1.314797 | val_loss:  1.390257\n",
      " epoch:   4 | train_loss:  1.314539 | val_loss:  1.389919\n",
      " epoch:   5 | train_loss:  1.314216 | val_loss:  1.389515\n",
      " epoch:   6 | train_loss:  1.313829 | val_loss:  1.389043\n",
      " epoch:   7 | train_loss:  1.313377 | val_loss:  1.388505\n",
      " epoch:   8 | train_loss:  1.312861 | val_loss:  1.387899\n",
      " epoch:   9 | train_loss:  1.312281 | val_loss:  1.387226\n",
      " epoch:  10 | train_loss:  1.311636 | val_loss:  1.386486\n",
      " epoch:  11 | train_loss:  1.310928 | val_loss:  1.385679\n",
      " epoch:  12 | train_loss:  1.310155 | val_loss:  1.384805\n",
      " epoch:  13 | train_loss:  1.309319 | val_loss:  1.383865\n",
      " epoch:  14 | train_loss:  1.308418 | val_loss:  1.382858\n",
      " epoch:  15 | train_loss:  1.307454 | val_loss:  1.381784\n",
      " epoch:  16 | train_loss:  1.306427 | val_loss:  1.380645\n",
      " epoch:  17 | train_loss:  1.305336 | val_loss:  1.379439\n",
      " epoch:  18 | train_loss:  1.304181 | val_loss:  1.378167\n",
      " epoch:  19 | train_loss:  1.302964 | val_loss:  1.376830\n"
     ]
    }
   ],
   "source": [
    "w_means = []\n",
    "w_norms = []\n",
    "g_means = []\n",
    "g_norms = []\n",
    "losses  = []\n",
    "val_losses = []\n",
    "\n",
    "input_dim = 10\n",
    "hidden_dim=5\n",
    "output_dim = 1\n",
    "n_samples = 25\n",
    "\n",
    "clf = NeuralNet(input_dim, hidden_dim, output_dim)\n",
    "\n",
    "criterion = torch.nn.MSELoss()\n",
    "optimizer = torch.optim.SGD(clf.parameters(), lr=0.00001)\n",
    "\n",
    "n_epochs = 20\n",
    "for i in range(n_epochs):\n",
    "    y_pred = clf(train_X)\n",
    "    loss = criterion(y_pred.squeeze(), train_y.float())\n",
    "\n",
    "    # backward pass\n",
    "    loss.backward()\n",
    "\n",
    "    # update the weights by a small amount\n",
    "    optimizer.step()\n",
    "\n",
    "    # eval\n",
    "    with torch.no_grad():\n",
    "        val_preds = clf(val_X)\n",
    "\n",
    "    val_loss = criterion(val_preds.squeeze(), val_y.float())\n",
    "    # val_loss = torch.square(torch.abs(val_preds - val_y)).sum()\n",
    "\n",
    "    print(f\" epoch: {i:3d} | train_loss: {loss: 3f} | val_loss: {val_loss: 3f}\")\n",
    "\n",
    "    all_w_params = torch.cat([p.data.view(-1) for p in clf.parameters()])\n",
    "    w_means.append(torch.mean(all_w_params).item())\n",
    "    w_norms.append(torch.norm(all_w_params).item())\n",
    "\n",
    "    all_grad_params = torch.cat([p.grad.data.view(-1) for p in clf.parameters()])\n",
    "    g_means.append(torch.mean(all_grad_params).item())\n",
    "    g_norms.append(torch.norm(all_grad_params).item())\n",
    "\n",
    "    losses.append(loss.item())\n",
    "    val_losses.append(val_loss.item())"
   ]
  },
  {
   "cell_type": "markdown",
   "id": "bf807af2",
   "metadata": {},
   "source": [
    "The loss values seem to be off. I think the gradient is getting accumulated. We need to reset the gradients in each iteration."
   ]
  },
  {
   "cell_type": "code",
   "execution_count": 28,
   "id": "784ce4e0",
   "metadata": {},
   "outputs": [],
   "source": [
    "g = torch.Generator().manual_seed(42)\n",
    "g2 = torch.Generator().manual_seed(2145521414)\n",
    "g3 = torch.Generator().manual_seed(4544313143143)\n",
    "\n",
    "# torch.random.manual_seed(42)\n",
    "\n",
    "train_X = torch.randn((n_samples, input_dim), generator=g)\n",
    "train_y = torch.randn((n_samples, output_dim), generator=g)\n",
    "train_y = torch.where(train_y > 0, 1, 0).squeeze()\n",
    "\n",
    "val_X = torch.randn((n_samples, input_dim), generator=g2)\n",
    "val_y = torch.randn((n_samples, output_dim), generator=g2)\n",
    "val_y = torch.where(val_y > 0, 1, 0).squeeze()\n",
    "\n",
    "test_X = torch.randn((n_samples, input_dim), generator=g3)\n",
    "test_y = torch.randn((n_samples, output_dim), generator=g3)\n",
    "test_y = torch.where(test_y > 0, 1, 0).squeeze()\n",
    "\n",
    "# print(train_X, train_y)\n"
   ]
  },
  {
   "cell_type": "code",
   "execution_count": 29,
   "id": "4fee1f1b",
   "metadata": {},
   "outputs": [
    {
     "name": "stdout",
     "output_type": "stream",
     "text": [
      " epoch:   0 | train_loss:  1.150317 | val_loss:  1.279562\n",
      " epoch:   1 | train_loss:  1.150251 | val_loss:  1.279498\n",
      " epoch:   2 | train_loss:  1.150185 | val_loss:  1.279434\n",
      " epoch:   3 | train_loss:  1.150118 | val_loss:  1.279370\n",
      " epoch:   4 | train_loss:  1.150053 | val_loss:  1.279306\n",
      " epoch:   5 | train_loss:  1.149987 | val_loss:  1.279243\n",
      " epoch:   6 | train_loss:  1.149921 | val_loss:  1.279179\n",
      " epoch:   7 | train_loss:  1.149854 | val_loss:  1.279115\n",
      " epoch:   8 | train_loss:  1.149789 | val_loss:  1.279051\n",
      " epoch:   9 | train_loss:  1.149723 | val_loss:  1.278988\n",
      " epoch:  10 | train_loss:  1.149657 | val_loss:  1.278924\n",
      " epoch:  11 | train_loss:  1.149591 | val_loss:  1.278860\n",
      " epoch:  12 | train_loss:  1.149525 | val_loss:  1.278797\n",
      " epoch:  13 | train_loss:  1.149459 | val_loss:  1.278733\n",
      " epoch:  14 | train_loss:  1.149393 | val_loss:  1.278669\n",
      " epoch:  15 | train_loss:  1.149327 | val_loss:  1.278605\n",
      " epoch:  16 | train_loss:  1.149261 | val_loss:  1.278542\n",
      " epoch:  17 | train_loss:  1.149195 | val_loss:  1.278478\n",
      " epoch:  18 | train_loss:  1.149130 | val_loss:  1.278414\n",
      " epoch:  19 | train_loss:  1.149064 | val_loss:  1.278351\n"
     ]
    }
   ],
   "source": [
    "w_means = []\n",
    "w_norms = []\n",
    "g_means = []\n",
    "g_norms = []\n",
    "losses  = []\n",
    "val_losses = []\n",
    "\n",
    "input_dim = 10\n",
    "hidden_dim=5\n",
    "output_dim = 1\n",
    "n_samples = 25\n",
    "\n",
    "clf = NeuralNet(input_dim, hidden_dim, output_dim)\n",
    "\n",
    "criterion = torch.nn.MSELoss()\n",
    "optimizer = torch.optim.SGD(clf.parameters(), lr=0.00001)\n",
    "\n",
    "n_epochs = 20\n",
    "for i in range(n_epochs):\n",
    "    y_pred = clf(train_X)\n",
    "    loss = criterion(y_pred.squeeze(), train_y.float())\n",
    "\n",
    "    # reset the gradients\n",
    "    optimizer.zero_grad()\n",
    "    \n",
    "    # backward pass\n",
    "    loss.backward()\n",
    "\n",
    "    # update the weights by a small amount\n",
    "    optimizer.step()\n",
    "\n",
    "    # eval\n",
    "    with torch.no_grad():\n",
    "        val_preds = clf(val_X)\n",
    "\n",
    "    val_loss = criterion(val_preds.squeeze(), val_y.float())\n",
    "    # val_loss = torch.square(torch.abs(val_preds - val_y)).sum()\n",
    "\n",
    "    print(f\" epoch: {i:3d} | train_loss: {loss: 3f} | val_loss: {val_loss: 3f}\")\n",
    "\n",
    "    all_w_params = torch.cat([p.data.view(-1) for p in clf.parameters()])\n",
    "    w_means.append(torch.mean(all_w_params).item())\n",
    "    w_norms.append(torch.norm(all_w_params).item())\n",
    "\n",
    "    all_grad_params = torch.cat([p.grad.data.view(-1) for p in clf.parameters()])\n",
    "    g_means.append(torch.mean(all_grad_params).item())\n",
    "    g_norms.append(torch.norm(all_grad_params).item())\n",
    "\n",
    "    losses.append(loss.item())\n",
    "    val_losses.append(val_loss.item())"
   ]
  },
  {
   "cell_type": "markdown",
   "id": "d0ce385f",
   "metadata": {},
   "source": [
    "Although this is the right thing to do, we see a difference between my implementation vs PyTorch's loss implementation. Is it because of the tensor dimension mismatch?"
   ]
  },
  {
   "cell_type": "code",
   "execution_count": 32,
   "id": "100cb181",
   "metadata": {},
   "outputs": [
    {
     "name": "stdout",
     "output_type": "stream",
     "text": [
      " epoch:   0 | train_loss:  16.586596 | val_loss:  14.752296\n",
      " epoch:   1 | train_loss:  16.569662 | val_loss:  14.729992\n",
      " epoch:   2 | train_loss:  16.535877 | val_loss:  14.696644\n",
      " epoch:   3 | train_loss:  16.485401 | val_loss:  14.652384\n",
      " epoch:   4 | train_loss:  16.418470 | val_loss:  14.597387\n",
      " epoch:   5 | train_loss:  16.335407 | val_loss:  14.531866\n",
      " epoch:   6 | train_loss:  16.236593 | val_loss:  14.456077\n",
      " epoch:   7 | train_loss:  16.122498 | val_loss:  14.370312\n",
      " epoch:   8 | train_loss:  15.993653 | val_loss:  14.274902\n",
      " epoch:   9 | train_loss:  15.850651 | val_loss:  14.170212\n",
      " epoch:  10 | train_loss:  15.694147 | val_loss:  14.056633\n",
      " epoch:  11 | train_loss:  15.524858 | val_loss:  13.934597\n",
      " epoch:  12 | train_loss:  15.343538 | val_loss:  13.804554\n",
      " epoch:  13 | train_loss:  15.151001 | val_loss:  13.666979\n",
      " epoch:  14 | train_loss:  14.948164 | val_loss:  13.522488\n",
      " epoch:  15 | train_loss:  14.735858 | val_loss:  13.371492\n",
      " epoch:  16 | train_loss:  14.514977 | val_loss:  13.214515\n",
      " epoch:  17 | train_loss:  14.286455 | val_loss:  13.052098\n",
      " epoch:  18 | train_loss:  14.051241 | val_loss:  12.884796\n",
      " epoch:  19 | train_loss:  13.810292 | val_loss:  12.713171\n"
     ]
    }
   ],
   "source": [
    "w_means = []\n",
    "w_norms = []\n",
    "g_means = []\n",
    "g_norms = []\n",
    "losses  = []\n",
    "val_losses = []\n",
    "\n",
    "input_dim = 10\n",
    "hidden_dim=5\n",
    "output_dim = 1\n",
    "n_samples = 25\n",
    "\n",
    "clf = NeuralNet(input_dim, hidden_dim, output_dim)\n",
    "\n",
    "n_epochs = 20\n",
    "for i in range(n_epochs):\n",
    "    y_pred = clf(train_X)\n",
    "    loss = torch.square(torch.abs(y_pred.squeeze() - train_y.float())).sum()\n",
    "\n",
    "    # backward pass\n",
    "    clf.backward(loss)\n",
    "\n",
    "    # update the weights by a small amount\n",
    "    for param in clf.parameters():\n",
    "        if param.grad is not None:\n",
    "            param.data -= 0.00001 * param.grad.data\n",
    "\n",
    "    # eval\n",
    "    with torch.no_grad():\n",
    "        val_preds = clf(val_X)\n",
    "    val_loss = torch.square(torch.abs(val_preds.squeeze() - val_y.float())).sum()\n",
    "\n",
    "    print(f\" epoch: {i:3d} | train_loss: {loss: 3f} | val_loss: {val_loss: 3f}\")\n",
    "\n",
    "    all_w_params = torch.cat([p.data.view(-1) for p in clf.parameters()])\n",
    "    w_means.append(torch.mean(all_w_params).item())\n",
    "    w_norms.append(torch.norm(all_w_params).item())\n",
    "\n",
    "    all_grad_params = torch.cat([p.grad.data.view(-1) for p in clf.parameters()])\n",
    "    g_means.append(torch.mean(all_grad_params).item())\n",
    "    g_norms.append(torch.norm(all_grad_params).item())\n",
    "\n",
    "    losses.append(loss.item())\n",
    "    val_losses.append(val_loss.item())"
   ]
  },
  {
   "cell_type": "markdown",
   "id": "8f88bbb8",
   "metadata": {},
   "source": [
    "Yes, that partly resolved the problem. We still see a difference though. I wonder why."
   ]
  },
  {
   "cell_type": "code",
   "execution_count": 35,
   "id": "14cbea0c",
   "metadata": {},
   "outputs": [
    {
     "data": {
      "text/plain": [
       "NeuralNet(\n",
       "  (layers): Sequential(\n",
       "    (0): Linear(in_features=10, out_features=5, bias=True)\n",
       "    (1): ReLU()\n",
       "    (2): Linear(in_features=5, out_features=1, bias=True)\n",
       "  )\n",
       ")"
      ]
     },
     "execution_count": 35,
     "metadata": {},
     "output_type": "execute_result"
    }
   ],
   "source": [
    "clf"
   ]
  },
  {
   "cell_type": "code",
   "execution_count": 37,
   "id": "1b3eea56",
   "metadata": {},
   "outputs": [
    {
     "data": {
      "text/plain": [
       "61"
      ]
     },
     "execution_count": 37,
     "metadata": {},
     "output_type": "execute_result"
    }
   ],
   "source": [
    "sum([p.numel() for p in clf.parameters()])"
   ]
  },
  {
   "cell_type": "code",
   "execution_count": 39,
   "id": "fffc2889",
   "metadata": {},
   "outputs": [
    {
     "data": {
      "text/plain": [
       "tensor([[ 1.9269e+00,  1.4873e+00,  9.0072e-01, -2.1055e+00,  6.7842e-01,\n",
       "         -1.2345e+00, -4.3067e-02, -1.6047e+00, -7.5214e-01,  1.6487e+00],\n",
       "        [-3.9248e-01, -1.4036e+00, -7.2788e-01, -5.5943e-01, -7.6884e-01,\n",
       "          7.6245e-01,  1.6423e+00, -1.5960e-01, -4.9740e-01,  4.3959e-01],\n",
       "        [-7.5813e-01,  1.0783e+00,  8.0080e-01,  1.6806e+00,  1.2791e+00,\n",
       "          1.2964e+00,  6.1047e-01,  1.3347e+00, -2.3162e-01,  4.1759e-02],\n",
       "        [-2.5158e-01,  8.5986e-01, -1.3847e+00, -8.7124e-01, -2.2337e-01,\n",
       "          1.7174e+00,  3.1888e-01, -4.2452e-01,  3.0572e-01, -7.7459e-01],\n",
       "        [-1.5576e+00,  9.9564e-01, -8.7979e-01, -6.0114e-01, -1.2742e+00,\n",
       "          2.1228e+00, -1.2347e+00, -4.8791e-01, -9.1382e-01, -6.5814e-01],\n",
       "        [ 7.8024e-02,  5.2581e-01, -4.8799e-01,  1.1914e+00, -8.1401e-01,\n",
       "         -7.3599e-01, -1.4032e+00,  3.6004e-02, -6.3477e-02,  6.7561e-01],\n",
       "        [-9.7807e-02,  1.8446e+00, -1.1845e+00,  1.3835e+00,  1.4451e+00,\n",
       "          8.5641e-01,  2.2181e+00,  5.2317e-01,  3.4665e-01, -1.9733e-01],\n",
       "        [-1.0546e+00,  1.2780e+00, -1.7219e-01,  5.2379e-01,  5.6622e-02,\n",
       "          4.2630e-01,  5.7501e-01, -6.4172e-01, -2.2064e+00, -7.5080e-01],\n",
       "        [ 1.0868e-02, -3.3874e-01, -1.3407e+00, -5.8537e-01,  5.3619e-01,\n",
       "          5.2462e-01,  1.1412e+00,  5.1644e-02,  7.4395e-01, -4.8158e-01],\n",
       "        [-1.0495e+00,  6.0390e-01, -1.7223e+00, -8.2777e-01,  1.3347e+00,\n",
       "          4.8354e-01, -2.5095e+00,  4.8800e-01,  7.8459e-01,  2.8647e-02],\n",
       "        [ 6.4076e-01,  5.8325e-01,  1.0669e+00, -4.5015e-01, -1.8527e-01,\n",
       "          7.5276e-01,  4.0476e-01,  1.7847e-01,  2.6491e-01,  1.2732e+00],\n",
       "        [-1.3109e-03, -3.0360e-01, -1.4570e+00, -1.0234e-01, -5.9915e-01,\n",
       "          4.7706e-01,  7.2618e-01,  9.1152e-02, -3.8907e-01,  5.2792e-01],\n",
       "        [-1.2685e-02,  2.4084e-01,  1.3254e-01,  7.6424e-01,  1.0950e+00,\n",
       "          3.3989e-01,  7.1997e-01,  4.1141e-01,  1.9312e+00,  1.0119e+00],\n",
       "        [-1.4364e+00, -1.1299e+00, -1.3603e-01,  1.6354e+00,  6.5474e-01,\n",
       "          5.7600e-01,  1.1415e+00,  1.8565e-02, -1.8058e+00,  9.2543e-01],\n",
       "        [-3.7534e-01,  1.0331e+00, -6.8665e-01,  6.3681e-01, -9.7267e-01,\n",
       "          9.5846e-01,  1.6192e+00,  1.4506e+00,  2.6948e-01, -2.1038e-01],\n",
       "        [-7.3280e-01,  1.0430e-01,  3.4875e-01,  9.6759e-01, -4.6569e-01,\n",
       "          1.6048e+00, -2.4801e+00, -4.1754e-01, -1.1955e+00,  8.1234e-01],\n",
       "        [-1.9006e+00,  2.2858e-01,  2.4859e-02, -3.4595e-01,  2.8683e-01,\n",
       "         -7.3084e-01,  1.7482e-01, -1.0939e+00, -1.6022e+00,  1.3529e+00],\n",
       "        [ 1.2888e+00,  5.2296e-02, -1.5469e+00,  7.5671e-01,  7.7552e-01,\n",
       "          2.0265e+00,  3.5818e-02,  1.2059e-01, -8.0566e-01, -2.0758e-01],\n",
       "        [-9.3195e-01, -1.5910e+00, -1.1360e+00, -5.2260e-01, -5.1877e-01,\n",
       "         -1.5013e+00, -1.9267e+00,  1.2785e-01,  1.0229e+00, -5.5579e-01],\n",
       "        [ 7.0427e-01,  7.0988e-01,  1.7744e+00, -9.2155e-01,  9.6245e-01,\n",
       "         -3.3702e-01, -1.1753e+00,  3.5806e-01,  4.7877e-01,  1.3537e+00],\n",
       "        [ 5.2606e-01,  2.1120e+00, -5.2076e-01, -9.3201e-01,  1.8516e-01,\n",
       "          1.0687e+00,  1.3065e+00,  4.5983e-01, -8.1463e-01, -1.0212e+00],\n",
       "        [-4.9492e-01, -5.9225e-01,  1.5432e-01,  4.4077e-01, -1.4829e-01,\n",
       "         -2.3184e+00, -3.9800e-01,  1.0805e+00, -1.7809e+00,  1.5080e+00],\n",
       "        [ 3.0943e-01, -5.0031e-01,  1.0350e+00,  1.6896e+00, -4.5051e-03,\n",
       "          1.6668e+00,  1.5392e-01, -1.0603e+00, -5.7266e-01,  8.3568e-02],\n",
       "        [ 3.9991e-01,  1.9892e+00, -7.1988e-02, -9.0609e-01,  7.4915e-03,\n",
       "         -7.7365e-02,  6.4269e-01,  5.7425e-01,  5.8672e-01, -1.8847e-02],\n",
       "        [-6.8548e-01,  5.6356e-01, -9.1091e-01, -5.2910e-01, -8.0515e-01,\n",
       "          5.1580e-01, -7.1288e-01,  2.1962e-01, -1.5988e+00, -1.0913e-01]])"
      ]
     },
     "execution_count": 39,
     "metadata": {},
     "output_type": "execute_result"
    }
   ],
   "source": [
    "train_X"
   ]
  },
  {
   "cell_type": "markdown",
   "id": "1a78b6ce",
   "metadata": {},
   "source": [
    "It's very hard to inspect tensors. `lovely_tensors` solves this problem."
   ]
  },
  {
   "cell_type": "code",
   "execution_count": null,
   "id": "cbad451c",
   "metadata": {},
   "outputs": [
    {
     "data": {
      "text/plain": [
       "tensor[25, 10] n=250 x∈[-2.510, 2.218] μ=0.052 σ=0.987"
      ]
     },
     "execution_count": 44,
     "metadata": {},
     "output_type": "execute_result"
    }
   ],
   "source": [
    "import lovely_tensors as lt\n",
    "lt.monkey_patch()\n",
    "\n",
    "train_X"
   ]
  },
  {
   "cell_type": "markdown",
   "id": "137765d4",
   "metadata": {},
   "source": [
    "# Plot the losses and grad norms"
   ]
  },
  {
   "cell_type": "code",
   "execution_count": 34,
   "id": "d91ea743",
   "metadata": {},
   "outputs": [
    {
     "data": {
      "image/png": "[encoded data removed]",
      "text/plain": [
       "<Figure size 1400x500 with 3 Axes>"
      ]
     },
     "metadata": {},
     "output_type": "display_data"
    }
   ],
   "source": [
    "import matplotlib.pyplot as plt\n",
    "%matplotlib inline\n",
    "\n",
    "fig, axes = plt.subplots(2, 2, figsize=(14, 5))\n",
    "\n",
    "epochs = list(range(n_epochs))\n",
    "\n",
    "# Plot means\n",
    "axes[0, 0].scatter(epochs, losses, color='blue')\n",
    "axes[0, 0].plot(epochs, losses, linestyle='dashed', alpha=0.5)\n",
    "axes[0, 0].set_xlabel('Epoch')\n",
    "axes[0, 0].set_ylabel('Loss ')\n",
    "axes[0, 0].set_title('Loss Across Epochs')\n",
    "axes[0, 0].set_xticks(epochs)\n",
    "axes[0, 0].set_yscale('log')\n",
    "axes[0, 0].grid(True)\n",
    "\n",
    "# Plot norms (gradient norms) in axes[0, 1]\n",
    "axes[0, 1].scatter(epochs, g_norms, color='green')\n",
    "axes[0, 1].plot(epochs, g_norms, linestyle='dashed', alpha=0.5)\n",
    "axes[0, 1].set_xlabel('Epoch')\n",
    "axes[0, 1].set_ylabel('Norm of Grad Parameters')\n",
    "axes[0, 1].set_title('Norm of Grad Parameters Across Epochs')\n",
    "axes[0, 1].set_xticks(epochs)\n",
    "axes[0, 1].set_yscale('log')\n",
    "axes[0, 1].grid(True)\n",
    "\n",
    "# Plot validation loss in axes[1, 0]\n",
    "axes[1, 0].scatter(epochs, val_losses, color='red')\n",
    "axes[1, 0].plot(epochs, val_losses, linestyle='dashed', alpha=0.5)\n",
    "axes[1, 0].set_xlabel('Epoch')\n",
    "axes[1, 0].set_ylabel('Val Loss')\n",
    "axes[1, 0].set_title('Val Loss Across Epochs')\n",
    "axes[1, 0].set_xticks(epochs)\n",
    "axes[1, 0].set_yscale('log')\n",
    "axes[1, 0].grid(True)\n",
    "\n",
    "# Remove the 4th plot (axes[1, 1])\n",
    "fig.delaxes(axes[1, 1])\n",
    "\n",
    "plt.tight_layout()\n",
    "plt.show()"
   ]
  },
  {
   "cell_type": "markdown",
   "id": "e3f149e9",
   "metadata": {},
   "source": []
  }
 ],
 "metadata": {
  "kernelspec": {
   "display_name": "learn-env",
   "language": "python",
   "name": "python3"
  },
  "language_info": {
   "codemirror_mode": {
    "name": "ipython",
    "version": 3
   },
   "file_extension": ".py",
   "mimetype": "text/x-python",
   "name": "python",
   "nbconvert_exporter": "python",
   "pygments_lexer": "ipython3",
   "version": "3.12.5"
  }
 },
 "nbformat": 4,
 "nbformat_minor": 5
}
