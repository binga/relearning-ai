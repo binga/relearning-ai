{
 "cells": [
  {
   "cell_type": "markdown",
   "id": "312caa2e",
   "metadata": {},
   "source": [
    "# CS336 Assignments\n",
    "\n",
    "| # | Topic                         | Description                                 |\n",
    "|---|-------------------------------|---------------------------------------------|\n",
    "| 1 | Basics                        | Train an LLM from scratch                   |\n",
    "| 2 | Systems                       | Make it run fast!                           |\n",
    "| 3 | Scaling                       | Make it performant at a FLOP budget         |\n",
    "| 4 | Data                          | Prepare the right datasets                  |\n",
    "| 5 | Alignment & Reasoning RL      | Align it to real-world use cases            |"
   ]
  },
  {
   "cell_type": "markdown",
   "id": "4788fc7b",
   "metadata": {},
   "source": [
    "# Assignment #1\n",
    "- Implement all of the components (tokenizer, model, loss function, optimizer) necessary to train a standard Transformer language model\n",
    "- Train a minimal language model"
   ]
  },
  {
   "cell_type": "code",
   "execution_count": 3,
   "id": "5564de0e",
   "metadata": {},
   "outputs": [
    {
     "name": "stderr",
     "output_type": "stream",
     "text": [
      "Generating train split: 100%|██████████| 2119719/2119719 [00:01<00:00, 1615856.43 examples/s]\n",
      "Generating validation split: 100%|██████████| 21990/21990 [00:00<00:00, 1467832.85 examples/s]\n"
     ]
    },
    {
     "data": {
      "text/plain": [
       "DatasetDict({\n",
       "    train: Dataset({\n",
       "        features: ['text'],\n",
       "        num_rows: 2119719\n",
       "    })\n",
       "    validation: Dataset({\n",
       "        features: ['text'],\n",
       "        num_rows: 21990\n",
       "    })\n",
       "})"
      ]
     },
     "execution_count": 3,
     "metadata": {},
     "output_type": "execute_result"
    }
   ],
   "source": [
    "from datasets import load_dataset\n",
    "\n",
    "tinystories = load_dataset(\"roneneldan/TinyStories\")\n",
    "tinystories"
   ]
  },
  {
   "cell_type": "code",
   "execution_count": 6,
   "id": "b3600cf0",
   "metadata": {},
   "outputs": [
    {
     "data": {
      "text/plain": [
       "{'text': ['One day, a little girl named Lily found a needle in her room. She knew it was difficult to play with it because it was sharp. Lily wanted to share the needle with her mom, so she could sew a button on her shirt.\\n\\nLily went to her mom and said, \"Mom, I found this needle. Can you share it with me and sew my shirt?\" Her mom smiled and said, \"Yes, Lily, we can share the needle and fix your shirt.\"\\n\\nTogether, they shared the needle and sewed the button on Lily\\'s shirt. It was not difficult for them because they were sharing and helping each other. After they finished, Lily thanked her mom for sharing the needle and fixing her shirt. They both felt happy because they had shared and worked together.',\n",
       "  'Once upon a time, there was a little car named Beep. Beep loved to go fast and play in the sun. Beep was a healthy car because he always had good fuel. Good fuel made Beep happy and strong.\\n\\nOne day, Beep was driving in the park when he saw a big tree. The tree had many leaves that were falling. Beep liked how the leaves fall and wanted to play with them. Beep drove under the tree and watched the leaves fall on him. He laughed and beeped his horn.\\n\\nBeep played with the falling leaves all day. When it was time to go home, Beep knew he needed more fuel. He went to the fuel place and got more healthy fuel. Now, Beep was ready to go fast and play again the next day. And Beep lived happily ever after.',\n",
       "  'One day, a little fish named Fin was swimming near the shore. He saw a big crab and wanted to be friends. \"Hi, I am Fin. Do you want to play?\" asked the little fish. The crab looked at Fin and said, \"No, I don\\'t want to play. I am cold and I don\\'t feel fine.\"\\n\\nFin felt sad but wanted to help the crab feel better. He swam away and thought of a plan. He remembered that the sun could make things warm. So, Fin swam to the top of the water and called to the sun, \"Please, sun, help my new friend feel fine and not freeze!\"\\n\\nThe sun heard Fin\\'s call and shone its warm light on the shore. The crab started to feel better and not so cold. He saw Fin and said, \"Thank you, little fish, for making me feel fine. I don\\'t feel like I will freeze now. Let\\'s play together!\" And so, Fin and the crab played and became good friends.',\n",
       "  'Once upon a time, in a land full of trees, there was a little cherry tree. The cherry tree was very sad because it did not have any friends. All the other trees were big and strong, but the cherry tree was small and weak. The cherry tree was envious of the big trees.\\n\\nOne day, the cherry tree felt a tickle in its branches. It was a little spring wind. The wind told the cherry tree not to be sad. The wind said, \"You are special because you have sweet cherries that everyone loves.\" The cherry tree started to feel a little better.\\n\\nAs time went on, the cherry tree grew more and more cherries. All the animals in the land came to eat the cherries and play under the cherry tree. The cherry tree was happy because it had many friends now. The cherry tree learned that being different can be a good thing. And they all lived happily ever after.',\n",
       "  'Once upon a time, there was a little girl named Lily. Lily liked to pretend she was a popular princess. She lived in a big castle with her best friends, a cat and a dog.\\n\\nOne day, while playing in the castle, Lily found a big cobweb. The cobweb was in the way of her fun game. She wanted to get rid of it, but she was scared of the spider that lived there.\\n\\nLily asked her friends, the cat and the dog, to help her. They all worked together to clean the cobweb. The spider was sad, but it found a new home outside. Lily, the cat, and the dog were happy they could play without the cobweb in the way. And they all lived happily ever after.',\n",
       "  'Once upon a time, in a big lake, there was a brown kayak. The brown kayak liked to roll in the water all day long. It was very happy when it could roll and splash in the lake.\\n\\nOne day, a little boy named Tim came to play with the brown kayak. Tim and the brown kayak rolled in the water together. They laughed and had a lot of fun. The sun was shining, and the water was warm.\\n\\nAfter a while, it was time for Tim to go home. He said goodbye to the brown kayak and gave it a big hug. The brown kayak was sad to see Tim go, but it knew they would play together again soon. So, the brown kayak kept rolling in the water, waiting for the next fun day with Tim.',\n",
       "  'Once upon a time, in a small town, there was a troubled little girl named Lily. She was always sad because she lost her favorite toy, a triangle. She looked everywhere in her house but could not find it.\\n\\nOne sunny day, Lily went to the park to play. She saw a big puddle of water and thought her triangle might be there. She put her hand in the water to soak it and looked for her toy. She felt something at the bottom of the puddle.\\n\\nLily pulled it out and saw that it was her triangle! She was so happy that she found it. From that day on, Lily was never troubled again. She played with her triangle every day and always kept it close to her. And when she saw puddles, she would smile and remember how she found her toy.',\n",
       "  'Once upon a time, in a peaceful town, there lived a little boy named Tim. Tim loved to run and play outside. One day, Tim saw a race in the park. He was excited and wanted to join the race.\\n\\nTim went to his friend, Sarah, and said, \"Let\\'s start the race!\" Sarah smiled and said, \"Yes, let\\'s go!\" They lined up with the other kids and waited for the race to begin. When they heard the word \"Go!\", they started running as fast as they could.\\n\\nTim and Sarah ran with all their speed, laughing and having fun. They could feel the wind in their hair as they raced to the finish line. In the end, Tim won the race and Sarah came in second. They were both so happy and proud of themselves. They celebrated with their friends and had a great day at the park.',\n",
       "  'Once upon a time, there was a clever little dog named Max. Max loved to run and play with his friends in the park. One day, Max was running very fast when he fell and hurt his knee.\\n\\nMax went to his friend, the wise old owl, and said, \"Owl, my knee hurts. What can I do?\" The owl thought for a moment and said, \"Max, you should test your knee. Try to walk slowly and see if it still hurts.\"\\n\\nSo Max tested his knee by walking slowly. At first, it hurt a little, but soon Max felt better. He said, \"Thank you, Owl, for your help. Now I can play with my friends again.\"\\n\\nMax was so happy that he could play with his friends without pain. He learned that sometimes, it was good to slow down and listen to his body. And Max and his friends played happily in the park ever after.',\n",
       "  'One day, a fast driver named Tim went for a ride in his loud car. He loved to speed down the street and feel the wind in his hair. As he drove, he saw his friend, Sam, standing by the road.\\n\\n\"Hi, Sam!\" Tim called out. \"Do you want to go for a ride?\"\\n\\n\"Yes, please!\" Sam said, and he got in the car. They drove around the town, going fast and having fun. The car was very loud, and everyone could hear them coming.\\n\\nAt last, they stopped at the park to play. They ran and laughed until it was time to go home. Tim and Sam had a great day together, speeding in the loud car and playing in the park.']}"
      ]
     },
     "execution_count": 6,
     "metadata": {},
     "output_type": "execute_result"
    }
   ],
   "source": [
    "tinystories['train'][0:10]"
   ]
  },
  {
   "cell_type": "markdown",
   "id": "f4207a2b",
   "metadata": {},
   "source": [
    "# Tokenizer"
   ]
  },
  {
   "cell_type": "code",
   "execution_count": 1,
   "id": "2db9bf55",
   "metadata": {},
   "outputs": [],
   "source": [
    "sample_text = [\n",
    "    \"The quick brown fox jumps over the lazy dog.\",\n",
    "    \"Artificial intelligence is transforming the world.\",\n",
    "    \"Python is a popular programming language.\",\n",
    "    \"Machine learning enables computers to learn from data.\",\n",
    "    \"Natural language processing helps computers understand text.\",\n",
    "    \"Deep learning models require large amounts of data.\",\n",
    "    \"Neural networks are inspired by the human brain.\",\n",
    "    \"Data science combines statistics and computer science.\",\n",
    "    \"Transformers have revolutionized language modeling.\",\n",
    "    \"Open source software encourages collaboration.\"\n",
    "]"
   ]
  },
  {
   "cell_type": "markdown",
   "id": "85c05061",
   "metadata": {
    "vscode": {
     "languageId": "markdown"
    }
   },
   "source": [
    "Steps to create a tokenizer:\n",
    "1. From all the words in our corpus, build a vocabulary\n",
    "2. Create a mapping between vocab and integer IDs\n",
    "3. Create a reverse mapping"
   ]
  },
  {
   "cell_type": "code",
   "execution_count": 12,
   "id": "673cca35",
   "metadata": {},
   "outputs": [
    {
     "data": {
      "text/plain": [
       "{'The', 'brown', 'dog.', 'fox', 'jumps', 'lazy', 'over', 'quick', 'the'}"
      ]
     },
     "execution_count": 12,
     "metadata": {},
     "output_type": "execute_result"
    }
   ],
   "source": [
    "set(sample_text[0].split())"
   ]
  },
  {
   "cell_type": "code",
   "execution_count": 17,
   "id": "f3f2c655",
   "metadata": {},
   "outputs": [
    {
     "name": "stdout",
     "output_type": "stream",
     "text": [
      "69\n",
      "62\n"
     ]
    }
   ],
   "source": [
    "words = ' '.join(sample_text).split()\n",
    "print(len(words))\n",
    "words = set(words)\n",
    "print(len(words))"
   ]
  },
  {
   "cell_type": "code",
   "execution_count": 20,
   "id": "b04d2729",
   "metadata": {},
   "outputs": [
    {
     "data": {
      "text/plain": [
       "{'over': 0,\n",
       " 'Neural': 1,\n",
       " 'The': 2,\n",
       " 'world.': 3,\n",
       " 'amounts': 4,\n",
       " 'lazy': 5,\n",
       " 'computer': 6,\n",
       " 'encourages': 7,\n",
       " 'understand': 8,\n",
       " 'quick': 9,\n",
       " 'dog.': 10,\n",
       " 'helps': 11,\n",
       " 'Open': 12,\n",
       " 'fox': 13,\n",
       " 'science.': 14,\n",
       " 'networks': 15,\n",
       " 'software': 16,\n",
       " 'text.': 17,\n",
       " 'science': 18,\n",
       " 'to': 19,\n",
       " 'Machine': 20,\n",
       " 'revolutionized': 21,\n",
       " 'Transformers': 22,\n",
       " 'transforming': 23,\n",
       " 'from': 24,\n",
       " 'source': 25,\n",
       " 'programming': 26,\n",
       " 'brain.': 27,\n",
       " 'and': 28,\n",
       " 'data.': 29,\n",
       " 'modeling.': 30,\n",
       " 'Natural': 31,\n",
       " 'enables': 32,\n",
       " 'models': 33,\n",
       " 'brown': 34,\n",
       " 'Data': 35,\n",
       " 'Python': 36,\n",
       " 'collaboration.': 37,\n",
       " 'statistics': 38,\n",
       " 'a': 39,\n",
       " 'popular': 40,\n",
       " 'language': 41,\n",
       " 'learn': 42,\n",
       " 'by': 43,\n",
       " 'Artificial': 44,\n",
       " 'computers': 45,\n",
       " 'inspired': 46,\n",
       " 'have': 47,\n",
       " 'require': 48,\n",
       " 'jumps': 49,\n",
       " 'large': 50,\n",
       " 'intelligence': 51,\n",
       " 'is': 52,\n",
       " 'Deep': 53,\n",
       " 'of': 54,\n",
       " 'combines': 55,\n",
       " 'language.': 56,\n",
       " 'the': 57,\n",
       " 'learning': 58,\n",
       " 'are': 59,\n",
       " 'processing': 60,\n",
       " 'human': 61}"
      ]
     },
     "execution_count": 20,
     "metadata": {},
     "output_type": "execute_result"
    }
   ],
   "source": [
    "stoi = {s:i for i, s in enumerate(words)}\n",
    "itos = {i:s for i, s in enumerate(words)}\n",
    "stoi"
   ]
  },
  {
   "cell_type": "code",
   "execution_count": 23,
   "id": "153c5f0c",
   "metadata": {},
   "outputs": [
    {
     "data": {
      "text/plain": [
       "[2, 9, 34, 13, 49, 0, 57, 5, 10]"
      ]
     },
     "execution_count": 23,
     "metadata": {},
     "output_type": "execute_result"
    }
   ],
   "source": [
    "[stoi[x] for x in sample_text[0].split()]"
   ]
  },
  {
   "cell_type": "code",
   "execution_count": 26,
   "id": "a11bdfa0",
   "metadata": {},
   "outputs": [],
   "source": [
    "class Tokenizer():\n",
    "    def __init__(self):\n",
    "        pass\n",
    "\n",
    "    def encode(self, s: str):\n",
    "        self.vocab = ' '.join(sample_text).split()\n",
    "        self.stoi = {s:i for i, s in enumerate(self.vocab)}\n",
    "        self.itos = {i:s for i, s in enumerate(self.vocab)}\n",
    "        encoded_str = [stoi[x] for x in sample_text[0].split()]\n",
    "        return encoded_str\n",
    "\n",
    "    def decode(self, i: list[str]):\n",
    "        pass"
   ]
  },
  {
   "cell_type": "code",
   "execution_count": 28,
   "id": "2bf0e712",
   "metadata": {},
   "outputs": [
    {
     "data": {
      "text/plain": [
       "[2, 9, 34, 13, 49, 0, 57, 5, 10]"
      ]
     },
     "execution_count": 28,
     "metadata": {},
     "output_type": "execute_result"
    }
   ],
   "source": [
    "tok = Tokenizer()\n",
    "text_encoded = tok.encode(sample_text[0])\n",
    "text_encoded"
   ]
  },
  {
   "cell_type": "markdown",
   "id": "d0f27f46",
   "metadata": {},
   "source": [
    "Now, let's implement a decoder that takes in a list of integer IDs and returns the corresponding input text."
   ]
  },
  {
   "cell_type": "code",
   "execution_count": 36,
   "id": "bd521239",
   "metadata": {},
   "outputs": [],
   "source": [
    "class Tokenizer():\n",
    "    def __init__(self):\n",
    "        pass\n",
    "\n",
    "    def encode(self, s: str):\n",
    "        self.vocab = ' '.join(sample_text).split()\n",
    "        self.stoi = {s:i for i, s in enumerate(self.vocab)}\n",
    "        self.itos = {i:s for i, s in enumerate(self.vocab)}\n",
    "        encoded_str = [stoi[x] for x in sample_text[0].split()]\n",
    "        return encoded_str\n",
    "\n",
    "    def decode(self, indices: list[str]):\n",
    "        decoded_str = [itos[i] for i in indices]\n",
    "        decoded_str = ' '.join(decoded_str) \n",
    "        return decoded_str\n"
   ]
  },
  {
   "cell_type": "code",
   "execution_count": 37,
   "id": "04bb4b39",
   "metadata": {},
   "outputs": [
    {
     "name": "stdout",
     "output_type": "stream",
     "text": [
      "The quick brown fox jumps over the lazy dog.\n",
      "[2, 9, 34, 13, 49, 0, 57, 5, 10]\n"
     ]
    }
   ],
   "source": [
    "tok = Tokenizer()\n",
    "text_encoded = tok.encode(sample_text[0])\n",
    "\n",
    "print(sample_text[0])\n",
    "print(text_encoded)"
   ]
  },
  {
   "cell_type": "code",
   "execution_count": 38,
   "id": "ff3f02c4",
   "metadata": {},
   "outputs": [
    {
     "data": {
      "text/plain": [
       "'The quick brown fox jumps over the lazy dog.'"
      ]
     },
     "execution_count": 38,
     "metadata": {},
     "output_type": "execute_result"
    }
   ],
   "source": [
    "tok.decode(text_encoded)"
   ]
  },
  {
   "cell_type": "markdown",
   "id": "977736be",
   "metadata": {},
   "source": [
    "While this works well, the vocab is created in runtime which is not desirable. The vocab should be create ahead of time so that any token can be encoded / decoded consistently. That means, we should create the vocab during initialization!"
   ]
  },
  {
   "cell_type": "code",
   "execution_count": 49,
   "id": "965d60ff",
   "metadata": {},
   "outputs": [],
   "source": [
    "class TokenizerV2():\n",
    "    def __init__(self, text_corpus: list[str]):\n",
    "        self.text_corpus = text_corpus\n",
    "        self.vocab = set(' '.join(sample_text).split())\n",
    "        self.vocab_size = len(self.vocab)\n",
    "        self.stoi = {s:i for i, s in enumerate(self.vocab)}\n",
    "        self.itos = {i:s for i, s in enumerate(self.vocab)}\n",
    "\n",
    "    def encode(self, text: str):\n",
    "        encoded_str = [stoi[x] for x in text.split()]\n",
    "        return encoded_str\n",
    "\n",
    "    def decode(self, indices: list[int]):\n",
    "        decoded_str = [itos[i] for i in indices]\n",
    "        decoded_str = ' '.join(decoded_str) \n",
    "        return decoded_str\n"
   ]
  },
  {
   "cell_type": "code",
   "execution_count": 51,
   "id": "385e5379",
   "metadata": {},
   "outputs": [
    {
     "data": {
      "text/plain": [
       "[2, 9, 34, 13, 49, 0, 57, 5, 10]"
      ]
     },
     "execution_count": 51,
     "metadata": {},
     "output_type": "execute_result"
    }
   ],
   "source": [
    "tok = TokenizerV2(sample_text)\n",
    "tok.encode(sample_text[0])"
   ]
  },
  {
   "cell_type": "code",
   "execution_count": 52,
   "id": "cd9cfd20",
   "metadata": {},
   "outputs": [
    {
     "data": {
      "text/plain": [
       "'The quick brown fox jumps over the lazy dog.'"
      ]
     },
     "execution_count": 52,
     "metadata": {},
     "output_type": "execute_result"
    }
   ],
   "source": [
    "tok.decode([2, 9, 34, 13, 49, 0, 57, 5, 10])"
   ]
  },
  {
   "cell_type": "code",
   "execution_count": 55,
   "id": "4b7e5cce",
   "metadata": {},
   "outputs": [
    {
     "data": {
      "text/plain": [
       "[[2, 9, 34, 13, 49, 0, 57, 5, 10],\n",
       " [44, 51, 52, 23, 57, 3],\n",
       " [36, 52, 39, 40, 26, 56],\n",
       " [20, 58, 32, 45, 19, 42, 24, 29],\n",
       " [31, 41, 60, 11, 45, 8, 17],\n",
       " [53, 58, 33, 48, 50, 4, 54, 29],\n",
       " [1, 15, 59, 46, 43, 57, 61, 27],\n",
       " [35, 18, 55, 38, 28, 6, 14],\n",
       " [22, 47, 21, 41, 30],\n",
       " [12, 25, 16, 7, 37]]"
      ]
     },
     "execution_count": 55,
     "metadata": {},
     "output_type": "execute_result"
    }
   ],
   "source": [
    "indices = [tok.encode(s) for s in sample_text]\n",
    "indices"
   ]
  },
  {
   "cell_type": "code",
   "execution_count": 56,
   "id": "16eeb2e5",
   "metadata": {},
   "outputs": [
    {
     "data": {
      "text/plain": [
       "['The quick brown fox jumps over the lazy dog.',\n",
       " 'Artificial intelligence is transforming the world.',\n",
       " 'Python is a popular programming language.',\n",
       " 'Machine learning enables computers to learn from data.',\n",
       " 'Natural language processing helps computers understand text.',\n",
       " 'Deep learning models require large amounts of data.',\n",
       " 'Neural networks are inspired by the human brain.',\n",
       " 'Data science combines statistics and computer science.',\n",
       " 'Transformers have revolutionized language modeling.',\n",
       " 'Open source software encourages collaboration.']"
      ]
     },
     "execution_count": 56,
     "metadata": {},
     "output_type": "execute_result"
    }
   ],
   "source": [
    "[tok.decode(i) for i in indices]"
   ]
  },
  {
   "cell_type": "code",
   "execution_count": 57,
   "id": "b5a23515",
   "metadata": {},
   "outputs": [
    {
     "data": {
      "text/plain": [
       "['The quick brown fox jumps over the lazy dog.',\n",
       " 'Artificial intelligence is transforming the world.',\n",
       " 'Python is a popular programming language.',\n",
       " 'Machine learning enables computers to learn from data.',\n",
       " 'Natural language processing helps computers understand text.',\n",
       " 'Deep learning models require large amounts of data.',\n",
       " 'Neural networks are inspired by the human brain.',\n",
       " 'Data science combines statistics and computer science.',\n",
       " 'Transformers have revolutionized language modeling.',\n",
       " 'Open source software encourages collaboration.']"
      ]
     },
     "execution_count": 57,
     "metadata": {},
     "output_type": "execute_result"
    }
   ],
   "source": [
    "sample_text"
   ]
  },
  {
   "cell_type": "markdown",
   "id": "7013cf4a",
   "metadata": {},
   "source": [
    "We are now able to convert text to integers and back. That's good. Let's try a new sentence with new words."
   ]
  },
  {
   "cell_type": "code",
   "execution_count": 58,
   "id": "360dfb61",
   "metadata": {},
   "outputs": [
    {
     "ename": "KeyError",
     "evalue": "'Satya'",
     "output_type": "error",
     "traceback": [
      "\u001b[31m---------------------------------------------------------------------------\u001b[39m",
      "\u001b[31mKeyError\u001b[39m                                  Traceback (most recent call last)",
      "\u001b[36mCell\u001b[39m\u001b[36m \u001b[39m\u001b[32mIn[58]\u001b[39m\u001b[32m, line 1\u001b[39m\n\u001b[32m----> \u001b[39m\u001b[32m1\u001b[39m \u001b[43mtok\u001b[49m\u001b[43m.\u001b[49m\u001b[43mencode\u001b[49m\u001b[43m(\u001b[49m\u001b[33;43m\"\u001b[39;49m\u001b[33;43mSatya Nadella leads Microsoft\u001b[39;49m\u001b[33;43m\"\u001b[39;49m\u001b[43m)\u001b[49m\n",
      "\u001b[36mCell\u001b[39m\u001b[36m \u001b[39m\u001b[32mIn[49]\u001b[39m\u001b[32m, line 10\u001b[39m, in \u001b[36mTokenizerV2.encode\u001b[39m\u001b[34m(self, text)\u001b[39m\n\u001b[32m      9\u001b[39m \u001b[38;5;28;01mdef\u001b[39;00m\u001b[38;5;250m \u001b[39m\u001b[34mencode\u001b[39m(\u001b[38;5;28mself\u001b[39m, text: \u001b[38;5;28mstr\u001b[39m):\n\u001b[32m---> \u001b[39m\u001b[32m10\u001b[39m     encoded_str = [\u001b[43mstoi\u001b[49m\u001b[43m[\u001b[49m\u001b[43mx\u001b[49m\u001b[43m]\u001b[49m \u001b[38;5;28;01mfor\u001b[39;00m x \u001b[38;5;129;01min\u001b[39;00m text.split()]\n\u001b[32m     11\u001b[39m     \u001b[38;5;28;01mreturn\u001b[39;00m encoded_str\n",
      "\u001b[31mKeyError\u001b[39m: 'Satya'"
     ]
    }
   ],
   "source": [
    "tok.encode(\"Satya Nadella leads Microsoft\")"
   ]
  },
  {
   "cell_type": "markdown",
   "id": "0a4b26d4",
   "metadata": {},
   "source": [
    "As the word Satya is absent in the vocab, we see this error. This is common in real-world where a lot of new tokens can appear in the wild.\n",
    "\n",
    "We can add an unknown token during the vocab creation or use the more advanced BPE tokenizer which handles these situations quite well."
   ]
  },
  {
   "cell_type": "code",
   "execution_count": 68,
   "id": "18a36951",
   "metadata": {},
   "outputs": [
    {
     "data": {
      "text/plain": [
       "{1, 2, 4, 15}"
      ]
     },
     "execution_count": 68,
     "metadata": {},
     "output_type": "execute_result"
    }
   ],
   "source": [
    "a = set([1,2,4])\n",
    "a.add(15)\n",
    "a"
   ]
  },
  {
   "cell_type": "code",
   "execution_count": 108,
   "id": "22ad5676",
   "metadata": {},
   "outputs": [],
   "source": [
    "class TokenizerV3():\n",
    "    def __init__(self, text_corpus: list[str]):\n",
    "        self.text_corpus = text_corpus\n",
    "        self.vocab = ' '.join(sample_text).split()\n",
    "        self.vocab = set(sorted(self.vocab))\n",
    "        self.vocab.add(\"<UNK>\")\n",
    "        self.vocab_size = len(self.vocab)\n",
    "        self.stoi = {s:i for i, s in enumerate(self.vocab)}\n",
    "        self.itos = {i:s for i, s in enumerate(self.vocab)}\n",
    "\n",
    "    def encode(self, text: str):\n",
    "        encoded_str = [stoi.get(x, self.stoi['<UNK>']) for x in text.split()]\n",
    "        return encoded_str\n",
    "\n",
    "    def decode(self, indices: list[int]):\n",
    "        decoded_str = [self.itos.get(i) for i in indices]\n",
    "        decoded_str = ' '.join(decoded_str) \n",
    "        return decoded_str\n"
   ]
  },
  {
   "cell_type": "code",
   "execution_count": 109,
   "id": "abc7d2d7",
   "metadata": {},
   "outputs": [
    {
     "data": {
      "text/plain": [
       "[2, 9, 34, 13, 49, 0, 57, 5, 10]"
      ]
     },
     "execution_count": 109,
     "metadata": {},
     "output_type": "execute_result"
    }
   ],
   "source": [
    "tok = TokenizerV3(sample_text)\n",
    "tok.encode(sample_text[0])"
   ]
  },
  {
   "cell_type": "code",
   "execution_count": 110,
   "id": "cd1293ff",
   "metadata": {},
   "outputs": [
    {
     "name": "stdout",
     "output_type": "stream",
     "text": [
      "[2, 17, 8, 57, 17]\n",
      "The <UNK> understand language. <UNK>\n"
     ]
    }
   ],
   "source": [
    "print(tok.encode(\"The bird understand the dog\"))\n",
    "print(tok.decode(tok.encode(\"The bird understand the dog\")))"
   ]
  },
  {
   "cell_type": "markdown",
   "id": "5056a8b6",
   "metadata": {},
   "source": [
    "This is one way of handling unknown or special tokens. Now, we will build a BPE tokenizer which is a much better alternative for the following reasons:\n",
    "    1. Handle out of vocabulary tokens (and language nuances such as singulars and plurals effectively).\n",
    "\n",
    "This tokenizer breaks down words to subwords which are common in a language and this is shown to be more effective for language modeling tasks."
   ]
  },
  {
   "cell_type": "markdown",
   "id": "1b6139c6",
   "metadata": {},
   "source": [
    "# BPE Tokenizer"
   ]
  },
  {
   "cell_type": "markdown",
   "id": "36706aa7",
   "metadata": {},
   "source": [
    "TODO"
   ]
  },
  {
   "cell_type": "code",
   "execution_count": null,
   "id": "fb2933f8",
   "metadata": {},
   "outputs": [],
   "source": []
  }
 ],
 "metadata": {
  "kernelspec": {
   "display_name": "learn-env",
   "language": "python",
   "name": "python3"
  },
  "language_info": {
   "codemirror_mode": {
    "name": "ipython",
    "version": 3
   },
   "file_extension": ".py",
   "mimetype": "text/x-python",
   "name": "python",
   "nbconvert_exporter": "python",
   "pygments_lexer": "ipython3",
   "version": "3.12.5"
  }
 },
 "nbformat": 4,
 "nbformat_minor": 5
}
