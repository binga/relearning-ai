{
 "cells": [
  {
   "cell_type": "markdown",
   "id": "312caa2e",
   "metadata": {},
   "source": [
    "# CS336 Assignments\n",
    "\n",
    "| # | Topic                         | Description                                 |\n",
    "|---|-------------------------------|---------------------------------------------|\n",
    "| 1 | Basics                        | Train an LLM from scratch                   |\n",
    "| 2 | Systems                       | Make it run fast!                           |\n",
    "| 3 | Scaling                       | Make it performant at a FLOP budget         |\n",
    "| 4 | Data                          | Prepare the right datasets                  |\n",
    "| 5 | Alignment & Reasoning RL      | Align it to real-world use cases            |"
   ]
  },
  {
   "cell_type": "markdown",
   "id": "4788fc7b",
   "metadata": {},
   "source": [
    "# Assignment #1\n",
    "- Implement all of the components (tokenizer, model, loss function, optimizer) necessary to train a standard Transformer language model\n",
    "- Train a minimal language model"
   ]
  },
  {
   "cell_type": "code",
   "execution_count": 1,
   "id": "ac5eb179",
   "metadata": {},
   "outputs": [],
   "source": [
    "import warnings\n",
    "warnings.filterwarnings(\"ignore\")\n",
    "\n",
    "from datasets import load_dataset\n",
    "import tiktoken\n",
    "import torch\n",
    "import lovely_tensors as lt\n",
    "lt.monkey_patch()\n"
   ]
  },
  {
   "cell_type": "code",
   "execution_count": 2,
   "id": "5564de0e",
   "metadata": {},
   "outputs": [
    {
     "data": {
      "text/plain": [
       "DatasetDict({\n",
       "    train: Dataset({\n",
       "        features: ['text'],\n",
       "        num_rows: 2119719\n",
       "    })\n",
       "    validation: Dataset({\n",
       "        features: ['text'],\n",
       "        num_rows: 21990\n",
       "    })\n",
       "})"
      ]
     },
     "execution_count": 2,
     "metadata": {},
     "output_type": "execute_result"
    }
   ],
   "source": [
    "tinystories = load_dataset(\"roneneldan/TinyStories\")\n",
    "tinystories"
   ]
  },
  {
   "cell_type": "code",
   "execution_count": 3,
   "id": "b3600cf0",
   "metadata": {},
   "outputs": [
    {
     "data": {
      "text/plain": [
       "{'text': ['One day, a little girl named Lily found a needle in her room. She knew it was difficult to play with it because it was sharp. Lily wanted to share the needle with her mom, so she could sew a button on her shirt.\\n\\nLily went to her mom and said, \"Mom, I found this needle. Can you share it with me and sew my shirt?\" Her mom smiled and said, \"Yes, Lily, we can share the needle and fix your shirt.\"\\n\\nTogether, they shared the needle and sewed the button on Lily\\'s shirt. It was not difficult for them because they were sharing and helping each other. After they finished, Lily thanked her mom for sharing the needle and fixing her shirt. They both felt happy because they had shared and worked together.',\n",
       "  'Once upon a time, there was a little car named Beep. Beep loved to go fast and play in the sun. Beep was a healthy car because he always had good fuel. Good fuel made Beep happy and strong.\\n\\nOne day, Beep was driving in the park when he saw a big tree. The tree had many leaves that were falling. Beep liked how the leaves fall and wanted to play with them. Beep drove under the tree and watched the leaves fall on him. He laughed and beeped his horn.\\n\\nBeep played with the falling leaves all day. When it was time to go home, Beep knew he needed more fuel. He went to the fuel place and got more healthy fuel. Now, Beep was ready to go fast and play again the next day. And Beep lived happily ever after.',\n",
       "  'One day, a little fish named Fin was swimming near the shore. He saw a big crab and wanted to be friends. \"Hi, I am Fin. Do you want to play?\" asked the little fish. The crab looked at Fin and said, \"No, I don\\'t want to play. I am cold and I don\\'t feel fine.\"\\n\\nFin felt sad but wanted to help the crab feel better. He swam away and thought of a plan. He remembered that the sun could make things warm. So, Fin swam to the top of the water and called to the sun, \"Please, sun, help my new friend feel fine and not freeze!\"\\n\\nThe sun heard Fin\\'s call and shone its warm light on the shore. The crab started to feel better and not so cold. He saw Fin and said, \"Thank you, little fish, for making me feel fine. I don\\'t feel like I will freeze now. Let\\'s play together!\" And so, Fin and the crab played and became good friends.',\n",
       "  'Once upon a time, in a land full of trees, there was a little cherry tree. The cherry tree was very sad because it did not have any friends. All the other trees were big and strong, but the cherry tree was small and weak. The cherry tree was envious of the big trees.\\n\\nOne day, the cherry tree felt a tickle in its branches. It was a little spring wind. The wind told the cherry tree not to be sad. The wind said, \"You are special because you have sweet cherries that everyone loves.\" The cherry tree started to feel a little better.\\n\\nAs time went on, the cherry tree grew more and more cherries. All the animals in the land came to eat the cherries and play under the cherry tree. The cherry tree was happy because it had many friends now. The cherry tree learned that being different can be a good thing. And they all lived happily ever after.',\n",
       "  'Once upon a time, there was a little girl named Lily. Lily liked to pretend she was a popular princess. She lived in a big castle with her best friends, a cat and a dog.\\n\\nOne day, while playing in the castle, Lily found a big cobweb. The cobweb was in the way of her fun game. She wanted to get rid of it, but she was scared of the spider that lived there.\\n\\nLily asked her friends, the cat and the dog, to help her. They all worked together to clean the cobweb. The spider was sad, but it found a new home outside. Lily, the cat, and the dog were happy they could play without the cobweb in the way. And they all lived happily ever after.',\n",
       "  'Once upon a time, in a big lake, there was a brown kayak. The brown kayak liked to roll in the water all day long. It was very happy when it could roll and splash in the lake.\\n\\nOne day, a little boy named Tim came to play with the brown kayak. Tim and the brown kayak rolled in the water together. They laughed and had a lot of fun. The sun was shining, and the water was warm.\\n\\nAfter a while, it was time for Tim to go home. He said goodbye to the brown kayak and gave it a big hug. The brown kayak was sad to see Tim go, but it knew they would play together again soon. So, the brown kayak kept rolling in the water, waiting for the next fun day with Tim.',\n",
       "  'Once upon a time, in a small town, there was a troubled little girl named Lily. She was always sad because she lost her favorite toy, a triangle. She looked everywhere in her house but could not find it.\\n\\nOne sunny day, Lily went to the park to play. She saw a big puddle of water and thought her triangle might be there. She put her hand in the water to soak it and looked for her toy. She felt something at the bottom of the puddle.\\n\\nLily pulled it out and saw that it was her triangle! She was so happy that she found it. From that day on, Lily was never troubled again. She played with her triangle every day and always kept it close to her. And when she saw puddles, she would smile and remember how she found her toy.',\n",
       "  'Once upon a time, in a peaceful town, there lived a little boy named Tim. Tim loved to run and play outside. One day, Tim saw a race in the park. He was excited and wanted to join the race.\\n\\nTim went to his friend, Sarah, and said, \"Let\\'s start the race!\" Sarah smiled and said, \"Yes, let\\'s go!\" They lined up with the other kids and waited for the race to begin. When they heard the word \"Go!\", they started running as fast as they could.\\n\\nTim and Sarah ran with all their speed, laughing and having fun. They could feel the wind in their hair as they raced to the finish line. In the end, Tim won the race and Sarah came in second. They were both so happy and proud of themselves. They celebrated with their friends and had a great day at the park.',\n",
       "  'Once upon a time, there was a clever little dog named Max. Max loved to run and play with his friends in the park. One day, Max was running very fast when he fell and hurt his knee.\\n\\nMax went to his friend, the wise old owl, and said, \"Owl, my knee hurts. What can I do?\" The owl thought for a moment and said, \"Max, you should test your knee. Try to walk slowly and see if it still hurts.\"\\n\\nSo Max tested his knee by walking slowly. At first, it hurt a little, but soon Max felt better. He said, \"Thank you, Owl, for your help. Now I can play with my friends again.\"\\n\\nMax was so happy that he could play with his friends without pain. He learned that sometimes, it was good to slow down and listen to his body. And Max and his friends played happily in the park ever after.',\n",
       "  'One day, a fast driver named Tim went for a ride in his loud car. He loved to speed down the street and feel the wind in his hair. As he drove, he saw his friend, Sam, standing by the road.\\n\\n\"Hi, Sam!\" Tim called out. \"Do you want to go for a ride?\"\\n\\n\"Yes, please!\" Sam said, and he got in the car. They drove around the town, going fast and having fun. The car was very loud, and everyone could hear them coming.\\n\\nAt last, they stopped at the park to play. They ran and laughed until it was time to go home. Tim and Sam had a great day together, speeding in the loud car and playing in the park.']}"
      ]
     },
     "execution_count": 3,
     "metadata": {},
     "output_type": "execute_result"
    }
   ],
   "source": [
    "tinystories['train'][0:10]"
   ]
  },
  {
   "cell_type": "markdown",
   "id": "f4207a2b",
   "metadata": {},
   "source": [
    "# BPE Tokenizer"
   ]
  },
  {
   "cell_type": "code",
   "execution_count": 4,
   "id": "2db9bf55",
   "metadata": {},
   "outputs": [],
   "source": [
    "sample_text = [\n",
    "    \"The quick brown fox jumps over the lazy dog.\",\n",
    "    \"Artificial intelligence is transforming the world.\",\n",
    "    \"Python is a popular programming language.\",\n",
    "    \"Machine learning enables computers to learn from data.\",\n",
    "    \"Natural language processing helps computers understand text.\",\n",
    "    \"Deep learning models require large amounts of data.\",\n",
    "    \"Neural networks are inspired by the human brain.\",\n",
    "    \"Data science combines statistics and computer science.\",\n",
    "    \"Transformers have revolutionized language modeling.\",\n",
    "    \"Open source software encourages collaboration.\"\n",
    "]"
   ]
  },
  {
   "cell_type": "code",
   "execution_count": 5,
   "id": "c4e21482",
   "metadata": {},
   "outputs": [
    {
     "data": {
      "text/plain": [
       "<Encoding 'gpt2'>"
      ]
     },
     "execution_count": 5,
     "metadata": {},
     "output_type": "execute_result"
    }
   ],
   "source": [
    "import tiktoken\n",
    "\n",
    "ttok = tiktoken.get_encoding(\"gpt2\")\n",
    "ttok"
   ]
  },
  {
   "cell_type": "code",
   "execution_count": 6,
   "id": "94a2c85c",
   "metadata": {},
   "outputs": [
    {
     "name": "stdout",
     "output_type": "stream",
     "text": [
      "original  : Hey! I am doing well.. I hope you're well too! \n",
      "encoded   : [10814, 0, 314, 716, 1804, 880, 492, 314, 2911, 345, 821, 880, 1165, 0, 220]\n",
      "decoded   : Hey! I am doing well.. I hope you're well too! \n"
     ]
    }
   ],
   "source": [
    "sentence = \"Hey! I am doing well.. I hope you're well too! \"\n",
    "print(f\"original  : {sentence}\")\n",
    "\n",
    "sentence_encoded = ttok.encode(sentence)\n",
    "print(f\"encoded   : {sentence_encoded}\")\n",
    "\n",
    "sentence_decoded = ttok.decode(sentence_encoded)\n",
    "print(f\"decoded   : {sentence_decoded}\")\n"
   ]
  },
  {
   "cell_type": "markdown",
   "id": "e8b1368c",
   "metadata": {},
   "source": [
    "To code up a transformer model, let's take it step by step.\n",
    "1. Code a simplified self-attention model without trainable weights\n",
    "2. Code a simplified self-attention model with trainable weights\n",
    "3. Modify #2 with causal attention\n",
    "4. Extend #3 to multiple heads"
   ]
  },
  {
   "cell_type": "markdown",
   "id": "9f6c8297",
   "metadata": {},
   "source": [
    "## Code a simplified self-attention model without trainable weights"
   ]
  },
  {
   "cell_type": "code",
   "execution_count": 7,
   "id": "d3364f4c",
   "metadata": {},
   "outputs": [
    {
     "data": {
      "text/plain": [
       "[7120, 7002, 4940, 351, 530, 2239]"
      ]
     },
     "execution_count": 7,
     "metadata": {},
     "output_type": "execute_result"
    }
   ],
   "source": [
    "sample_sentence = \"Your journey starts with one step\"\n",
    "sample_sentence\n",
    "\n",
    "sample_sentence_tokens = ttok.encode(sample_sentence)\n",
    "sample_sentence_tokens"
   ]
  },
  {
   "cell_type": "markdown",
   "id": "cb2e6986",
   "metadata": {},
   "source": [
    "For illustration purpose, let's create a small embedding matrix for each of these tokens.)"
   ]
  },
  {
   "cell_type": "code",
   "execution_count": 8,
   "id": "83bdbdc1",
   "metadata": {},
   "outputs": [
    {
     "data": {
      "text/plain": [
       "tensor[6, 3] n=18 x∈[0.050, 0.890] μ=0.514 σ=0.276\n",
       "tensor([[0.4300, 0.1500, 0.8900],\n",
       "        [0.5500, 0.8700, 0.6600],\n",
       "        [0.5700, 0.8500, 0.6400],\n",
       "        [0.2200, 0.5800, 0.3300],\n",
       "        [0.7700, 0.2500, 0.1000],\n",
       "        [0.0500, 0.8000, 0.5500]])"
      ]
     },
     "execution_count": 8,
     "metadata": {},
     "output_type": "execute_result"
    }
   ],
   "source": [
    "emb_matrix = torch.tensor(\n",
    "    [\n",
    "        [0.43, 0.15, 0.89],\n",
    "        [0.55, 0.87, 0.66],\n",
    "        [0.57, 0.85, 0.64],\n",
    "        [0.22, 0.58, 0.33],\n",
    "        [0.77, 0.25, 0.10],\n",
    "        [0.05, 0.80, 0.55]     \n",
    "     ]\n",
    ")\n",
    "emb_matrix.v"
   ]
  },
  {
   "cell_type": "markdown",
   "id": "ef7a535c",
   "metadata": {},
   "source": [
    "To calculate self attention, we compute the similarity of each token in a sentence to itself. That means, we take dot products (cosine similarity) of the each embedding vector to all the other embedding vectors in the same sentence."
   ]
  },
  {
   "cell_type": "markdown",
   "id": "070c1a9f",
   "metadata": {},
   "source": [
    "### Computing context vectors for one input token"
   ]
  },
  {
   "cell_type": "code",
   "execution_count": 9,
   "id": "30092e10",
   "metadata": {},
   "outputs": [
    {
     "data": {
      "text/plain": [
       "tensor[6] x∈[0.707, 1.495] μ=1.094 σ=0.328 [0.954, 1.495, 1.475, 0.843, 0.707, 1.087]"
      ]
     },
     "execution_count": 9,
     "metadata": {},
     "output_type": "execute_result"
    }
   ],
   "source": [
    "# Here, I am computing the attention between the second token (emb_matrix[1]) with all other input tokens\n",
    "attn_scores = torch.zeros(len(sample_sentence_tokens))\n",
    "for t, inp in enumerate(emb_matrix):\n",
    "    attn_scores[t] = torch.dot(emb_matrix[1], inp)\n",
    "\n",
    "attn_scores"
   ]
  },
  {
   "cell_type": "markdown",
   "id": "7eaba39b",
   "metadata": {},
   "source": [
    " "
   ]
  },
  {
   "cell_type": "markdown",
   "id": "0c3f394a",
   "metadata": {},
   "source": [
    "We then normalize the attention scores so that they sum upto 1 for good mathematical properties."
   ]
  },
  {
   "cell_type": "code",
   "execution_count": 10,
   "id": "7ecdddc1",
   "metadata": {},
   "outputs": [
    {
     "data": {
      "text/plain": [
       "tensor[6] x∈[0.108, 0.228] μ=0.167 σ=0.050 [0.145, 0.228, 0.225, 0.129, 0.108, 0.166]"
      ]
     },
     "execution_count": 10,
     "metadata": {},
     "output_type": "execute_result"
    }
   ],
   "source": [
    "# Here, I am computing the attention between the second token (emb_matrix[1]) with all other input tokens\n",
    "attn_scores = torch.zeros(len(sample_sentence_tokens))\n",
    "for t, inp in enumerate(emb_matrix):\n",
    "    attn_scores[t] = torch.dot(emb_matrix[1], inp)\n",
    "\n",
    "attn_scores = attn_scores / attn_scores.sum()\n",
    "attn_scores"
   ]
  },
  {
   "cell_type": "markdown",
   "id": "9544140e",
   "metadata": {},
   "source": [
    "In practice, the softmax based normalization is preferred for numerical stability."
   ]
  },
  {
   "cell_type": "code",
   "execution_count": 11,
   "id": "201dbb95",
   "metadata": {},
   "outputs": [],
   "source": [
    "def softmax_naive(x):\n",
    "    return torch.exp(x) / torch.exp(x).sum(dim=0)"
   ]
  },
  {
   "cell_type": "code",
   "execution_count": 12,
   "id": "9af501a2",
   "metadata": {},
   "outputs": [
    {
     "data": {
      "text/plain": [
       "tensor[6] x∈[0.108, 0.238] μ=0.167 σ=0.056 [0.139, 0.238, 0.233, 0.124, 0.108, 0.158]"
      ]
     },
     "execution_count": 12,
     "metadata": {},
     "output_type": "execute_result"
    }
   ],
   "source": [
    "# Here, I am computing the attention between the second token (emb_matrix[1]) with all other input tokens\n",
    "attn_scores = torch.zeros(len(sample_sentence_tokens))\n",
    "for t, inp in enumerate(emb_matrix):\n",
    "    attn_scores[t] = torch.dot(emb_matrix[1], inp)\n",
    "\n",
    "attn_weights = softmax_naive(attn_scores)\n",
    "attn_weights"
   ]
  },
  {
   "cell_type": "markdown",
   "id": "599465f6",
   "metadata": {},
   "source": [
    "Even if we use the `torch.softmax` function, we see that we get the same result."
   ]
  },
  {
   "cell_type": "code",
   "execution_count": 13,
   "id": "84176875",
   "metadata": {},
   "outputs": [
    {
     "data": {
      "text/plain": [
       "tensor[6] x∈[0.108, 0.238] μ=0.167 σ=0.056 [0.139, 0.238, 0.233, 0.124, 0.108, 0.158]"
      ]
     },
     "execution_count": 13,
     "metadata": {},
     "output_type": "execute_result"
    }
   ],
   "source": [
    "# Here, I am computing the attention between the second token (emb_matrix[1]) with all other input tokens\n",
    "attn_scores = torch.zeros(len(sample_sentence_tokens))\n",
    "for t, inp in enumerate(emb_matrix):\n",
    "    attn_scores[t] = torch.dot(emb_matrix[1], inp)\n",
    "\n",
    "attn_weights = torch.softmax(attn_scores, dim=0)\n",
    "attn_weights"
   ]
  },
  {
   "cell_type": "code",
   "execution_count": 14,
   "id": "7c227d56",
   "metadata": {},
   "outputs": [
    {
     "data": {
      "text/plain": [
       "tensor[6] x∈[0.111, 0.237] μ=0.167 σ=0.055 [0.139, 0.237, 0.233, 0.124, 0.111, 0.156]"
      ]
     },
     "execution_count": 14,
     "metadata": {},
     "output_type": "execute_result"
    }
   ],
   "source": [
    "# Here, I am computing the attention between the second token (emb_matrix[1]) with all other input tokens\n",
    "attn_scores = torch.zeros(len(sample_sentence_tokens))\n",
    "for t, inp in enumerate(emb_matrix):\n",
    "    attn_scores[t] = torch.dot(emb_matrix[2], inp)\n",
    "\n",
    "attn_weights = softmax_naive(attn_scores)\n",
    "attn_weights"
   ]
  },
  {
   "cell_type": "markdown",
   "id": "620b2be0",
   "metadata": {},
   "source": [
    "We can obtain the context vector by multiplying these attention scores with each embedding."
   ]
  },
  {
   "cell_type": "code",
   "execution_count": 15,
   "id": "bbdb4269",
   "metadata": {},
   "outputs": [
    {
     "data": {
      "text/plain": [
       "tensor[3] x∈[0.443, 0.650] μ=0.553 σ=0.104 [0.443, 0.650, 0.567]"
      ]
     },
     "execution_count": 15,
     "metadata": {},
     "output_type": "execute_result"
    }
   ],
   "source": [
    "context_vec = torch.zeros(emb_matrix.shape[1])\n",
    "for t, inp in enumerate(emb_matrix):\n",
    "    context_vec += attn_weights[t] * inp\n",
    "\n",
    "context_vec"
   ]
  },
  {
   "cell_type": "markdown",
   "id": "a7858891",
   "metadata": {},
   "source": [
    "We now found the context vector when the 2nd token in our sentence attended to all the tokens in the sentence. To identify similar context vectors, we will generalize this process to N context vectors for N tokens in a sentence."
   ]
  },
  {
   "cell_type": "markdown",
   "id": "078cd462",
   "metadata": {},
   "source": [
    "### Computing context vectors for all input tokens"
   ]
  },
  {
   "cell_type": "code",
   "execution_count": 28,
   "id": "9e39d0f3",
   "metadata": {},
   "outputs": [
    {
     "name": "stdout",
     "output_type": "stream",
     "text": [
      "CPU times: user 1.37 ms, sys: 1.31 ms, total: 2.68 ms\n",
      "Wall time: 1.55 ms\n"
     ]
    },
    {
     "data": {
      "text/plain": [
       "tensor[6, 6] n=36 x∈[0.294, 1.495] μ=0.806 σ=0.333\n",
       "tensor([[0.9995, 0.9544, 0.9422, 0.4753, 0.4576, 0.6310],\n",
       "        [0.9544, 1.4950, 1.4754, 0.8434, 0.7070, 1.0865],\n",
       "        [0.9422, 1.4754, 1.4570, 0.8296, 0.7154, 1.0605],\n",
       "        [0.4753, 0.8434, 0.8296, 0.4937, 0.3474, 0.6565],\n",
       "        [0.4576, 0.7070, 0.7154, 0.3474, 0.6654, 0.2935],\n",
       "        [0.6310, 1.0865, 1.0605, 0.6565, 0.2935, 0.9450]])"
      ]
     },
     "execution_count": 28,
     "metadata": {},
     "output_type": "execute_result"
    }
   ],
   "source": [
    "%%time\n",
    "\n",
    "attn_scores = torch.zeros(len(emb_matrix), len(emb_matrix))\n",
    "for i, m1 in enumerate(emb_matrix):\n",
    "    for j, m2 in enumerate(emb_matrix):\n",
    "        attn_scores[i, j] = torch.dot(m1, m2)\n",
    "\n",
    "attn_scores.v"
   ]
  },
  {
   "cell_type": "markdown",
   "id": "7fae9dab",
   "metadata": {},
   "source": [
    "The same operation can be done using matrix math."
   ]
  },
  {
   "cell_type": "code",
   "execution_count": 31,
   "id": "9a0b9bb2",
   "metadata": {},
   "outputs": [
    {
     "name": "stdout",
     "output_type": "stream",
     "text": [
      "CPU times: user 340 μs, sys: 260 μs, total: 600 μs\n",
      "Wall time: 371 μs\n"
     ]
    },
    {
     "data": {
      "text/plain": [
       "tensor[6, 6] n=36 x∈[0.294, 1.495] μ=0.806 σ=0.333\n",
       "tensor([[0.9995, 0.9544, 0.9422, 0.4753, 0.4576, 0.6310],\n",
       "        [0.9544, 1.4950, 1.4754, 0.8434, 0.7070, 1.0865],\n",
       "        [0.9422, 1.4754, 1.4570, 0.8296, 0.7154, 1.0605],\n",
       "        [0.4753, 0.8434, 0.8296, 0.4937, 0.3474, 0.6565],\n",
       "        [0.4576, 0.7070, 0.7154, 0.3474, 0.6654, 0.2935],\n",
       "        [0.6310, 1.0865, 1.0605, 0.6565, 0.2935, 0.9450]])"
      ]
     },
     "execution_count": 31,
     "metadata": {},
     "output_type": "execute_result"
    }
   ],
   "source": [
    "%%time\n",
    "\n",
    "attn_scores = (emb_matrix @ emb_matrix.T)\n",
    "attn_scores.v"
   ]
  },
  {
   "cell_type": "markdown",
   "id": "c7f9ecc4",
   "metadata": {},
   "source": [
    "By replacing for loops with matrix math, we got a 5x speed up in this small matrix multiplication :)"
   ]
  },
  {
   "cell_type": "code",
   "execution_count": 71,
   "id": "c245fddb",
   "metadata": {},
   "outputs": [
    {
     "data": {
      "text/plain": [
       "tensor[6, 6] n=36 x∈[0.099, 0.238] μ=0.167 σ=0.042\n",
       "tensor([[0.2098, 0.2006, 0.1981, 0.1242, 0.1220, 0.1452],\n",
       "        [0.1385, 0.2379, 0.2333, 0.1240, 0.1082, 0.1581],\n",
       "        [0.1390, 0.2369, 0.2326, 0.1242, 0.1108, 0.1565],\n",
       "        [0.1435, 0.2074, 0.2046, 0.1462, 0.1263, 0.1720],\n",
       "        [0.1526, 0.1958, 0.1975, 0.1367, 0.1879, 0.1295],\n",
       "        [0.1385, 0.2184, 0.2128, 0.1420, 0.0988, 0.1896]])"
      ]
     },
     "execution_count": 71,
     "metadata": {},
     "output_type": "execute_result"
    }
   ],
   "source": [
    "def softmax_naive_2d(x):\n",
    "    return torch.exp(x) / torch.exp(x).sum(dim=-1, keepdim=True)\n",
    "attn_weights = softmax_naive_2d(attn_scores)\n",
    "attn_weights.v"
   ]
  },
  {
   "cell_type": "code",
   "execution_count": 72,
   "id": "597314a9",
   "metadata": {},
   "outputs": [
    {
     "data": {
      "text/plain": [
       "tensor 1.000"
      ]
     },
     "execution_count": 72,
     "metadata": {},
     "output_type": "execute_result"
    }
   ],
   "source": [
    "# sanity check\n",
    "attn_weights[1].sum()"
   ]
  },
  {
   "cell_type": "code",
   "execution_count": 77,
   "id": "11f109b7",
   "metadata": {},
   "outputs": [
    {
     "data": {
      "text/plain": [
       "tensor[6, 3] n=18 x∈[0.418, 0.651] μ=0.542 σ=0.082\n",
       "tensor([[0.4421, 0.5931, 0.5790],\n",
       "        [0.4419, 0.6515, 0.5683],\n",
       "        [0.4431, 0.6496, 0.5671],\n",
       "        [0.4304, 0.6298, 0.5510],\n",
       "        [0.4671, 0.5910, 0.5266],\n",
       "        [0.4177, 0.6503, 0.5645]])"
      ]
     },
     "execution_count": 77,
     "metadata": {},
     "output_type": "execute_result"
    }
   ],
   "source": [
    "context_vec = attn_weights @ emb_matrix\n",
    "context_vec.v"
   ]
  },
  {
   "cell_type": "markdown",
   "id": "7be7f902",
   "metadata": {},
   "source": [
    "These are the context vectors of all tokens attended to all other tokens, normalized and weighted by their input tokens.\n",
    "\n",
    "Now that we have seen how to compute a simplified self-attention, let's move to the next section where compute self-attention with trainable weights learned from data."
   ]
  },
  {
   "cell_type": "markdown",
   "id": "bd3d51ac",
   "metadata": {},
   "source": [
    "## Code a simplified self-attention model with trainable weights\n",
    "\n",
    "This self-attention is also called as scaled dot product attention.\n",
    "\n",
    "Instead of directly computing `attn_scores` from the embedding matrix, we want to do a weighted multiplication with input vectors. This helps in identifying \"good context vectors\"."
   ]
  },
  {
   "cell_type": "markdown",
   "id": "ad1fec0c",
   "metadata": {},
   "source": [
    "These weights take the form of matrices we learn from the training data."
   ]
  },
  {
   "cell_type": "code",
   "execution_count": 83,
   "id": "9106a8d8",
   "metadata": {},
   "outputs": [
    {
     "data": {
      "text/plain": [
       "tensor[6, 3] n=18 x∈[0.050, 0.890] μ=0.514 σ=0.276\n",
       "tensor([[0.4300, 0.1500, 0.8900],\n",
       "        [0.5500, 0.8700, 0.6600],\n",
       "        [0.5700, 0.8500, 0.6400],\n",
       "        [0.2200, 0.5800, 0.3300],\n",
       "        [0.7700, 0.2500, 0.1000],\n",
       "        [0.0500, 0.8000, 0.5500]])"
      ]
     },
     "execution_count": 83,
     "metadata": {},
     "output_type": "execute_result"
    }
   ],
   "source": [
    "emb_matrix.v"
   ]
  },
  {
   "cell_type": "code",
   "execution_count": 85,
   "id": "c058fa84",
   "metadata": {},
   "outputs": [
    {
     "data": {
      "text/plain": [
       "tensor[3] x∈[0.550, 0.870] μ=0.693 σ=0.163 [0.550, 0.870, 0.660]\n",
       "tensor([0.5500, 0.8700, 0.6600])"
      ]
     },
     "execution_count": 85,
     "metadata": {},
     "output_type": "execute_result"
    }
   ],
   "source": [
    "x_2 = emb_matrix[1]\n",
    "x_2.v"
   ]
  },
  {
   "cell_type": "code",
   "execution_count": 86,
   "id": "397e8149",
   "metadata": {},
   "outputs": [],
   "source": [
    "d_in = emb_matrix.shape[1]\n",
    "d_out = 2 # output dimension"
   ]
  },
  {
   "cell_type": "code",
   "execution_count": 87,
   "id": "9e72c755",
   "metadata": {},
   "outputs": [],
   "source": [
    "torch.manual_seed(42) # for reproducibility\n",
    "W_query = torch.nn.Parameter(torch.randn(d_in, d_out), requires_grad=False)\n",
    "W_key   = torch.nn.Parameter(torch.randn(d_in, d_out), requires_grad=False)\n",
    "W_value = torch.nn.Parameter(torch.randn(d_in, d_out), requires_grad=False)"
   ]
  },
  {
   "cell_type": "code",
   "execution_count": 89,
   "id": "22799dff",
   "metadata": {},
   "outputs": [
    {
     "data": {
      "text/plain": [
       "Parameter[3, 2] n=6 x∈[-1.123, 0.337] μ=-0.063 σ=0.549 [[0.337, 0.129], [0.234, 0.230], [-1.123, -0.186]]\n",
       "tensor([[ 0.3367,  0.1288],\n",
       "        [ 0.2345,  0.2303],\n",
       "        [-1.1229, -0.1863]])"
      ]
     },
     "execution_count": 89,
     "metadata": {},
     "output_type": "execute_result"
    }
   ],
   "source": [
    "W_query.v"
   ]
  },
  {
   "cell_type": "code",
   "execution_count": 93,
   "id": "6335b9a8",
   "metadata": {},
   "outputs": [
    {
     "data": {
      "text/plain": [
       "tensor[2] μ=-0.102 σ=0.354 [-0.352, 0.148]\n",
       "tensor([-0.3519,  0.1483])"
      ]
     },
     "execution_count": 93,
     "metadata": {},
     "output_type": "execute_result"
    }
   ],
   "source": [
    "query_2 = x_2 @ W_query\n",
    "key_2 = x_2 @ W_key\n",
    "value_2 = x_2 @ W_value\n",
    "\n",
    "query_2.v"
   ]
  },
  {
   "cell_type": "code",
   "execution_count": 98,
   "id": "b41cbe51",
   "metadata": {},
   "outputs": [
    {
     "data": {
      "text/plain": [
       "(tensor[2] μ=-0.102 σ=0.354 [-0.352, 0.148]\n",
       " tensor([-0.3519,  0.1483]),\n",
       " tensor[2] μ=1.193 σ=1.098 [1.969, 0.416]\n",
       " tensor([1.9692, 0.4159]),\n",
       " tensor[2] μ=0.533 σ=0.127 [0.623, 0.443]\n",
       " tensor([0.6229, 0.4434]))"
      ]
     },
     "execution_count": 98,
     "metadata": {},
     "output_type": "execute_result"
    }
   ],
   "source": [
    "query_2.v, key_2.v, value_2.v"
   ]
  },
  {
   "cell_type": "code",
   "execution_count": 101,
   "id": "328a2249",
   "metadata": {},
   "outputs": [
    {
     "data": {
      "text/plain": [
       "tensor[6, 2] n=12 x∈[-0.819, 0.206] μ=-0.110 σ=0.314\n",
       "tensor([[-0.8194, -0.0759],\n",
       "        [-0.3519,  0.1483],\n",
       "        [-0.3274,  0.1500],\n",
       "        [-0.1605,  0.1004],\n",
       "        [ 0.2056,  0.1381],\n",
       "        [-0.4132,  0.0882]])"
      ]
     },
     "execution_count": 101,
     "metadata": {},
     "output_type": "execute_result"
    }
   ],
   "source": [
    "queries = emb_matrix @ W_query\n",
    "keys = emb_matrix @ W_key\n",
    "values = emb_matrix @ W_value\n",
    "\n",
    "queries.v"
   ]
  },
  {
   "cell_type": "code",
   "execution_count": 102,
   "id": "986a421a",
   "metadata": {},
   "outputs": [
    {
     "data": {
      "text/plain": [
       "tensor[6, 6] n=36 x∈[-1.662, 0.463] μ=-0.440 σ=0.534\n",
       "tensor([[-1.2618, -1.6451, -1.6624, -0.7835, -1.5056, -0.6818],\n",
       "        [-0.4540, -0.6313, -0.6450, -0.2855, -0.7087, -0.1794],\n",
       "        [-0.4166, -0.5824, -0.5955, -0.2623, -0.6635, -0.1594],\n",
       "        [-0.1911, -0.2742, -0.2816, -0.1210, -0.3345, -0.0612],\n",
       "        [ 0.3745,  0.4623,  0.4625,  0.2301,  0.3368,  0.2457],\n",
       "        [-0.5747, -0.7769, -0.7900, -0.3594, -0.8026, -0.2644]])"
      ]
     },
     "execution_count": 102,
     "metadata": {},
     "output_type": "execute_result"
    }
   ],
   "source": [
    "attn_scores = queries @ keys.T\n",
    "attn_scores.v"
   ]
  },
  {
   "cell_type": "code",
   "execution_count": 120,
   "id": "d4043568",
   "metadata": {},
   "outputs": [
    {
     "data": {
      "text/plain": [
       "tensor[6, 6] n=36 x∈[0.120, 0.240] μ=0.167 σ=0.027\n",
       "tensor([[0.1596, 0.1217, 0.1202, 0.2238, 0.1343, 0.2405],\n",
       "        [0.1686, 0.1487, 0.1473, 0.1899, 0.1408, 0.2047],\n",
       "        [0.1688, 0.1501, 0.1487, 0.1882, 0.1417, 0.2024],\n",
       "        [0.1686, 0.1590, 0.1581, 0.1772, 0.1523, 0.1848],\n",
       "        [0.1690, 0.1798, 0.1798, 0.1526, 0.1645, 0.1543],\n",
       "        [0.1670, 0.1448, 0.1435, 0.1945, 0.1422, 0.2080]])"
      ]
     },
     "execution_count": 120,
     "metadata": {},
     "output_type": "execute_result"
    }
   ],
   "source": [
    "# For attention weights, instead of naive normalization, we normalize by sqrt(keys dimension size)\n",
    "# We then take a softmax for attention weights\n",
    "# This scaling is the reason why this op is also called scaled-doc product attention\n",
    "\n",
    "attn_weights = softmax_naive_2d(attn_scores / (keys.shape[1] ** 0.5))\n",
    "attn_weights.v"
   ]
  },
  {
   "cell_type": "code",
   "execution_count": 112,
   "id": "0f3a3894",
   "metadata": {},
   "outputs": [
    {
     "data": {
      "text/plain": [
       "tensor[6, 2] n=12 x∈[0.254, 0.618] μ=0.441 σ=0.136\n",
       "tensor([[0.5141, 0.3639],\n",
       "        [0.5633, 0.3251],\n",
       "        [0.5659, 0.3221],\n",
       "        [0.5839, 0.2941],\n",
       "        [0.6180, 0.2539],\n",
       "        [0.5575, 0.3262]])"
      ]
     },
     "execution_count": 112,
     "metadata": {},
     "output_type": "execute_result"
    }
   ],
   "source": [
    "context_vec = attn_weights @ values\n",
    "context_vec.v"
   ]
  },
  {
   "cell_type": "markdown",
   "id": "c1563820",
   "metadata": {},
   "source": [
    "Turning all of this into one single SelfAttention python class"
   ]
  },
  {
   "cell_type": "code",
   "execution_count": 117,
   "id": "4ca807ca",
   "metadata": {},
   "outputs": [
    {
     "data": {
      "text/plain": [
       "tensor[6, 3] n=18 x∈[0.050, 0.890] μ=0.514 σ=0.276\n",
       "tensor([[0.4300, 0.1500, 0.8900],\n",
       "        [0.5500, 0.8700, 0.6600],\n",
       "        [0.5700, 0.8500, 0.6400],\n",
       "        [0.2200, 0.5800, 0.3300],\n",
       "        [0.7700, 0.2500, 0.1000],\n",
       "        [0.0500, 0.8000, 0.5500]])"
      ]
     },
     "execution_count": 117,
     "metadata": {},
     "output_type": "execute_result"
    }
   ],
   "source": [
    "emb_matrix.v"
   ]
  },
  {
   "cell_type": "code",
   "execution_count": 130,
   "id": "e23b9c3e",
   "metadata": {},
   "outputs": [
    {
     "data": {
      "text/plain": [
       "tensor[6, 2] n=12 x∈[0.254, 0.618] μ=0.441 σ=0.136\n",
       "tensor([[0.5141, 0.3639],\n",
       "        [0.5633, 0.3251],\n",
       "        [0.5659, 0.3221],\n",
       "        [0.5839, 0.2941],\n",
       "        [0.6180, 0.2539],\n",
       "        [0.5575, 0.3262]])"
      ]
     },
     "execution_count": 130,
     "metadata": {},
     "output_type": "execute_result"
    }
   ],
   "source": [
    "class SelfAttention(torch.nn.Module):\n",
    "    def __init__(self, d_in, d_out):\n",
    "        super().__init__()\n",
    "        self.W_query = torch.nn.Parameter(torch.randn(d_in, d_out), requires_grad=False)\n",
    "        self.W_key   = torch.nn.Parameter(torch.randn(d_in, d_out), requires_grad=False)\n",
    "        self.W_value = torch.nn.Parameter(torch.randn(d_in, d_out), requires_grad=False)\n",
    "\n",
    "    def forward(self, x):\n",
    "        # x shape: (seq_len, d_in)\n",
    "        queries = x @ self.W_query # queries shape: (seq_len, d_out)\n",
    "        keys = x @ self.W_key # keys shape: (seq_len, d_out)\n",
    "        values = x @ self.W_value # values shape: (seq_len, d_out)\n",
    "\n",
    "        attn_scores = queries @ keys.T # attn_scores shape: (seq_len, seq_len)\n",
    "        attn_weights = softmax_naive_2d(attn_scores / keys.shape[1] ** 0.5) # attn_weights shape: (seq_len, seq_len)\n",
    "        context_vec = attn_weights @ values # context_vec shape: (seq_len, d_out)\n",
    "        return context_vec\n",
    "\n",
    "torch.manual_seed(42)\n",
    "model = SelfAttention(3, 2)\n",
    "context_vec = model(emb_matrix)\n",
    "context_vec.v"
   ]
  },
  {
   "cell_type": "markdown",
   "id": "f6befa8b",
   "metadata": {},
   "source": [
    "### Pytorchification of SelfAttention class"
   ]
  },
  {
   "cell_type": "code",
   "execution_count": 138,
   "id": "55eb6b12",
   "metadata": {},
   "outputs": [
    {
     "data": {
      "text/plain": [
       "tensor[6, 2] n=12 x∈[0.275, 0.377] μ=0.328 σ=0.050 grad MmBackward0\n",
       "tensor([[0.3755, 0.2777],\n",
       "        [0.3761, 0.2831],\n",
       "        [0.3761, 0.2833],\n",
       "        [0.3768, 0.2763],\n",
       "        [0.3754, 0.2836],\n",
       "        [0.3772, 0.2746]], grad_fn=<MmBackward0>)"
      ]
     },
     "execution_count": 138,
     "metadata": {},
     "output_type": "execute_result"
    }
   ],
   "source": [
    "class SelfAttentionV2(torch.nn.Module):\n",
    "    def __init__(self, d_in, d_out, qkv_bias=False):\n",
    "        super().__init__()\n",
    "        self.W_query = torch.nn.Linear(d_in, d_out, bias=qkv_bias)\n",
    "        self.W_key = torch.nn.Linear(d_in, d_out, bias=qkv_bias)\n",
    "        self.W_value = torch.nn.Linear(d_in, d_out, bias=qkv_bias)\n",
    "\n",
    "    def forward(self, x):\n",
    "        # x shape: (seq_len, emb_sz)\n",
    "        queries = self.W_query(x)\n",
    "        keys = self.W_key(x)\n",
    "        values = self.W_value(x)\n",
    "\n",
    "        attn_scores = queries @ keys.T\n",
    "        attn_weights = softmax_naive_2d(attn_scores / d_out ** 0.5)\n",
    "        context_vec = attn_weights @ values\n",
    "        return context_vec\n",
    "\n",
    "torch.manual_seed(42)\n",
    "model = SelfAttentionV2(3, 2)\n",
    "context_vec = model(emb_matrix)\n",
    "context_vec.v"
   ]
  },
  {
   "cell_type": "code",
   "execution_count": null,
   "id": "fb257432",
   "metadata": {},
   "outputs": [],
   "source": []
  }
 ],
 "metadata": {
  "kernelspec": {
   "display_name": "learn-env",
   "language": "python",
   "name": "python3"
  },
  "language_info": {
   "codemirror_mode": {
    "name": "ipython",
    "version": 3
   },
   "file_extension": ".py",
   "mimetype": "text/x-python",
   "name": "python",
   "nbconvert_exporter": "python",
   "pygments_lexer": "ipython3",
   "version": "3.12.5"
  }
 },
 "nbformat": 4,
 "nbformat_minor": 5
}
