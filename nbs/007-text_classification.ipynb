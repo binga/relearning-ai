{
 "cells": [
  {
   "cell_type": "code",
   "execution_count": 7,
   "id": "7008443b",
   "metadata": {},
   "outputs": [],
   "source": [
    "import torch\n",
    "import lovely_tensors as lt\n",
    "lt.monkey_patch()\n",
    "\n",
    "from datasets import load_dataset\n",
    "import warnings\n",
    "warnings.filterwarnings(\"ignore\")"
   ]
  },
  {
   "cell_type": "markdown",
   "id": "fc779db7",
   "metadata": {},
   "source": [
    "## Notebook objectives\n",
    "1. Obtain a standard text dataset from huggingface\n",
    "2. Code up a loss function.\n",
    "3. Bring parity with torch's built-in loss functions."
   ]
  },
  {
   "cell_type": "markdown",
   "id": "07befe98",
   "metadata": {},
   "source": [
    "# Download the dataset"
   ]
  },
  {
   "cell_type": "code",
   "execution_count": 8,
   "id": "55f0e74b",
   "metadata": {},
   "outputs": [
    {
     "name": "stderr",
     "output_type": "stream",
     "text": [
      "Generating train split: 100%|██████████| 43410/43410 [00:00<00:00, 2186558.62 examples/s]\n",
      "Generating validation split: 100%|██████████| 5426/5426 [00:00<00:00, 1404226.17 examples/s]\n",
      "Generating test split: 100%|██████████| 5427/5427 [00:00<00:00, 1765628.90 examples/s]\n"
     ]
    },
    {
     "data": {
      "text/plain": [
       "DatasetDict({\n",
       "    train: Dataset({\n",
       "        features: ['text', 'labels', 'id'],\n",
       "        num_rows: 43410\n",
       "    })\n",
       "    validation: Dataset({\n",
       "        features: ['text', 'labels', 'id'],\n",
       "        num_rows: 5426\n",
       "    })\n",
       "    test: Dataset({\n",
       "        features: ['text', 'labels', 'id'],\n",
       "        num_rows: 5427\n",
       "    })\n",
       "})"
      ]
     },
     "execution_count": 8,
     "metadata": {},
     "output_type": "execute_result"
    }
   ],
   "source": [
    "data_hf = load_dataset(\"google-research-datasets/go_emotions\")\n",
    "data_hf"
   ]
  },
  {
   "cell_type": "code",
   "execution_count": 21,
   "id": "1e02baea",
   "metadata": {},
   "outputs": [
    {
     "name": "stdout",
     "output_type": "stream",
     "text": [
      "28\n",
      "{0: 'admiration', 1: 'amusement', 2: 'anger', 3: 'annoyance', 4: 'approval', 5: 'caring', 6: 'confusion', 7: 'curiosity', 8: 'desire', 9: 'disappointment', 10: 'disapproval', 11: 'disgust', 12: 'embarrassment', 13: 'excitement', 14: 'fear', 15: 'gratitude', 16: 'grief', 17: 'joy', 18: 'love', 19: 'nervousness', 20: 'optimism', 21: 'pride', 22: 'realization', 23: 'relief', 24: 'remorse', 25: 'sadness', 26: 'surprise', 27: 'neutral'}\n"
     ]
    }
   ],
   "source": [
    "labels = data_hf['train'].features['labels'].feature.names\n",
    "print(len(labels))\n",
    "print({i:l for i, l in enumerate(labels)})"
   ]
  },
  {
   "cell_type": "markdown",
   "id": "d673918a",
   "metadata": {},
   "source": [
    "There are approx 43k rows in train set and 5k rows in each of validation set and test set. There are 28 labels in our dataset."
   ]
  },
  {
   "cell_type": "code",
   "execution_count": 20,
   "id": "b8004479",
   "metadata": {},
   "outputs": [
    {
     "data": {
      "application/vnd.microsoft.datawrangler.viewer.v0+json": {
       "columns": [
        {
         "name": "index",
         "rawType": "int64",
         "type": "integer"
        },
        {
         "name": "text",
         "rawType": "object",
         "type": "string"
        },
        {
         "name": "labels",
         "rawType": "object",
         "type": "unknown"
        },
        {
         "name": "id",
         "rawType": "object",
         "type": "string"
        }
       ],
       "ref": "5211c184-fc0e-493c-8f5d-57169db6ad83",
       "rows": [
        [
         "0",
         "My favourite food is anything I didn't have to cook myself.",
         "[27]",
         "eebbqej"
        ],
        [
         "1",
         "Now if he does off himself, everyone will think hes having a laugh screwing with people instead of actually dead",
         "[27]",
         "ed00q6i"
        ],
        [
         "2",
         "WHY THE FUCK IS BAYLESS ISOING",
         "[2]",
         "eezlygj"
        ],
        [
         "3",
         "To make her feel threatened",
         "[14]",
         "ed7ypvh"
        ],
        [
         "4",
         "Dirty Southern Wankers",
         "[3]",
         "ed0bdzj"
        ],
        [
         "5",
         "OmG pEyToN iSn'T gOoD eNoUgH tO hElP uS iN tHe PlAyOfFs! Dumbass Broncos fans circa December 2015.",
         "[26]",
         "edvnz26"
        ],
        [
         "6",
         "Yes I heard abt the f bombs! That has to be why. Thanks for your reply:) until then hubby and I will anxiously wait 😝",
         "[15]",
         "ee3b6wu"
        ],
        [
         "7",
         "We need more boards and to create a bit more space for [NAME]. Then we’ll be good.",
         "[ 8 20]",
         "ef4qmod"
        ],
        [
         "8",
         "Damn youtube and outrage drama is super lucrative for reddit",
         "[0]",
         "ed8wbdn"
        ],
        [
         "9",
         "It might be linked to the trust factor of your friend.",
         "[27]",
         "eczgv1o"
        ],
        [
         "10",
         "Demographics? I don’t know anybody under 35 who has cable tv.",
         "[6]",
         "eel6g5h"
        ],
        [
         "11",
         "Aww... she'll probably come around eventually, I'm sure she was just jealous of [NAME]... I mean, what woman wouldn't be! lol ",
         "[1 4]",
         "edex4ki"
        ],
        [
         "12",
         "Hello everyone. Im from Toronto as well. Can call and visit in personal if needed.",
         "[27]",
         "ef83m1s"
        ],
        [
         "13",
         "R/sleeptrain Might be time for some sleep training. Take a look and try to feel out what's right for your family.",
         "[5]",
         "efh7xnk"
        ],
        [
         "14",
         "[NAME] - same fucking problem, slightly better command of the English language.",
         "[3]",
         "efdqav7"
        ],
        [
         "15",
         "Shit, I guess I accidentally bought a Pay-Per-View boxing match",
         "[ 3 12]",
         "edivtm3"
        ],
        [
         "16",
         "Thank you friend",
         "[15]",
         "eeqd04y"
        ],
        [
         "17",
         "Fucking coward.",
         "[2]",
         "edk0z9k"
        ],
        [
         "18",
         "that is what retardation looks like",
         "[27]",
         "eeb9aft"
        ],
        [
         "19",
         "Maybe that’s what happened to the great white at Houston zoo",
         "[ 6 22]",
         "eczq8zg"
        ],
        [
         "20",
         "I never thought it was at the same moment, but sometimes after [NAME] sacrifice... sounds logical",
         "[ 6  9 27]",
         "efdlhs1"
        ],
        [
         "21",
         "i got a bump and a bald spot. i feel dumb <3",
         "[12]",
         "ee4tgim"
        ],
        [
         "22",
         "You are going to do the dishes now",
         "[27]",
         "ee7it59"
        ],
        [
         "23",
         "Slowing things down now",
         "[27]",
         "ed4nz06"
        ],
        [
         "24",
         "His name has already been released. Just can't post it here.",
         "[27]",
         "ee18uaj"
        ],
        [
         "25",
         "Stupidly stubborn / stubbornly stupid",
         "[2]",
         "edkh6qo"
        ],
        [
         "26",
         "Mine was apparently [NAME] and the giant peach!",
         "[27]",
         "edafy84"
        ],
        [
         "27",
         "I miss them being alive",
         "[16 25]",
         "ee8mzwa"
        ],
        [
         "28",
         "Super, thanks",
         "[15]",
         "ef462jc"
        ],
        [
         "29",
         "A new study just came out from China that it's actually too late.",
         "[27]",
         "ee62fgk"
        ],
        [
         "30",
         "Troll, bro. They know they're saying stupid shit. The motherfucker does nothing but stink up libertarian subs talking shit",
         "[2]",
         "eebcbcp"
        ],
        [
         "31",
         "All sounds possible except the key, I can't see how it was missed in the first search. ",
         "[6]",
         "ed7wf2c"
        ],
        [
         "32",
         "Your aunt has some damn nerve, though!",
         "[27]",
         "edmcxu7"
        ],
        [
         "33",
         "Ok, then what the actual fuck is your plan?",
         "[2 7]",
         "ee7ujla"
        ],
        [
         "34",
         "What does FPTP have to do with the referendum?",
         "[6]",
         "edtqqyi"
        ],
        [
         "35",
         "Happy to be able to help.",
         "[17]",
         "efeu6uo"
        ],
        [
         "36",
         "18 is hot but very bland, it's just here this blonde lady who is not as hot as blonde launch.",
         "[27]",
         "ef81n89"
        ],
        [
         "37",
         "Famous for his 3-4 Defense",
         "[0]",
         "ednhqdr"
        ],
        [
         "38",
         "Pretty sure I’ve seen this. He swings away with the harness he is wearing. Still looks painful but I think he lives",
         "[25]",
         "ed0i62x"
        ],
        [
         "39",
         "When I feel down I listen to music.",
         "[27]",
         "ed6mn9k"
        ],
        [
         "40",
         "aw, thanks! I appreciate that! ",
         "[ 0 15]",
         "eecj1hh"
        ],
        [
         "41",
         "Thanks! I love watching him every week",
         "[15 18]",
         "eexgn84"
        ],
        [
         "42",
         "I read on a different post that he died shortly after of internal injuries.",
         "[16 27]",
         "ed2wzm6"
        ],
        [
         "43",
         "Honestly it sounds exhausting being married to him. Maybe it will be better for you in the long run.",
         "[27]",
         "ef7hdbf"
        ],
        [
         "44",
         "It's crazy how far Photoshop has come. Underwater bridges?!! NEVER!!!",
         "[ 7 13]",
         "efanc6t"
        ],
        [
         "45",
         "I wouldn't let a sweet potato dictate decisions, ever.",
         "[10]",
         "eddo15s"
        ],
        [
         "46",
         "It's true though. He either gets no shirt and freezes to death or wears a stupid looking butchers cape. I hope he gets something better next season",
         "[20]",
         "edrbhky"
        ],
        [
         "47",
         "It's a better option because it's my life and none of your business? Lmfao, who are you",
         "[27]",
         "ednnkuc"
        ],
        [
         "48",
         "Sack, shaft, and tip. The trifecta. ",
         "[27]",
         "edly6hm"
        ],
        [
         "49",
         "I know. My question was if they **used** to compete in T5-TTT2.",
         "[27]",
         "efdj3ai"
        ]
       ],
       "shape": {
        "columns": 3,
        "rows": 43410
       }
      },
      "text/html": [
       "<div>\n",
       "<style scoped>\n",
       "    .dataframe tbody tr th:only-of-type {\n",
       "        vertical-align: middle;\n",
       "    }\n",
       "\n",
       "    .dataframe tbody tr th {\n",
       "        vertical-align: top;\n",
       "    }\n",
       "\n",
       "    .dataframe thead th {\n",
       "        text-align: right;\n",
       "    }\n",
       "</style>\n",
       "<table border=\"1\" class=\"dataframe\">\n",
       "  <thead>\n",
       "    <tr style=\"text-align: right;\">\n",
       "      <th></th>\n",
       "      <th>text</th>\n",
       "      <th>labels</th>\n",
       "      <th>id</th>\n",
       "    </tr>\n",
       "  </thead>\n",
       "  <tbody>\n",
       "    <tr>\n",
       "      <th>0</th>\n",
       "      <td>My favourite food is anything I didn't have to...</td>\n",
       "      <td>[27]</td>\n",
       "      <td>eebbqej</td>\n",
       "    </tr>\n",
       "    <tr>\n",
       "      <th>1</th>\n",
       "      <td>Now if he does off himself, everyone will thin...</td>\n",
       "      <td>[27]</td>\n",
       "      <td>ed00q6i</td>\n",
       "    </tr>\n",
       "    <tr>\n",
       "      <th>2</th>\n",
       "      <td>WHY THE FUCK IS BAYLESS ISOING</td>\n",
       "      <td>[2]</td>\n",
       "      <td>eezlygj</td>\n",
       "    </tr>\n",
       "    <tr>\n",
       "      <th>3</th>\n",
       "      <td>To make her feel threatened</td>\n",
       "      <td>[14]</td>\n",
       "      <td>ed7ypvh</td>\n",
       "    </tr>\n",
       "    <tr>\n",
       "      <th>4</th>\n",
       "      <td>Dirty Southern Wankers</td>\n",
       "      <td>[3]</td>\n",
       "      <td>ed0bdzj</td>\n",
       "    </tr>\n",
       "    <tr>\n",
       "      <th>...</th>\n",
       "      <td>...</td>\n",
       "      <td>...</td>\n",
       "      <td>...</td>\n",
       "    </tr>\n",
       "    <tr>\n",
       "      <th>43405</th>\n",
       "      <td>Added you mate well I’ve just got the bow and ...</td>\n",
       "      <td>[18]</td>\n",
       "      <td>edsb738</td>\n",
       "    </tr>\n",
       "    <tr>\n",
       "      <th>43406</th>\n",
       "      <td>Always thought that was funny but is it a refe...</td>\n",
       "      <td>[6]</td>\n",
       "      <td>ee7fdou</td>\n",
       "    </tr>\n",
       "    <tr>\n",
       "      <th>43407</th>\n",
       "      <td>What are you talking about? Anything bad that ...</td>\n",
       "      <td>[3]</td>\n",
       "      <td>efgbhks</td>\n",
       "    </tr>\n",
       "    <tr>\n",
       "      <th>43408</th>\n",
       "      <td>More like a baptism, with sexy results!</td>\n",
       "      <td>[13]</td>\n",
       "      <td>ed1naf8</td>\n",
       "    </tr>\n",
       "    <tr>\n",
       "      <th>43409</th>\n",
       "      <td>Enjoy the ride!</td>\n",
       "      <td>[17]</td>\n",
       "      <td>eecwmbq</td>\n",
       "    </tr>\n",
       "  </tbody>\n",
       "</table>\n",
       "<p>43410 rows × 3 columns</p>\n",
       "</div>"
      ],
      "text/plain": [
       "                                                    text labels       id\n",
       "0      My favourite food is anything I didn't have to...   [27]  eebbqej\n",
       "1      Now if he does off himself, everyone will thin...   [27]  ed00q6i\n",
       "2                         WHY THE FUCK IS BAYLESS ISOING    [2]  eezlygj\n",
       "3                            To make her feel threatened   [14]  ed7ypvh\n",
       "4                                 Dirty Southern Wankers    [3]  ed0bdzj\n",
       "...                                                  ...    ...      ...\n",
       "43405  Added you mate well I’ve just got the bow and ...   [18]  edsb738\n",
       "43406  Always thought that was funny but is it a refe...    [6]  ee7fdou\n",
       "43407  What are you talking about? Anything bad that ...    [3]  efgbhks\n",
       "43408            More like a baptism, with sexy results!   [13]  ed1naf8\n",
       "43409                                    Enjoy the ride!   [17]  eecwmbq\n",
       "\n",
       "[43410 rows x 3 columns]"
      ]
     },
     "execution_count": 20,
     "metadata": {},
     "output_type": "execute_result"
    }
   ],
   "source": [
    "data_hf['train'].to_pandas()"
   ]
  },
  {
   "cell_type": "code",
   "execution_count": 28,
   "id": "2ebbf59a",
   "metadata": {},
   "outputs": [],
   "source": [
    "train_y = [x[0] for x in data_hf['train']['labels']]\n",
    "val_y = [x[0] for x in data_hf['validation']['labels']]\n",
    "test_y = [x[0] for x in data_hf['test']['labels']]"
   ]
  },
  {
   "cell_type": "code",
   "execution_count": 70,
   "id": "17c28263",
   "metadata": {},
   "outputs": [
    {
     "name": "stdout",
     "output_type": "stream",
     "text": [
      "Vocabulary size: 5000\n",
      "Sample vocab: [('<PAD>', 0), ('<UNK>', 1), ('the', 2), ('i', 3), ('to', 4), ('a', 5), ('and', 6), ('you', 7), ('is', 8), ('that', 9)]\n",
      "Train shape: torch.Size([43410, 16]), torch.Size([43410])\n",
      "Val shape: torch.Size([5426, 16]), torch.Size([5426])\n",
      "Test shape: torch.Size([5427, 16]), torch.Size([5427])\n"
     ]
    }
   ],
   "source": [
    "# Text preprocessing and tokenization\n",
    "from collections import Counter\n",
    "import numpy as np\n",
    "\n",
    "class TextDataProcessor:\n",
    "    def __init__(self, vocab_size=10000, max_length=128):\n",
    "        self.vocab_size = vocab_size\n",
    "        self.max_length = max_length\n",
    "        self.word_to_idx = {}\n",
    "        self.idx_to_word = {}\n",
    "        self.vocab_built = False\n",
    "        \n",
    "    def build_vocab(self, texts):\n",
    "        \"\"\"Build vocabulary from training texts\"\"\"\n",
    "        word_counts = Counter()\n",
    "        for text in texts:\n",
    "            words = text.lower().split()\n",
    "            word_counts.update(words)\n",
    "        \n",
    "        # Keep most frequent words\n",
    "        most_common = word_counts.most_common(self.vocab_size - 2)  # -2 for PAD and UNK\n",
    "        \n",
    "        # Build mappings\n",
    "        self.word_to_idx = {'<PAD>': 0, '<UNK>': 1}\n",
    "        self.idx_to_word = {0: '<PAD>', 1: '<UNK>'}\n",
    "        \n",
    "        for i, (word, _) in enumerate(most_common, start=2):\n",
    "            self.word_to_idx[word] = i\n",
    "            self.idx_to_word[i] = word\n",
    "            \n",
    "        self.vocab_built = True\n",
    "        \n",
    "    def text_to_indices(self, text):\n",
    "        \"\"\"Convert text to sequence of indices\"\"\"\n",
    "        words = text.lower().split()\n",
    "        indices = []\n",
    "        for word in words:\n",
    "            idx = self.word_to_idx.get(word, 1)  # 1 is UNK token\n",
    "            indices.append(idx)\n",
    "        \n",
    "        # Pad or truncate to max_length\n",
    "        if len(indices) < self.max_length:\n",
    "            indices.extend([0] * (self.max_length - len(indices)))\n",
    "        else:\n",
    "            indices = indices[:self.max_length]\n",
    "            \n",
    "        return indices\n",
    "\n",
    "# Process the go_emotions dataset\n",
    "processor = TextDataProcessor(vocab_size=5000, max_length=16)\n",
    "\n",
    "# Extract texts from training set\n",
    "train_texts = [example['text'] for example in data_hf['train']]\n",
    "processor.build_vocab(train_texts)\n",
    "\n",
    "print(f\"Vocabulary size: {len(processor.word_to_idx)}\")\n",
    "print(f\"Sample vocab: {list(processor.word_to_idx.items())[:10]}\")\n",
    "\n",
    "# Convert texts to indices\n",
    "train_sequences = [processor.text_to_indices(text) for text in train_texts]\n",
    "val_sequences = [processor.text_to_indices(text) for text in data_hf['validation']['text']]\n",
    "test_sequences = [processor.text_to_indices(text) for text in data_hf['test']['text']]\n",
    "\n",
    "# Convert to tensors\n",
    "train_X = torch.tensor(train_sequences)\n",
    "val_X = torch.tensor(val_sequences)\n",
    "test_X = torch.tensor(test_sequences)\n",
    "\n",
    "# Get labels (multi-label classification)\n",
    "train_y = torch.tensor(train_y)\n",
    "val_y = torch.tensor(val_y)\n",
    "test_y = torch.tensor(test_y)\n",
    "\n",
    "print(f\"Train shape: {train_X.shape}, {train_y.shape}\")\n",
    "print(f\"Val shape: {val_X.shape}, {val_y.shape}\")\n",
    "print(f\"Test shape: {test_X.shape}, {test_y.shape}\")"
   ]
  },
  {
   "cell_type": "code",
   "execution_count": 71,
   "id": "fcca83d9",
   "metadata": {},
   "outputs": [
    {
     "data": {
      "text/plain": [
       "tensor[43410, 16] i64 n=694560 (5.3Mb) x∈[0, 4999] μ=286.897 σ=752.645\n",
       "tensor([[  17, 1225,  708,  ...,    0,    0,    0],\n",
       "        [  95,   32,   30,  ..., 4177,   27,   49],\n",
       "        [  84,    2,  203,  ...,    0,    0,    0],\n",
       "        ...,\n",
       "        [  31,   26,    7,  ...,   82,   50,  192],\n",
       "        [  61,   25,    5,  ...,    0,    0,    0],\n",
       "        [ 333,    2,    1,  ...,    0,    0,    0]])"
      ]
     },
     "execution_count": 71,
     "metadata": {},
     "output_type": "execute_result"
    }
   ],
   "source": [
    "train_X.v"
   ]
  },
  {
   "cell_type": "markdown",
   "id": "e7cc1f12",
   "metadata": {},
   "source": [
    "The training dataset is a large matrix - 43410x16 in size. We will have to take small sets of data (batches) onto the GPU to train the model. Let's code a dataloader now."
   ]
  },
  {
   "cell_type": "code",
   "execution_count": 144,
   "id": "c892a539",
   "metadata": {},
   "outputs": [],
   "source": [
    "from torch.utils.data import DataLoader, TensorDataset\n",
    "\n",
    "batch_size = 8\n",
    "\n",
    "train_dataset = TensorDataset(train_X, train_y)\n",
    "val_dataset = TensorDataset(val_X, val_y)\n",
    "\n",
    "train_dataloader = DataLoader(train_dataset, batch_size=8, shuffle=False, num_workers=0)\n",
    "val_dataloader = DataLoader(val_dataset, batch_size=8, shuffle=False, num_workers=0)"
   ]
  },
  {
   "cell_type": "code",
   "execution_count": 145,
   "id": "4bb9e4f1",
   "metadata": {},
   "outputs": [
    {
     "name": "stdout",
     "output_type": "stream",
     "text": [
      "Batch input shape: torch.Size([8, 16])\n",
      "Batch target shape: torch.Size([8])\n",
      "Target values: tensor[8] i64 x∈[2, 27] μ=15.250 σ=10.498 [27, 27, 2, 14, 3, 26, 15, 8]\n"
     ]
    }
   ],
   "source": [
    "for batch_x, batch_y in train_dataloader:\n",
    "    print(f\"Batch input shape: {batch_x.shape}\")\n",
    "    print(f\"Batch target shape: {batch_y.shape}\")\n",
    "    print(f\"Target values:\", batch_y)\n",
    "    break"
   ]
  },
  {
   "cell_type": "code",
   "execution_count": 146,
   "id": "4119fa45",
   "metadata": {},
   "outputs": [
    {
     "name": "stdout",
     "output_type": "stream",
     "text": [
      "tensor[8, 16] i64 n=128 (1Kb) x∈[0, 4576] μ=326.953 σ=864.634\n",
      "tensor([[  17, 1225,  708,    8,  225,    3,  133,   24,    4,    1, 1323,    0,\n",
      "            0,    0,    0,    0],\n",
      "        [  95,   32,   30,  164,  166,    1,  197,   64,   55, 1226,  238,    5,\n",
      "          571, 4177,   27,   49],\n",
      "        [  84,    2,  203,    8,    1,    1,    0,    0,    0,    0,    0,    0,\n",
      "            0,    0,    0,    0],\n",
      "        [   4,  102,   68,  107,    1,    0,    0,    0,    0,    0,    0,    0,\n",
      "            0,    0,    0,    0],\n",
      "        [1877, 3333,    1,    0,    0,    0,    0,    0,    0,    0,    0,    0,\n",
      "            0,    0,    0,    0],\n",
      "        [ 418,    1,  222,   50,  271,    4,  235,  172,   14,    2,    1, 2035,\n",
      "         4575,  659,    1, 4576],\n",
      "        [ 303,    3,  316,    1,    2, 2187,    1,    9,   65,    4,   19, 2525,\n",
      "           89,   15,   29,    1],\n",
      "        [  43,  123,   61,    1,    6,    4, 1501,    5,  346,   61, 1129,   15,\n",
      "          101,  110, 2960,   19]]) tensor[8] i64 x∈[2, 27] μ=15.250 σ=10.498 [27, 27, 2, 14, 3, 26, 15, 8]\n",
      "tensor([27, 27,  2, 14,  3, 26, 15,  8])\n"
     ]
    }
   ],
   "source": [
    "for b_x, b_y in train_dataloader:\n",
    "    print(b_x.v, b_y.v)\n",
    "    break"
   ]
  },
  {
   "cell_type": "code",
   "execution_count": 147,
   "id": "ae616e47",
   "metadata": {},
   "outputs": [
    {
     "name": "stdout",
     "output_type": "stream",
     "text": [
      "tensor grad MeanBackward0 -0.522\n"
     ]
    },
    {
     "data": {
      "text/plain": [
       "tensor grad SelectBackward0 -0.522"
      ]
     },
     "execution_count": 147,
     "metadata": {},
     "output_type": "execute_result"
    }
   ],
   "source": [
    "torch.manual_seed(42)\n",
    "layer = torch.nn.Embedding(5000, 32)\n",
    "layer(b_x).mean(dim=1)\n",
    "\n",
    "print(layer(b_x)[1,:,0].mean())\n",
    "layer(b_x).mean(dim=1)[1,0]\n"
   ]
  },
  {
   "cell_type": "code",
   "execution_count": 148,
   "id": "4851a078",
   "metadata": {},
   "outputs": [
    {
     "name": "stdout",
     "output_type": "stream",
     "text": [
      "tensor grad MeanBackward0 0.327\n"
     ]
    },
    {
     "data": {
      "text/plain": [
       "tensor grad SelectBackward0 0.327"
      ]
     },
     "execution_count": 148,
     "metadata": {},
     "output_type": "execute_result"
    }
   ],
   "source": [
    "print(layer(b_x)[0,:,0].mean())\n",
    "layer(b_x).mean(dim=1)[0,0]"
   ]
  },
  {
   "cell_type": "code",
   "execution_count": 149,
   "id": "5a48f1a0",
   "metadata": {},
   "outputs": [
    {
     "data": {
      "text/plain": [
       "tensor[16] x∈[-2.510, 1.931] μ=0.327 σ=1.514 grad SelectBackward0\n",
       "tensor([-1.7376, -0.8741,  0.7397, -0.6855,  0.5755, -2.5095, -0.5063,  0.3444,\n",
       "         1.9312, -1.3847, -0.2959,  1.9269,  1.9269,  1.9269,  1.9269,  1.9269],\n",
       "       grad_fn=<SelectBackward0>)"
      ]
     },
     "execution_count": 149,
     "metadata": {},
     "output_type": "execute_result"
    }
   ],
   "source": [
    "layer(b_x)[0,:,0].v"
   ]
  },
  {
   "cell_type": "code",
   "execution_count": 150,
   "id": "a2ec4685",
   "metadata": {},
   "outputs": [
    {
     "data": {
      "text/plain": [
       "tensor[8, 16] i64 n=128 (1Kb) x∈[0, 4576] μ=326.953 σ=864.634\n",
       "tensor([[  17, 1225,  708,    8,  225,    3,  133,   24,    4,    1, 1323,    0,\n",
       "            0,    0,    0,    0],\n",
       "        [  95,   32,   30,  164,  166,    1,  197,   64,   55, 1226,  238,    5,\n",
       "          571, 4177,   27,   49],\n",
       "        [  84,    2,  203,    8,    1,    1,    0,    0,    0,    0,    0,    0,\n",
       "            0,    0,    0,    0],\n",
       "        [   4,  102,   68,  107,    1,    0,    0,    0,    0,    0,    0,    0,\n",
       "            0,    0,    0,    0],\n",
       "        [1877, 3333,    1,    0,    0,    0,    0,    0,    0,    0,    0,    0,\n",
       "            0,    0,    0,    0],\n",
       "        [ 418,    1,  222,   50,  271,    4,  235,  172,   14,    2,    1, 2035,\n",
       "         4575,  659,    1, 4576],\n",
       "        [ 303,    3,  316,    1,    2, 2187,    1,    9,   65,    4,   19, 2525,\n",
       "           89,   15,   29,    1],\n",
       "        [  43,  123,   61,    1,    6,    4, 1501,    5,  346,   61, 1129,   15,\n",
       "          101,  110, 2960,   19]])"
      ]
     },
     "execution_count": 150,
     "metadata": {},
     "output_type": "execute_result"
    }
   ],
   "source": [
    "b_x.v"
   ]
  },
  {
   "cell_type": "code",
   "execution_count": 151,
   "id": "670ae4e1",
   "metadata": {},
   "outputs": [
    {
     "data": {
      "text/plain": [
       "Parameter[5000, 32] n=160000 (0.6Mb) x∈[-4.590, 4.629] μ=0.001 σ=1.005 grad\n",
       "tensor([[ 1.9269,  1.4873,  0.9007,  ...,  0.0418, -0.2516,  0.8599],\n",
       "        [-1.3847, -0.8712, -0.2234,  ...,  1.8446, -1.1845,  1.3835],\n",
       "        [ 1.4451,  0.8564,  2.2181,  ..., -0.8278,  1.3347,  0.4835],\n",
       "        ...,\n",
       "        [-0.2440, -0.0216, -0.9097,  ..., -1.2965, -0.6345, -2.7169],\n",
       "        [ 1.9982, -1.2546,  2.2254,  ...,  0.2484,  0.4467,  1.4540],\n",
       "        [ 0.3497,  0.3841,  0.3548,  ..., -0.8024, -0.0384, -1.6425]],\n",
       "       requires_grad=True)"
      ]
     },
     "execution_count": 151,
     "metadata": {},
     "output_type": "execute_result"
    }
   ],
   "source": [
    "layer.weight.v"
   ]
  },
  {
   "cell_type": "code",
   "execution_count": 152,
   "id": "90374ce9",
   "metadata": {},
   "outputs": [
    {
     "data": {
      "text/plain": [
       "tensor[32] x∈[-2.072, 2.622] μ=0.182 σ=1.111 grad SliceBackward0\n",
       "tensor([-1.7376, -0.1254, -1.3658,  1.1117, -0.6228, -0.7892, -0.1678,  1.6433,\n",
       "         2.0071, -1.2531,  1.1189,  1.7733, -2.0717, -0.4125, -0.9770, -0.0336,\n",
       "         1.8595,  2.6221,  0.3691,  0.3803,  0.1990, -0.2361,  0.3034, -0.4501,\n",
       "         0.4739,  0.6503,  1.1662,  0.0169,  0.5326, -0.6035, -0.1743,  0.6092],\n",
       "       grad_fn=<SliceBackward0>)"
      ]
     },
     "execution_count": 152,
     "metadata": {},
     "output_type": "execute_result"
    }
   ],
   "source": [
    "layer.weight[17,:].v"
   ]
  },
  {
   "cell_type": "code",
   "execution_count": 153,
   "id": "41812e89",
   "metadata": {},
   "outputs": [
    {
     "data": {
      "text/plain": [
       "(tensor[6] x∈[1.000, 6.000] μ=3.500 σ=1.871 [1.000, 2.000, 3.000, 4.000, 5.000, 6.000]\n",
       " tensor([1., 2., 3., 4., 5., 6.]),\n",
       " tensor[6] x∈[0., 6.000] μ=1.000 σ=2.449 [0., 0., 6.000, 0., 0., 0.]\n",
       " tensor([0., 0., 6., 0., 0., 0.]))"
      ]
     },
     "execution_count": 153,
     "metadata": {},
     "output_type": "execute_result"
    }
   ],
   "source": [
    "t = torch.tensor([1,2,3,4,5,6]).float()\n",
    "drop = torch.nn.Dropout(0.5)\n",
    "t.v, drop(t).v"
   ]
  },
  {
   "cell_type": "code",
   "execution_count": 154,
   "id": "ca3efc80",
   "metadata": {},
   "outputs": [
    {
     "data": {
      "text/plain": [
       "(tensor[3, 4] n=12 x∈[-2.470, 1.131] μ=0.019 σ=1.026\n",
       " tensor([[ 0.0178,  1.0226,  0.3331,  0.5471],\n",
       "         [ 0.3703, -0.5445, -1.1776,  1.1312],\n",
       "         [ 0.0808,  0.9616, -2.4696, -0.0486]]),\n",
       " tensor[3, 4] n=12 x∈[-4.939, 2.045] μ=-0.116 σ=1.636\n",
       " tensor([[ 0.0356,  2.0453,  0.6662,  0.0000],\n",
       "         [ 0.7406, -0.0000, -0.0000,  0.0000],\n",
       "         [ 0.1616,  0.0000, -4.9393, -0.0973]]))"
      ]
     },
     "execution_count": 154,
     "metadata": {},
     "output_type": "execute_result"
    }
   ],
   "source": [
    "t = torch.randn((3,4)).float()\n",
    "drop = torch.nn.Dropout2d(0.5)\n",
    "t.v, drop(t).v"
   ]
  },
  {
   "cell_type": "markdown",
   "id": "8329d073",
   "metadata": {},
   "source": [
    "Once the embedding layer is defined, we need to reduce along the sequence axis so that we have batch_size x emb_sz number of elements left."
   ]
  },
  {
   "cell_type": "markdown",
   "id": "42f3091f",
   "metadata": {},
   "source": [
    "# Define the word embedding + classification model"
   ]
  },
  {
   "cell_type": "code",
   "execution_count": 155,
   "id": "a473da1c",
   "metadata": {},
   "outputs": [],
   "source": [
    "class EmbeddingClassifier(torch.nn.Module):\n",
    "    def __init__(self, vocab_size, emb_sz, hidden_dim, num_classes, dropout_rate=0.5):\n",
    "        super().__init__()\n",
    "        self.embedding = torch.nn.Embedding(vocab_size, emb_sz, padding_idx=0)\n",
    "        self.dropout1  = torch.nn.Dropout(p=dropout_rate)\n",
    "        self.fc1       = torch.nn.Linear(emb_sz, hidden_dim, bias=True)\n",
    "        self.dropout2  = torch.nn.Dropout(p=dropout_rate)\n",
    "        self.relu      = torch.nn.ReLU()\n",
    "        self.fc2       = torch.nn.Linear(hidden_dim, num_classes, bias=True)\n",
    "\n",
    "    def forward(self, x):\n",
    "        x = self.embedding(x)      # x shape: (batch_size, seq_len, emb_sz)\n",
    "        x = self.dropout1(x)       # x shape: (batch_size, seq_len, emb_sz)\n",
    "        \n",
    "        # Pooling across the sequence dimension\n",
    "        x = x.mean(dim=1)          # x shape: (batch_size, emb_sz)\n",
    "\n",
    "        # FFNs\n",
    "        x = self.fc1(x)            # x shape: (batch_size, hidden_dim)\n",
    "        x = self.relu(x)           # x shape: (batch_size, hidden_dim)\n",
    "        x = self.fc2(x)            # x shape: (batch_size, num_classes)\n",
    "        return x\n"
   ]
  },
  {
   "cell_type": "code",
   "execution_count": 156,
   "id": "59a897a7",
   "metadata": {},
   "outputs": [
    {
     "data": {
      "text/plain": [
       "[160000, 160, 5, 140, 28]"
      ]
     },
     "execution_count": 156,
     "metadata": {},
     "output_type": "execute_result"
    }
   ],
   "source": [
    "model = EmbeddingClassifier(vocab_size=5000, emb_sz=emb_sz, hidden_dim=hidden_dim, num_classes=num_classes)\n",
    "[p.numel() for p in model.parameters()]"
   ]
  },
  {
   "cell_type": "code",
   "execution_count": 157,
   "id": "c35a9bda",
   "metadata": {},
   "outputs": [],
   "source": [
    "emb_sz = 32\n",
    "hidden_dim = 5\n",
    "num_classes = 28"
   ]
  },
  {
   "cell_type": "markdown",
   "id": "18ba7213",
   "metadata": {},
   "source": [
    "# Run the forward pass with cross entropy loss function"
   ]
  },
  {
   "cell_type": "code",
   "execution_count": 158,
   "id": "07030bc4",
   "metadata": {},
   "outputs": [],
   "source": [
    "# from torchinfo import summary\n",
    "\n",
    "# model = EmbeddingClassifier(vocab_size=5000, emb_sz=emb_sz, hidden_dim=hidden_dim, output_dim=output_dim)\n",
    "# summary(model, input_size=(1, 8, 32))"
   ]
  },
  {
   "cell_type": "code",
   "execution_count": null,
   "id": "75760104",
   "metadata": {},
   "outputs": [],
   "source": []
  },
  {
   "cell_type": "markdown",
   "id": "8f2de9c0",
   "metadata": {},
   "source": [
    "As we have multiple batches in our training dataset, we need to batch the inputs to the model."
   ]
  },
  {
   "cell_type": "code",
   "execution_count": null,
   "id": "dc99c00d",
   "metadata": {},
   "outputs": [
    {
     "name": "stdout",
     "output_type": "stream",
     "text": [
      " epoch: 000/020 | train_loss:  3.833348 | val_loss:  1844.920487\n",
      " epoch: 001/020 | train_loss:  3.807560 | val_loss:  1821.960250\n",
      " epoch: 002/020 | train_loss:  3.810906 | val_loss:  1795.788166\n",
      " epoch: 003/020 | train_loss:  3.996794 | val_loss:  1763.393883\n",
      " epoch: 004/020 | train_loss:  3.907964 | val_loss:  1736.317468\n",
      " epoch: 005/020 | train_loss:  3.736235 | val_loss:  1718.434201\n",
      " epoch: 006/020 | train_loss:  3.896534 | val_loss:  1695.913247\n",
      " epoch: 007/020 | train_loss:  3.875441 | val_loss:  1681.688869\n",
      " epoch: 008/020 | train_loss:  3.883334 | val_loss:  1667.356383\n",
      " epoch: 009/020 | train_loss:  3.803462 | val_loss:  1643.947300\n",
      " epoch: 010/020 | train_loss:  3.732110 | val_loss:  1638.285661\n",
      " epoch: 011/020 | train_loss:  3.640146 | val_loss:  1622.126497\n",
      " epoch: 012/020 | train_loss:  3.704742 | val_loss:  1610.483477\n",
      " epoch: 013/020 | train_loss:  3.597703 | val_loss:  1598.834162\n",
      " epoch: 014/020 | train_loss:  3.626173 | val_loss:  1590.968181\n",
      " epoch: 015/020 | train_loss:  3.595278 | val_loss:  1583.938376\n",
      " epoch: 016/020 | train_loss:  3.548267 | val_loss:  1567.362430\n",
      " epoch: 017/020 | train_loss:  3.447900 | val_loss:  1560.669485\n",
      " epoch: 018/020 | train_loss:  3.510250 | val_loss:  1563.105670\n",
      " epoch: 019/020 | train_loss:  3.255547 | val_loss:  1552.733774\n"
     ]
    }
   ],
   "source": [
    "w_means = []\n",
    "w_norms = []\n",
    "g_means = []\n",
    "g_norms = []\n",
    "losses  = []\n",
    "val_losses = []\n",
    "\n",
    "torch.manual_seed(42)\n",
    "model = EmbeddingClassifier(vocab_size=5000, emb_sz=emb_sz, hidden_dim=hidden_dim, num_classes=num_classes)\n",
    "criterion = torch.nn.CrossEntropyLoss() # using cross-entropy loss as we're treating this as a multi-class classification problem\n",
    "# criterion = torch.nn.BCEWithLogitsLoss() # if multi-label :)\n",
    "optimizer = torch.optim.Adam(model.parameters(), lr=3e-4)\n",
    "\n",
    "n_epochs = 20\n",
    "for i in range(n_epochs):\n",
    "    \n",
    "    for batch_x, batch_y in train_dataloader:\n",
    "        y_pred = model(batch_x)\n",
    "\n",
    "        # print(y_pred.v)\n",
    "        # print(\"====\")\n",
    "        # print(batch_y.v)\n",
    "        # break\n",
    "\n",
    "        loss = criterion(y_pred, batch_y)\n",
    "\n",
    "        # reset the gradients\n",
    "        optimizer.zero_grad()\n",
    "        \n",
    "        # backward pass\n",
    "        loss.backward()\n",
    "\n",
    "        # update the weights by a small amount\n",
    "        optimizer.step()\n",
    "\n",
    "        # print(f\" epoch: {i:03d}/{n_epochs:03d} | batch: {b:03d}/train_loss: {loss: 3f} | val_loss: {val_loss: 3f}\")\n",
    "\n",
    "    # eval\n",
    "    total_val_loss = 0\n",
    "\n",
    "    with torch.no_grad():\n",
    "        for batch_x, batch_y in val_dataloader:\n",
    "            val_preds = model(batch_x)\n",
    "\n",
    "            val_loss = criterion(val_preds, batch_y)\n",
    "            total_val_loss += val_loss.item()\n",
    "    # val_loss = torch.square(torch.abs(val_preds - val_y)).sum()\n",
    "\n",
    "    print(f\" epoch: {i:03d}/{n_epochs:03d} | train_loss: {loss: 3f} | val_loss: {total_val_loss: 3f}\")\n",
    "\n",
    "    all_w_params = torch.cat([p.data.view(-1) for p in model.parameters()])\n",
    "    w_means.append(torch.mean(all_w_params).item())\n",
    "    w_norms.append(torch.norm(all_w_params).item())\n",
    "\n",
    "    all_grad_params = torch.cat([p.grad.data.view(-1) for p in model.parameters()])\n",
    "    g_means.append(torch.mean(all_grad_params).item())\n",
    "    g_norms.append(torch.norm(all_grad_params).item())\n",
    "\n",
    "    losses.append(loss.item())\n",
    "    val_losses.append(val_loss.item())"
   ]
  },
  {
   "cell_type": "markdown",
   "id": "5db31375",
   "metadata": {},
   "source": [
    "The loss values are from the last batch and not a mean value. Let's fix it."
   ]
  },
  {
   "cell_type": "code",
   "execution_count": 161,
   "id": "165e5686",
   "metadata": {},
   "outputs": [
    {
     "name": "stdout",
     "output_type": "stream",
     "text": [
      " epoch: 000/020 | train_loss:  2.834944 | val_loss:  2.717114\n",
      " epoch: 001/020 | train_loss:  2.694907 | val_loss:  2.683299\n",
      " epoch: 002/020 | train_loss:  2.661216 | val_loss:  2.644754\n",
      " epoch: 003/020 | train_loss:  2.618639 | val_loss:  2.597045\n",
      " epoch: 004/020 | train_loss:  2.575573 | val_loss:  2.557169\n",
      " epoch: 005/020 | train_loss:  2.536135 | val_loss:  2.530831\n",
      " epoch: 006/020 | train_loss:  2.504621 | val_loss:  2.497663\n",
      " epoch: 007/020 | train_loss:  2.474413 | val_loss:  2.476714\n",
      " epoch: 008/020 | train_loss:  2.445559 | val_loss:  2.455606\n",
      " epoch: 009/020 | train_loss:  2.424702 | val_loss:  2.421130\n",
      " epoch: 010/020 | train_loss:  2.397955 | val_loss:  2.412792\n",
      " epoch: 011/020 | train_loss:  2.372851 | val_loss:  2.388993\n",
      " epoch: 012/020 | train_loss:  2.349384 | val_loss:  2.371846\n",
      " epoch: 013/020 | train_loss:  2.336198 | val_loss:  2.354689\n",
      " epoch: 014/020 | train_loss:  2.313081 | val_loss:  2.343105\n",
      " epoch: 015/020 | train_loss:  2.297725 | val_loss:  2.332752\n",
      " epoch: 016/020 | train_loss:  2.280225 | val_loss:  2.308339\n",
      " epoch: 017/020 | train_loss:  2.266453 | val_loss:  2.298482\n",
      " epoch: 018/020 | train_loss:  2.248320 | val_loss:  2.302070\n",
      " epoch: 019/020 | train_loss:  2.235284 | val_loss:  2.286795\n"
     ]
    }
   ],
   "source": [
    "w_means = []\n",
    "w_norms = []\n",
    "g_means = []\n",
    "g_norms = []\n",
    "losses  = []\n",
    "val_losses = []\n",
    "\n",
    "torch.manual_seed(42)\n",
    "model = EmbeddingClassifier(vocab_size=5000, emb_sz=emb_sz, hidden_dim=hidden_dim, num_classes=num_classes)\n",
    "criterion = torch.nn.CrossEntropyLoss() # using cross-entropy loss as we're treating this as a multi-class classification problem\n",
    "# criterion = torch.nn.BCEWithLogitsLoss() # if multi-label :)\n",
    "optimizer = torch.optim.Adam(model.parameters(), lr=3e-4)\n",
    "\n",
    "n_epochs = 20\n",
    "for i in range(n_epochs):\n",
    "    \n",
    "    total_train_batches = 0\n",
    "    total_train_loss = 0\n",
    "    avg_train_loss = 0.0\n",
    "    for batch_x, batch_y in train_dataloader:\n",
    "        y_pred = model(batch_x)\n",
    "\n",
    "        # print(y_pred.v)\n",
    "        # print(\"====\")\n",
    "        # print(batch_y.v)\n",
    "        # break\n",
    "\n",
    "        loss = criterion(y_pred, batch_y)\n",
    "\n",
    "        # reset the gradients\n",
    "        optimizer.zero_grad()\n",
    "        \n",
    "        # backward pass\n",
    "        loss.backward()\n",
    "\n",
    "        # update the weights by a small amount\n",
    "        optimizer.step()\n",
    "\n",
    "        # print(f\" epoch: {i:03d}/{n_epochs:03d} | batch: {b:03d}/train_loss: {loss: 3f} | val_loss: {val_loss: 3f}\")\n",
    "        \n",
    "        total_train_batches += 1\n",
    "        total_train_loss += loss.item()\n",
    "\n",
    "    avg_train_loss = total_train_loss / total_train_batches\n",
    "\n",
    "    # eval\n",
    "    total_val_batches = 0\n",
    "    total_val_loss = 0\n",
    "\n",
    "    with torch.no_grad():\n",
    "        for batch_x, batch_y in val_dataloader:\n",
    "            val_preds = model(batch_x)\n",
    "\n",
    "            val_loss = criterion(val_preds, batch_y)\n",
    "            total_val_loss += val_loss.item()\n",
    "            total_val_batches += 1\n",
    "    # val_loss = torch.square(torch.abs(val_preds - val_y)).sum()\n",
    "\n",
    "    avg_val_loss = total_val_loss / total_val_batches\n",
    "    print(f\" epoch: {i:03d}/{n_epochs:03d} | train_loss: {avg_train_loss: 3f} | val_loss: {avg_val_loss: 3f}\")\n",
    "\n",
    "    all_w_params = torch.cat([p.data.view(-1) for p in model.parameters()])\n",
    "    w_means.append(torch.mean(all_w_params).item())\n",
    "    w_norms.append(torch.norm(all_w_params).item())\n",
    "\n",
    "    all_grad_params = torch.cat([p.grad.data.view(-1) for p in model.parameters()])\n",
    "    g_means.append(torch.mean(all_grad_params).item())\n",
    "    g_norms.append(torch.norm(all_grad_params).item())\n",
    "\n",
    "    losses.append(loss.item())\n",
    "    val_losses.append(val_loss.item())"
   ]
  },
  {
   "cell_type": "markdown",
   "id": "816af270",
   "metadata": {},
   "source": [
    "Both the training loss and validation loss are going down. That means the model is learning! Let's amp up the learning rate to see faster converge."
   ]
  },
  {
   "cell_type": "code",
   "execution_count": 164,
   "id": "0131875e",
   "metadata": {},
   "outputs": [
    {
     "name": "stdout",
     "output_type": "stream",
     "text": [
      " epoch: 000/020 | train_loss:  2.467545 | val_loss:  2.315868\n",
      " epoch: 001/020 | train_loss:  2.224576 | val_loss:  2.237111\n",
      " epoch: 002/020 | train_loss:  2.123658 | val_loss:  2.216756\n",
      " epoch: 003/020 | train_loss:  2.064914 | val_loss:  2.170507\n",
      " epoch: 004/020 | train_loss:  2.020962 | val_loss:  2.184701\n",
      " epoch: 005/020 | train_loss:  1.994138 | val_loss:  2.217112\n",
      " epoch: 006/020 | train_loss:  1.969891 | val_loss:  2.200451\n",
      " epoch: 007/020 | train_loss:  1.943456 | val_loss:  2.215526\n",
      " epoch: 008/020 | train_loss:  1.932503 | val_loss:  2.203277\n",
      " epoch: 009/020 | train_loss:  1.921020 | val_loss:  2.237689\n",
      " epoch: 010/020 | train_loss:  1.913099 | val_loss:  2.223134\n",
      " epoch: 011/020 | train_loss:  1.893092 | val_loss:  2.255760\n",
      " epoch: 012/020 | train_loss:  1.885688 | val_loss:  2.279672\n",
      " epoch: 013/020 | train_loss:  1.875233 | val_loss:  2.294744\n",
      " epoch: 014/020 | train_loss:  1.870966 | val_loss:  2.279229\n",
      " epoch: 015/020 | train_loss:  1.855157 | val_loss:  2.288633\n",
      " epoch: 016/020 | train_loss:  1.848686 | val_loss:  2.326457\n",
      " epoch: 017/020 | train_loss:  1.844346 | val_loss:  2.346257\n",
      " epoch: 018/020 | train_loss:  1.835928 | val_loss:  2.337835\n",
      " epoch: 019/020 | train_loss:  1.830468 | val_loss:  2.304816\n"
     ]
    }
   ],
   "source": [
    "w_means = []\n",
    "w_norms = []\n",
    "g_means = []\n",
    "g_norms = []\n",
    "losses  = []\n",
    "val_losses = []\n",
    "\n",
    "torch.manual_seed(42)\n",
    "model = EmbeddingClassifier(vocab_size=5000, emb_sz=emb_sz, hidden_dim=hidden_dim, num_classes=num_classes)\n",
    "criterion = torch.nn.CrossEntropyLoss() # using cross-entropy loss as we're treating this as a multi-class classification problem\n",
    "# criterion = torch.nn.BCEWithLogitsLoss() # if multi-label :)\n",
    "optimizer = torch.optim.Adam(model.parameters(), lr=0.01)\n",
    "\n",
    "n_epochs = 20\n",
    "for i in range(n_epochs):\n",
    "    \n",
    "    total_train_batches = 0\n",
    "    total_train_loss = 0\n",
    "    avg_train_loss = 0.0\n",
    "    for batch_x, batch_y in train_dataloader:\n",
    "        y_pred = model(batch_x)\n",
    "\n",
    "        # print(y_pred.v)\n",
    "        # print(\"====\")\n",
    "        # print(batch_y.v)\n",
    "        # break\n",
    "\n",
    "        loss = criterion(y_pred, batch_y)\n",
    "\n",
    "        # reset the gradients\n",
    "        optimizer.zero_grad()\n",
    "        \n",
    "        # backward pass\n",
    "        loss.backward()\n",
    "\n",
    "        # update the weights by a small amount\n",
    "        optimizer.step()\n",
    "\n",
    "        # print(f\" epoch: {i:03d}/{n_epochs:03d} | batch: {b:03d}/train_loss: {loss: 3f} | val_loss: {val_loss: 3f}\")\n",
    "        \n",
    "        total_train_batches += 1\n",
    "        total_train_loss += loss.item()\n",
    "\n",
    "    avg_train_loss = total_train_loss / total_train_batches\n",
    "\n",
    "    # eval\n",
    "    total_val_batches = 0\n",
    "    total_val_loss = 0\n",
    "\n",
    "    with torch.no_grad():\n",
    "        for batch_x, batch_y in val_dataloader:\n",
    "            val_preds = model(batch_x)\n",
    "\n",
    "            val_loss = criterion(val_preds, batch_y)\n",
    "            total_val_loss += val_loss.item()\n",
    "            total_val_batches += 1\n",
    "    # val_loss = torch.square(torch.abs(val_preds - val_y)).sum()\n",
    "\n",
    "    avg_val_loss = total_val_loss / total_val_batches\n",
    "    print(f\" epoch: {i:03d}/{n_epochs:03d} | train_loss: {avg_train_loss: 3f} | val_loss: {avg_val_loss: 3f}\")\n",
    "\n",
    "    all_w_params = torch.cat([p.data.view(-1) for p in model.parameters()])\n",
    "    w_means.append(torch.mean(all_w_params).item())\n",
    "    w_norms.append(torch.norm(all_w_params).item())\n",
    "\n",
    "    all_grad_params = torch.cat([p.grad.data.view(-1) for p in model.parameters()])\n",
    "    g_means.append(torch.mean(all_grad_params).item())\n",
    "    g_norms.append(torch.norm(all_grad_params).item())\n",
    "\n",
    "    losses.append(avg_train_loss)\n",
    "    val_losses.append(avg_val_loss)"
   ]
  },
  {
   "cell_type": "markdown",
   "id": "65c39f55",
   "metadata": {
    "vscode": {
     "languageId": "bat"
    }
   },
   "source": [
    "the model is overfitting now. Maybe the lr was way too high!"
   ]
  },
  {
   "cell_type": "code",
   "execution_count": 165,
   "id": "e960577c",
   "metadata": {},
   "outputs": [
    {
     "data": {
      "image/png": "[encoded data removed]",
      "text/plain": [
       "<Figure size 1200x400 with 2 Axes>"
      ]
     },
     "metadata": {},
     "output_type": "display_data"
    }
   ],
   "source": [
    "import matplotlib.pyplot as plt\n",
    "%matplotlib inline\n",
    "\n",
    "fig, axes = plt.subplots(1, 2, figsize=(12, 4))\n",
    "\n",
    "epochs = list(range(n_epochs))\n",
    "\n",
    "# Plot train and val loss on the same plot\n",
    "axes[0].plot(epochs, losses, label='Train Loss', color='blue', marker='o', linestyle='dashed', alpha=0.7)\n",
    "axes[0].plot(epochs, val_losses, label='Val Loss', color='red', marker='o', linestyle='dashed', alpha=0.7)\n",
    "axes[0].set_xlabel('Epoch')\n",
    "axes[0].set_ylabel('Loss')\n",
    "axes[0].set_title('Train & Val Loss Across Epochs')\n",
    "axes[0].set_xticks(epochs)\n",
    "axes[0].set_ylim(bottom=0)  # Start y-axis from zero\n",
    "axes[0].grid(True)\n",
    "axes[0].legend()\n",
    "\n",
    "# Plot gradient norms\n",
    "axes[1].scatter(epochs, g_norms, color='green')\n",
    "axes[1].plot(epochs, g_norms, linestyle='dashed', alpha=0.5)\n",
    "axes[1].set_xlabel('Epoch')\n",
    "axes[1].set_ylabel('Norm of Grad Parameters')\n",
    "axes[1].set_title('Norm of Grad Parameters Across Epochs')\n",
    "axes[1].set_xticks(epochs)\n",
    "axes[1].set_ylim(bottom=0)  # Start y-axis from zero\n",
    "axes[1].grid(True)\n",
    "\n",
    "plt.tight_layout()\n",
    "plt.show()\n"
   ]
  },
  {
   "cell_type": "markdown",
   "id": "46c0cca5",
   "metadata": {},
   "source": [
    "2 changes.\n",
    "1. We must reduce the learning rate to avoid overfitting.\n",
    "2. Gradient norms are plotted for the last gradient of the batch. However, this is giving us an incomplete picture. We must plot the grad norms for each optimizer step.\n",
    "\n",
    "Let's make those changes."
   ]
  },
  {
   "cell_type": "markdown",
   "id": "4aaeb1c3",
   "metadata": {},
   "source": [
    "# Norms for every optimizer.step() !"
   ]
  },
  {
   "cell_type": "code",
   "execution_count": 166,
   "id": "cf76d970",
   "metadata": {},
   "outputs": [
    {
     "name": "stdout",
     "output_type": "stream",
     "text": [
      " epoch: 000/020 | train_loss:  2.834944 | val_loss:  2.717114\n",
      " epoch: 001/020 | train_loss:  2.694907 | val_loss:  2.683299\n",
      " epoch: 002/020 | train_loss:  2.661216 | val_loss:  2.644754\n",
      " epoch: 003/020 | train_loss:  2.618639 | val_loss:  2.597045\n",
      " epoch: 004/020 | train_loss:  2.575573 | val_loss:  2.557169\n",
      " epoch: 005/020 | train_loss:  2.536135 | val_loss:  2.530831\n",
      " epoch: 006/020 | train_loss:  2.504621 | val_loss:  2.497663\n",
      " epoch: 007/020 | train_loss:  2.474413 | val_loss:  2.476714\n",
      " epoch: 008/020 | train_loss:  2.445559 | val_loss:  2.455606\n",
      " epoch: 009/020 | train_loss:  2.424702 | val_loss:  2.421130\n",
      " epoch: 010/020 | train_loss:  2.397955 | val_loss:  2.412792\n",
      " epoch: 011/020 | train_loss:  2.372851 | val_loss:  2.388993\n",
      " epoch: 012/020 | train_loss:  2.349384 | val_loss:  2.371846\n",
      " epoch: 013/020 | train_loss:  2.336198 | val_loss:  2.354689\n",
      " epoch: 014/020 | train_loss:  2.313081 | val_loss:  2.343105\n",
      " epoch: 015/020 | train_loss:  2.297725 | val_loss:  2.332752\n",
      " epoch: 016/020 | train_loss:  2.280225 | val_loss:  2.308339\n",
      " epoch: 017/020 | train_loss:  2.266453 | val_loss:  2.298482\n",
      " epoch: 018/020 | train_loss:  2.248320 | val_loss:  2.302070\n",
      " epoch: 019/020 | train_loss:  2.235284 | val_loss:  2.286795\n"
     ]
    }
   ],
   "source": [
    "w_means = []\n",
    "w_norms = []\n",
    "g_means = []\n",
    "g_norms = []\n",
    "losses  = []\n",
    "val_losses = []\n",
    "\n",
    "torch.manual_seed(42)\n",
    "model = EmbeddingClassifier(vocab_size=5000, emb_sz=emb_sz, hidden_dim=hidden_dim, num_classes=num_classes)\n",
    "criterion = torch.nn.CrossEntropyLoss() # using cross-entropy loss as we're treating this as a multi-class classification problem\n",
    "# criterion = torch.nn.BCEWithLogitsLoss() # if multi-label :)\n",
    "optimizer = torch.optim.Adam(model.parameters(), lr=3e-4)\n",
    "\n",
    "n_epochs = 20\n",
    "for i in range(n_epochs):\n",
    "    \n",
    "    total_train_batches = 0\n",
    "    total_train_loss = 0\n",
    "    avg_train_loss = 0.0\n",
    "    for batch_x, batch_y in train_dataloader:\n",
    "        y_pred = model(batch_x)\n",
    "\n",
    "        loss = criterion(y_pred, batch_y)\n",
    "\n",
    "        # reset the gradients\n",
    "        optimizer.zero_grad()\n",
    "        \n",
    "        # backward pass\n",
    "        loss.backward()\n",
    "\n",
    "        # update the weights by a small amount\n",
    "        optimizer.step()\n",
    "\n",
    "        # print(f\" epoch: {i:03d}/{n_epochs:03d} | batch: {b:03d}/train_loss: {loss: 3f} | val_loss: {val_loss: 3f}\")\n",
    "        \n",
    "        total_train_batches += 1\n",
    "        total_train_loss += loss.item()\n",
    "\n",
    "        # logging\n",
    "        all_w_params = torch.cat([p.data.view(-1) for p in model.parameters()])\n",
    "        w_means.append(torch.mean(all_w_params).item())\n",
    "        w_norms.append(torch.norm(all_w_params).item())\n",
    "\n",
    "        all_grad_params = torch.cat([p.grad.data.view(-1) for p in model.parameters()])\n",
    "        g_means.append(torch.mean(all_grad_params).item())\n",
    "        g_norms.append(torch.norm(all_grad_params).item())\n",
    "\n",
    "\n",
    "    avg_train_loss = total_train_loss / total_train_batches\n",
    "\n",
    "    # eval\n",
    "    total_val_batches = 0\n",
    "    total_val_loss = 0\n",
    "\n",
    "    with torch.no_grad():\n",
    "        for batch_x, batch_y in val_dataloader:\n",
    "            val_preds = model(batch_x)\n",
    "\n",
    "            val_loss = criterion(val_preds, batch_y)\n",
    "            total_val_loss += val_loss.item()\n",
    "            total_val_batches += 1\n",
    "\n",
    "    avg_val_loss = total_val_loss / total_val_batches\n",
    "    print(f\" epoch: {i:03d}/{n_epochs:03d} | train_loss: {avg_train_loss: 3f} | val_loss: {avg_val_loss: 3f}\")\n",
    "\n",
    "    losses.append(avg_train_loss)\n",
    "    val_losses.append(avg_val_loss)"
   ]
  },
  {
   "cell_type": "code",
   "execution_count": null,
   "id": "f95d3c1c",
   "metadata": {},
   "outputs": [],
   "source": [
    "# import matplotlib.pyplot as plt\n",
    "# %matplotlib inline\n",
    "\n",
    "# fig, axes = plt.subplots(1, 2, figsize=(12, 4))\n",
    "\n",
    "# epochs = list(range(n_epochs))\n",
    "# steps = list(range(total_train_batches * n_epochs))\n",
    "\n",
    "# # Plot train and val loss on the same plot\n",
    "# axes[0].plot(epochs, losses, label='Train Loss', color='blue', marker='o', linestyle='dashed', alpha=0.7)\n",
    "# axes[0].plot(epochs, val_losses, label='Val Loss', color='red', marker='o', linestyle='dashed', alpha=0.7)\n",
    "# axes[0].set_xlabel('Epoch')\n",
    "# axes[0].set_ylabel('Loss')\n",
    "# axes[0].set_title('Train & Val Loss Across Epochs')\n",
    "# axes[0].set_xticks(epochs)\n",
    "# axes[0].set_ylim(bottom=0)  # Start y-axis from zero\n",
    "# axes[0].grid(True)\n",
    "# axes[0].legend()\n",
    "\n",
    "# # Plot gradient norms\n",
    "# axes[1].scatter(steps, g_norms, color='green')\n",
    "# axes[1].plot(steps, g_norms, linestyle='dashed', alpha=0.5)\n",
    "# axes[1].set_xlabel('Steps')\n",
    "# axes[1].set_ylabel('Norm of Grad Parameters')\n",
    "# axes[1].set_title('Norm of Grad Parameters Across steps')\n",
    "# axes[1].set_xticks(steps)\n",
    "# axes[1].set_ylim(bottom=0)  # Start y-axis from zero\n",
    "# axes[1].grid(True)\n",
    "\n",
    "# plt.tight_layout()\n",
    "# plt.show()\n"
   ]
  },
  {
   "cell_type": "code",
   "execution_count": null,
   "id": "31849b6a",
   "metadata": {},
   "outputs": [],
   "source": []
  }
 ],
 "metadata": {
  "kernelspec": {
   "display_name": "learn-env",
   "language": "python",
   "name": "python3"
  },
  "language_info": {
   "codemirror_mode": {
    "name": "ipython",
    "version": 3
   },
   "file_extension": ".py",
   "mimetype": "text/x-python",
   "name": "python",
   "nbconvert_exporter": "python",
   "pygments_lexer": "ipython3",
   "version": "3.12.5"
  }
 },
 "nbformat": 4,
 "nbformat_minor": 5
}
